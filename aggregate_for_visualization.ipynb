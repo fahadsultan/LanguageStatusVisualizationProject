{
 "cells": [
  {
   "cell_type": "code",
   "execution_count": 26,
   "metadata": {},
   "outputs": [],
   "source": [
    "import pandas as pd \n",
    "\n",
    "extinct_langs = pd.read_csv('extinct_languages_with_info.csv')\n",
    "\n",
    "wiki_langs = pd.read_csv('scrapers_organized/wiki_languages_most_recent.csv', index_col=0)\n",
    "\n",
    "region_langs = pd.read_csv('scrapers_organized/wiki_languages_most_recent.csv')"
   ]
  },
  {
   "cell_type": "code",
   "execution_count": null,
   "metadata": {},
   "outputs": [],
   "source": [
    "# # import the iso6393.js file into pandas \n",
    "\n",
    "# iso6393 = pd.read_csv('iso6393.js', sep=':', header=None)\n"
   ]
  },
  {
   "cell_type": "markdown",
   "metadata": {},
   "source": [
    "# Clean Wikipedia Languages Links"
   ]
  },
  {
   "cell_type": "code",
   "execution_count": 12,
   "metadata": {},
   "outputs": [],
   "source": [
    "wiki_langs['family'] = wiki_langs['family'].apply(lambda x: str(x).replace('nan', 'Uknown'))\n",
    "wiki_langs['family'] = wiki_langs['family'].apply(lambda x: str(x).replace('[', ''))\n",
    "wiki_langs['family'] = wiki_langs['family'].apply(lambda x: str(x).replace(']', ''))\n",
    "wiki_langs['family'] = wiki_langs['family'].apply(lambda x: str(x).replace(\"'\", ''))\n",
    "wiki_langs['family'] = wiki_langs['family'].apply(lambda x: str(x).replace(\"?\", ''))\n",
    "# wiki_langs['family'] = wiki_langs['family'].apply(lambda x: str(x).replace(',', '\\n'))"
   ]
  },
  {
   "cell_type": "code",
   "execution_count": 13,
   "metadata": {},
   "outputs": [],
   "source": [
    "wiki_langs['dialects'] = wiki_langs['family'].apply(lambda x: str(x).replace('nan', 'Uknown')) \n",
    "wiki_langs['dialects'] = wiki_langs['family'].apply(lambda x: str(x).replace('[', '')) \n",
    "wiki_langs['dialects'] = wiki_langs['family'].apply(lambda x: str(x).replace(']', '')) \n",
    "wiki_langs['dialects'] = wiki_langs['family'].apply(lambda x: str(x).replace(\"'\", '')) \n",
    "wiki_langs['dialects'] = wiki_langs['family'].apply(lambda x: str(x).replace(\"?\", ''))"
   ]
  },
  {
   "cell_type": "code",
   "execution_count": 14,
   "metadata": {},
   "outputs": [],
   "source": [
    "wiki_langs['iso3code'] = wiki_langs['iso3code'].apply(lambda x: str(x).replace('nan', 'Not provided'))\n",
    "\n"
   ]
  },
  {
   "cell_type": "code",
   "execution_count": 15,
   "metadata": {},
   "outputs": [],
   "source": [
    "# return to iso3codes column"
   ]
  },
  {
   "cell_type": "code",
   "execution_count": 16,
   "metadata": {},
   "outputs": [],
   "source": [
    "wiki_langs['speakers'] = wiki_langs['speakers'].apply(lambda x: str(x).replace('nan', 'Uknown')) \n",
    "wiki_langs['speakers'] = wiki_langs['speakers'].apply(lambda x: str(x).split('(')[0]) "
   ]
  },
  {
   "cell_type": "code",
   "execution_count": 17,
   "metadata": {},
   "outputs": [],
   "source": [
    "def remove(s):\n",
    "    digits = \"0123456789\"\n",
    "    for i in digits:\n",
    "        s = s.replace(i, \"\")\n",
    "    return s"
   ]
  },
  {
   "cell_type": "code",
   "execution_count": 18,
   "metadata": {},
   "outputs": [],
   "source": [
    "wiki_langs['off_lang'] = wiki_langs['off_lang'].apply(lambda x: str(x).replace('nan', 'Unknown'))\n",
    "wiki_langs['off_lang'] = wiki_langs['off_lang'].apply(lambda x: str(x).replace('\\xa0', ' '))\n",
    "wiki_langs['off_lang'] = wiki_langs['off_lang'].apply(lambda x: str(x).replace('[', ''))\n",
    "wiki_langs['off_lang'] = wiki_langs['off_lang'].apply(lambda x: str(x).replace(']', ''))\n",
    "wiki_langs['off_lang'] = wiki_langs['off_lang'].apply(lambda x: remove(x))"
   ]
  },
  {
   "cell_type": "code",
   "execution_count": 19,
   "metadata": {},
   "outputs": [],
   "source": [
    "wiki_langs['rec_min_lang'] = wiki_langs['rec_min_lang'].apply(lambda x: str(x).replace('nan', 'Unknown'))\n",
    "wiki_langs['rec_min_lang'] = wiki_langs['rec_min_lang'].apply(lambda x: str(x).replace('\\xa0', ' '))\n",
    "wiki_langs['rec_min_lang'] = wiki_langs['rec_min_lang'].apply(lambda x: str(x).replace('[', ''))\n",
    "wiki_langs['rec_min_lang'] = wiki_langs['rec_min_lang'].apply(lambda x: str(x).replace(']', ''))\n",
    "wiki_langs['rec_min_lang'] = wiki_langs['rec_min_lang'].apply(lambda x: remove(x))"
   ]
  },
  {
   "cell_type": "code",
   "execution_count": 20,
   "metadata": {},
   "outputs": [
    {
     "data": {
      "text/html": [
       "<div>\n",
       "<style scoped>\n",
       "    .dataframe tbody tr th:only-of-type {\n",
       "        vertical-align: middle;\n",
       "    }\n",
       "\n",
       "    .dataframe tbody tr th {\n",
       "        vertical-align: top;\n",
       "    }\n",
       "\n",
       "    .dataframe thead th {\n",
       "        text-align: right;\n",
       "    }\n",
       "</style>\n",
       "<table border=\"1\" class=\"dataframe\">\n",
       "  <thead>\n",
       "    <tr style=\"text-align: right;\">\n",
       "      <th></th>\n",
       "      <th>lang</th>\n",
       "      <th>family</th>\n",
       "      <th>dialects</th>\n",
       "      <th>iso3code</th>\n",
       "      <th>goglottocodettolog</th>\n",
       "      <th>speakers</th>\n",
       "      <th>regions</th>\n",
       "      <th>off_lang</th>\n",
       "      <th>rec_min_lang</th>\n",
       "      <th>url</th>\n",
       "    </tr>\n",
       "  </thead>\n",
       "  <tbody>\n",
       "    <tr>\n",
       "      <th>0</th>\n",
       "      <td>Singapore</td>\n",
       "      <td>Uknown</td>\n",
       "      <td>Uknown</td>\n",
       "      <td>Not provided</td>\n",
       "      <td>NaN</td>\n",
       "      <td>Uknown</td>\n",
       "      <td>NaN</td>\n",
       "      <td>Unknown</td>\n",
       "      <td>Unknown</td>\n",
       "      <td>https://en.wikipedia.org/wiki/Singapore</td>\n",
       "    </tr>\n",
       "    <tr>\n",
       "      <th>1</th>\n",
       "      <td>Pridnestrovian_Moldavian_Republic</td>\n",
       "      <td>Uknown</td>\n",
       "      <td>Uknown</td>\n",
       "      <td>Not provided</td>\n",
       "      <td>NaN</td>\n",
       "      <td>Uknown</td>\n",
       "      <td>NaN</td>\n",
       "      <td>Unknown</td>\n",
       "      <td>Unknown</td>\n",
       "      <td>https://en.wikipedia.org/wiki/Pridnestrovian_M...</td>\n",
       "    </tr>\n",
       "    <tr>\n",
       "      <th>2</th>\n",
       "      <td>Amazonas_(Brazilian_state)</td>\n",
       "      <td>Uknown</td>\n",
       "      <td>Uknown</td>\n",
       "      <td>Not provided</td>\n",
       "      <td>NaN</td>\n",
       "      <td>Uknown</td>\n",
       "      <td>NaN</td>\n",
       "      <td>Unknown</td>\n",
       "      <td>Unknown</td>\n",
       "      <td>https://en.wikipedia.org/wiki/Amazonas_(Brazil...</td>\n",
       "    </tr>\n",
       "    <tr>\n",
       "      <th>3</th>\n",
       "      <td>Lebanon</td>\n",
       "      <td>Uknown</td>\n",
       "      <td>Uknown</td>\n",
       "      <td>Not provided</td>\n",
       "      <td>NaN</td>\n",
       "      <td>Uknown</td>\n",
       "      <td>NaN</td>\n",
       "      <td>Unknown</td>\n",
       "      <td>Unknown</td>\n",
       "      <td>https://en.wikipedia.org/wiki/Lebanon</td>\n",
       "    </tr>\n",
       "    <tr>\n",
       "      <th>4</th>\n",
       "      <td>States_of_Myanmar</td>\n",
       "      <td>Uknown</td>\n",
       "      <td>Uknown</td>\n",
       "      <td>Not provided</td>\n",
       "      <td>NaN</td>\n",
       "      <td>Uknown</td>\n",
       "      <td>NaN</td>\n",
       "      <td>Unknown</td>\n",
       "      <td>Unknown</td>\n",
       "      <td>https://en.wikipedia.org/wiki/States_of_Myanmar</td>\n",
       "    </tr>\n",
       "  </tbody>\n",
       "</table>\n",
       "</div>"
      ],
      "text/plain": [
       "                                lang  family dialects      iso3code  \\\n",
       "0                          Singapore  Uknown   Uknown  Not provided   \n",
       "1  Pridnestrovian_Moldavian_Republic  Uknown   Uknown  Not provided   \n",
       "2         Amazonas_(Brazilian_state)  Uknown   Uknown  Not provided   \n",
       "3                            Lebanon  Uknown   Uknown  Not provided   \n",
       "4                  States_of_Myanmar  Uknown   Uknown  Not provided   \n",
       "\n",
       "  goglottocodettolog speakers regions off_lang rec_min_lang  \\\n",
       "0                NaN   Uknown     NaN  Unknown      Unknown   \n",
       "1                NaN   Uknown     NaN  Unknown      Unknown   \n",
       "2                NaN   Uknown     NaN  Unknown      Unknown   \n",
       "3                NaN   Uknown     NaN  Unknown      Unknown   \n",
       "4                NaN   Uknown     NaN  Unknown      Unknown   \n",
       "\n",
       "                                                 url  \n",
       "0            https://en.wikipedia.org/wiki/Singapore  \n",
       "1  https://en.wikipedia.org/wiki/Pridnestrovian_M...  \n",
       "2  https://en.wikipedia.org/wiki/Amazonas_(Brazil...  \n",
       "3              https://en.wikipedia.org/wiki/Lebanon  \n",
       "4    https://en.wikipedia.org/wiki/States_of_Myanmar  "
      ]
     },
     "execution_count": 20,
     "metadata": {},
     "output_type": "execute_result"
    }
   ],
   "source": [
    "wiki_langs.head()"
   ]
  },
  {
   "cell_type": "code",
   "execution_count": 24,
   "metadata": {},
   "outputs": [
    {
     "name": "stdout",
     "output_type": "stream",
     "text": [
      "1330\n",
      "1330\n",
      "1330\n"
     ]
    }
   ],
   "source": [
    "print(len(wiki_langs))\n",
    "print(len(pd.read_csv('wiki_languages_most_recent.csv')))\n",
    "print(len(pd.read_csv('scrapers_organized/wiki_languages_most_recent.csv')))"
   ]
  },
  {
   "cell_type": "code",
   "execution_count": 25,
   "metadata": {},
   "outputs": [],
   "source": [
    "wiki_langs.to_csv('wiki_languages_most_recent.csv')"
   ]
  },
  {
   "cell_type": "markdown",
   "metadata": {},
   "source": [
    "# Cleaning Extinct Languages Links"
   ]
  },
  {
   "cell_type": "code",
   "execution_count": 27,
   "metadata": {},
   "outputs": [],
   "source": [
    "extinct_langs['family'] = extinct_langs['family'].apply(lambda x: str(x).replace('nan', 'Uknown'))\n",
    "extinct_langs['family'] = extinct_langs['family'].apply(lambda x: str(x).replace('[', ''))\n",
    "extinct_langs['family'] = extinct_langs['family'].apply(lambda x: str(x).replace(']', ''))\n",
    "extinct_langs['family'] = extinct_langs['family'].apply(lambda x: str(x).replace(\"'\", ''))\n",
    "extinct_langs['family'] = extinct_langs['family'].apply(lambda x: str(x).replace(\"?\", ''))\n",
    "# extinct_langs['family'] = extinct_langs['family'].apply(lambda x: str(x).replace(',', '\\n'))"
   ]
  },
  {
   "cell_type": "code",
   "execution_count": 28,
   "metadata": {},
   "outputs": [],
   "source": [
    "extinct_langs['dialects'] = extinct_langs['family'].apply(lambda x: str(x).replace('nan', 'Uknown')) \n",
    "extinct_langs['dialects'] = extinct_langs['family'].apply(lambda x: str(x).replace('[', '')) \n",
    "extinct_langs['dialects'] = extinct_langs['family'].apply(lambda x: str(x).replace(']', '')) \n",
    "extinct_langs['dialects'] = extinct_langs['family'].apply(lambda x: str(x).replace(\"'\", '')) \n",
    "extinct_langs['dialects'] = extinct_langs['family'].apply(lambda x: str(x).replace(\"?\", ''))"
   ]
  },
  {
   "cell_type": "code",
   "execution_count": 29,
   "metadata": {},
   "outputs": [],
   "source": [
    "extinct_langs['iso3code'] = extinct_langs['iso3code'].apply(lambda x: str(x).replace('nan', 'Not provided'))"
   ]
  },
  {
   "cell_type": "code",
   "execution_count": 30,
   "metadata": {},
   "outputs": [],
   "source": [
    "# return to iso3codes column"
   ]
  },
  {
   "cell_type": "code",
   "execution_count": 31,
   "metadata": {},
   "outputs": [],
   "source": [
    "extinct_langs['speakers'] = extinct_langs['speakers'].apply(lambda x: str(x).replace('nan', 'Uknown')) \n",
    "extinct_langs['speakers'] = extinct_langs['speakers'].apply(lambda x: str(x).split('(')[0]) "
   ]
  },
  {
   "cell_type": "code",
   "execution_count": 32,
   "metadata": {},
   "outputs": [],
   "source": [
    "def remove(s):\n",
    "    digits = \"0123456789\"\n",
    "    for i in digits:\n",
    "        s = s.replace(i, \"\")\n",
    "    return s"
   ]
  },
  {
   "cell_type": "code",
   "execution_count": 33,
   "metadata": {},
   "outputs": [],
   "source": [
    "extinct_langs['off_lang'] = extinct_langs['off_lang'].apply(lambda x: str(x).replace('nan', 'Unknown'))\n",
    "extinct_langs['off_lang'] = extinct_langs['off_lang'].apply(lambda x: str(x).replace('\\xa0', ' '))\n",
    "extinct_langs['off_lang'] = extinct_langs['off_lang'].apply(lambda x: str(x).replace('[', ''))\n",
    "extinct_langs['off_lang'] = extinct_langs['off_lang'].apply(lambda x: str(x).replace(']', ''))\n",
    "extinct_langs['off_lang'] = extinct_langs['off_lang'].apply(lambda x: remove(x))"
   ]
  },
  {
   "cell_type": "code",
   "execution_count": 34,
   "metadata": {},
   "outputs": [],
   "source": [
    "extinct_langs['rec_min_lang'] = extinct_langs['rec_min_lang'].apply(lambda x: str(x).replace('nan', 'Unknown'))\n",
    "extinct_langs['rec_min_lang'] = extinct_langs['rec_min_lang'].apply(lambda x: str(x).replace('\\xa0', ' '))\n",
    "extinct_langs['rec_min_lang'] = extinct_langs['rec_min_lang'].apply(lambda x: str(x).replace('[', ''))\n",
    "extinct_langs['rec_min_lang'] = extinct_langs['rec_min_lang'].apply(lambda x: str(x).replace(']', ''))\n",
    "extinct_langs['rec_min_lang'] = extinct_langs['rec_min_lang'].apply(lambda x: remove(x))"
   ]
  },
  {
   "cell_type": "code",
   "execution_count": 35,
   "metadata": {},
   "outputs": [
    {
     "data": {
      "text/html": [
       "<div>\n",
       "<style scoped>\n",
       "    .dataframe tbody tr th:only-of-type {\n",
       "        vertical-align: middle;\n",
       "    }\n",
       "\n",
       "    .dataframe tbody tr th {\n",
       "        vertical-align: top;\n",
       "    }\n",
       "\n",
       "    .dataframe thead th {\n",
       "        text-align: right;\n",
       "    }\n",
       "</style>\n",
       "<table border=\"1\" class=\"dataframe\">\n",
       "  <thead>\n",
       "    <tr style=\"text-align: right;\">\n",
       "      <th></th>\n",
       "      <th>lang</th>\n",
       "      <th>family</th>\n",
       "      <th>dialects</th>\n",
       "      <th>iso3code</th>\n",
       "      <th>goglottocodettolog</th>\n",
       "      <th>speakers</th>\n",
       "      <th>regions</th>\n",
       "      <th>off_lang</th>\n",
       "      <th>rec_min_lang</th>\n",
       "      <th>url</th>\n",
       "    </tr>\n",
       "  </thead>\n",
       "  <tbody>\n",
       "    <tr>\n",
       "      <th>0</th>\n",
       "      <td>Wantoat</td>\n",
       "      <td>Trans–New Guinea, Finisterre–Huon, Finisterre,...</td>\n",
       "      <td>Trans–New Guinea, Finisterre–Huon, Finisterre,...</td>\n",
       "      <td>wnc</td>\n",
       "      <td>want1252</td>\n",
       "      <td></td>\n",
       "      <td>Morobe Province</td>\n",
       "      <td>Unknown</td>\n",
       "      <td>Unknown</td>\n",
       "      <td>https://en.wikipedia.org/wiki/Taap_language</td>\n",
       "    </tr>\n",
       "    <tr>\n",
       "      <th>1</th>\n",
       "      <td>Yamuna_in_Hinduism</td>\n",
       "      <td>Uknown</td>\n",
       "      <td>Uknown</td>\n",
       "      <td>Not provided</td>\n",
       "      <td>NaN</td>\n",
       "      <td>Uknown</td>\n",
       "      <td>NaN</td>\n",
       "      <td>Unknown</td>\n",
       "      <td>Unknown</td>\n",
       "      <td>https://en.wikipedia.org/wiki/Yamuna_in_Hinduism</td>\n",
       "    </tr>\n",
       "    <tr>\n",
       "      <th>2</th>\n",
       "      <td>Judeo-tamazight</td>\n",
       "      <td>Afro-Asiatic, tamazight, Northern tamazight, A...</td>\n",
       "      <td>Afro-Asiatic, tamazight, Northern tamazight, A...</td>\n",
       "      <td>jbe</td>\n",
       "      <td>(insufficiently attested or not a distinct lan...</td>\n",
       "      <td>none[1]L2 speakers: 3,000</td>\n",
       "      <td>Israel</td>\n",
       "      <td>Unknown</td>\n",
       "      <td>Unknown</td>\n",
       "      <td>https://en.wikipedia.org/wiki/Judeo-Berber_lan...</td>\n",
       "    </tr>\n",
       "    <tr>\n",
       "      <th>3</th>\n",
       "      <td>Uhunduni</td>\n",
       "      <td>Trans–New Guinea, West Papuan Highlands,  (Iri...</td>\n",
       "      <td>Trans–New Guinea, West Papuan Highlands,  (Iri...</td>\n",
       "      <td>uhn</td>\n",
       "      <td>dama1272</td>\n",
       "      <td>14,000</td>\n",
       "      <td>Central Papua: central highlands, Paniai Regen...</td>\n",
       "      <td>Unknown</td>\n",
       "      <td>Unknown</td>\n",
       "      <td>https://en.wikipedia.org/wiki/Uhunduni_language</td>\n",
       "    </tr>\n",
       "    <tr>\n",
       "      <th>4</th>\n",
       "      <td>Chulym</td>\n",
       "      <td>Turkic, Common Turkic, Siberian Turkic, South ...</td>\n",
       "      <td>Turkic, Common Turkic, Siberian Turkic, South ...</td>\n",
       "      <td>clw</td>\n",
       "      <td>chul1246</td>\n",
       "      <td>44</td>\n",
       "      <td>Tyukhtetsky District, Teguldetsky District, Kr...</td>\n",
       "      <td>Unknown</td>\n",
       "      <td>Unknown</td>\n",
       "      <td>https://en.wikipedia.org/wiki/Chulym_language</td>\n",
       "    </tr>\n",
       "  </tbody>\n",
       "</table>\n",
       "</div>"
      ],
      "text/plain": [
       "                 lang                                             family  \\\n",
       "0             Wantoat  Trans–New Guinea, Finisterre–Huon, Finisterre,...   \n",
       "1  Yamuna_in_Hinduism                                             Uknown   \n",
       "2     Judeo-tamazight  Afro-Asiatic, tamazight, Northern tamazight, A...   \n",
       "3            Uhunduni  Trans–New Guinea, West Papuan Highlands,  (Iri...   \n",
       "4              Chulym  Turkic, Common Turkic, Siberian Turkic, South ...   \n",
       "\n",
       "                                            dialects      iso3code  \\\n",
       "0  Trans–New Guinea, Finisterre–Huon, Finisterre,...           wnc   \n",
       "1                                             Uknown  Not provided   \n",
       "2  Afro-Asiatic, tamazight, Northern tamazight, A...           jbe   \n",
       "3  Trans–New Guinea, West Papuan Highlands,  (Iri...           uhn   \n",
       "4  Turkic, Common Turkic, Siberian Turkic, South ...           clw   \n",
       "\n",
       "                                  goglottocodettolog  \\\n",
       "0                                           want1252   \n",
       "1                                                NaN   \n",
       "2  (insufficiently attested or not a distinct lan...   \n",
       "3                                           dama1272   \n",
       "4                                           chul1246   \n",
       "\n",
       "                     speakers  \\\n",
       "0                               \n",
       "1                      Uknown   \n",
       "2  none[1]L2 speakers: 3,000    \n",
       "3                     14,000    \n",
       "4                         44    \n",
       "\n",
       "                                             regions off_lang rec_min_lang  \\\n",
       "0                                    Morobe Province  Unknown      Unknown   \n",
       "1                                                NaN  Unknown      Unknown   \n",
       "2                                             Israel  Unknown      Unknown   \n",
       "3  Central Papua: central highlands, Paniai Regen...  Unknown      Unknown   \n",
       "4  Tyukhtetsky District, Teguldetsky District, Kr...  Unknown      Unknown   \n",
       "\n",
       "                                                 url  \n",
       "0        https://en.wikipedia.org/wiki/Taap_language  \n",
       "1   https://en.wikipedia.org/wiki/Yamuna_in_Hinduism  \n",
       "2  https://en.wikipedia.org/wiki/Judeo-Berber_lan...  \n",
       "3    https://en.wikipedia.org/wiki/Uhunduni_language  \n",
       "4      https://en.wikipedia.org/wiki/Chulym_language  "
      ]
     },
     "execution_count": 35,
     "metadata": {},
     "output_type": "execute_result"
    }
   ],
   "source": [
    "extinct_langs.head()"
   ]
  },
  {
   "cell_type": "code",
   "execution_count": 36,
   "metadata": {},
   "outputs": [
    {
     "name": "stdout",
     "output_type": "stream",
     "text": [
      "1827\n"
     ]
    }
   ],
   "source": [
    "print(len(extinct_langs))"
   ]
  },
  {
   "cell_type": "code",
   "execution_count": 37,
   "metadata": {},
   "outputs": [],
   "source": [
    "wiki_langs.to_csv('extinct_languages_with_info.csv')"
   ]
  },
  {
   "cell_type": "markdown",
   "metadata": {},
   "source": [
    "# Merge Extinct and Wiki Langs"
   ]
  },
  {
   "cell_type": "code",
   "execution_count": 42,
   "metadata": {},
   "outputs": [
    {
     "data": {
      "text/html": [
       "<div>\n",
       "<style scoped>\n",
       "    .dataframe tbody tr th:only-of-type {\n",
       "        vertical-align: middle;\n",
       "    }\n",
       "\n",
       "    .dataframe tbody tr th {\n",
       "        vertical-align: top;\n",
       "    }\n",
       "\n",
       "    .dataframe thead th {\n",
       "        text-align: right;\n",
       "    }\n",
       "</style>\n",
       "<table border=\"1\" class=\"dataframe\">\n",
       "  <thead>\n",
       "    <tr style=\"text-align: right;\">\n",
       "      <th></th>\n",
       "      <th>lang</th>\n",
       "      <th>family</th>\n",
       "      <th>dialects</th>\n",
       "      <th>iso3code</th>\n",
       "      <th>glottocode</th>\n",
       "      <th>speakers</th>\n",
       "      <th>regions</th>\n",
       "      <th>off_lang</th>\n",
       "      <th>rec_min_lang</th>\n",
       "      <th>url</th>\n",
       "    </tr>\n",
       "  </thead>\n",
       "  <tbody>\n",
       "    <tr>\n",
       "      <th>0</th>\n",
       "      <td>Wantoat</td>\n",
       "      <td>Trans–New Guinea, Finisterre–Huon, Finisterre,...</td>\n",
       "      <td>Trans–New Guinea, Finisterre–Huon, Finisterre,...</td>\n",
       "      <td>wnc</td>\n",
       "      <td>want1252</td>\n",
       "      <td></td>\n",
       "      <td>Morobe Province</td>\n",
       "      <td>Unknown</td>\n",
       "      <td>Unknown</td>\n",
       "      <td>https://en.wikipedia.org/wiki/Taap_language</td>\n",
       "    </tr>\n",
       "    <tr>\n",
       "      <th>1</th>\n",
       "      <td>Yamuna_in_Hinduism</td>\n",
       "      <td>Uknown</td>\n",
       "      <td>Uknown</td>\n",
       "      <td>Not provided</td>\n",
       "      <td>NaN</td>\n",
       "      <td>Uknown</td>\n",
       "      <td>NaN</td>\n",
       "      <td>Unknown</td>\n",
       "      <td>Unknown</td>\n",
       "      <td>https://en.wikipedia.org/wiki/Yamuna_in_Hinduism</td>\n",
       "    </tr>\n",
       "    <tr>\n",
       "      <th>2</th>\n",
       "      <td>Judeo-tamazight</td>\n",
       "      <td>Afro-Asiatic, tamazight, Northern tamazight, A...</td>\n",
       "      <td>Afro-Asiatic, tamazight, Northern tamazight, A...</td>\n",
       "      <td>jbe</td>\n",
       "      <td>(insufficiently attested or not a distinct lan...</td>\n",
       "      <td>none[1]L2 speakers: 3,000</td>\n",
       "      <td>Israel</td>\n",
       "      <td>Unknown</td>\n",
       "      <td>Unknown</td>\n",
       "      <td>https://en.wikipedia.org/wiki/Judeo-Berber_lan...</td>\n",
       "    </tr>\n",
       "    <tr>\n",
       "      <th>3</th>\n",
       "      <td>Uhunduni</td>\n",
       "      <td>Trans–New Guinea, West Papuan Highlands,  (Iri...</td>\n",
       "      <td>Trans–New Guinea, West Papuan Highlands,  (Iri...</td>\n",
       "      <td>uhn</td>\n",
       "      <td>dama1272</td>\n",
       "      <td>14,000</td>\n",
       "      <td>Central Papua: central highlands, Paniai Regen...</td>\n",
       "      <td>Unknown</td>\n",
       "      <td>Unknown</td>\n",
       "      <td>https://en.wikipedia.org/wiki/Uhunduni_language</td>\n",
       "    </tr>\n",
       "    <tr>\n",
       "      <th>4</th>\n",
       "      <td>Chulym</td>\n",
       "      <td>Turkic, Common Turkic, Siberian Turkic, South ...</td>\n",
       "      <td>Turkic, Common Turkic, Siberian Turkic, South ...</td>\n",
       "      <td>clw</td>\n",
       "      <td>chul1246</td>\n",
       "      <td>44</td>\n",
       "      <td>Tyukhtetsky District, Teguldetsky District, Kr...</td>\n",
       "      <td>Unknown</td>\n",
       "      <td>Unknown</td>\n",
       "      <td>https://en.wikipedia.org/wiki/Chulym_language</td>\n",
       "    </tr>\n",
       "    <tr>\n",
       "      <th>...</th>\n",
       "      <td>...</td>\n",
       "      <td>...</td>\n",
       "      <td>...</td>\n",
       "      <td>...</td>\n",
       "      <td>...</td>\n",
       "      <td>...</td>\n",
       "      <td>...</td>\n",
       "      <td>...</td>\n",
       "      <td>...</td>\n",
       "      <td>...</td>\n",
       "    </tr>\n",
       "    <tr>\n",
       "      <th>1822</th>\n",
       "      <td>Botlikh</td>\n",
       "      <td>Northeast Caucasian, Avar–Andic, Andic, Akhvak...</td>\n",
       "      <td>Northeast Caucasian, Avar–Andic, Andic, Akhvak...</td>\n",
       "      <td>bph</td>\n",
       "      <td>botl1242</td>\n",
       "      <td>210</td>\n",
       "      <td>Southwestern Dagestan[1]</td>\n",
       "      <td>Unknown</td>\n",
       "      <td>Unknown</td>\n",
       "      <td>https://en.wikipedia.org/wiki/Botlikh_language</td>\n",
       "    </tr>\n",
       "    <tr>\n",
       "      <th>1823</th>\n",
       "      <td>Ngaatjatjarra</td>\n",
       "      <td>Pama–Nyungan, Wati, Western Desert, Ngaatjatjarra</td>\n",
       "      <td>Pama–Nyungan, Wati, Western Desert, Ngaatjatjarra</td>\n",
       "      <td>–</td>\n",
       "      <td>NaN</td>\n",
       "      <td>12</td>\n",
       "      <td>Western Australia</td>\n",
       "      <td>Unknown</td>\n",
       "      <td>Unknown</td>\n",
       "      <td>https://en.wikipedia.org/wiki/Ngaatjatjara_lan...</td>\n",
       "    </tr>\n",
       "    <tr>\n",
       "      <th>1824</th>\n",
       "      <td>Nivkh languages</td>\n",
       "      <td>Language isolate</td>\n",
       "      <td>Language isolate</td>\n",
       "      <td>niv</td>\n",
       "      <td>nivk1234</td>\n",
       "      <td>198</td>\n",
       "      <td>Island of Sakhalin, along the lower Amur River...</td>\n",
       "      <td>Unknown</td>\n",
       "      <td>Unknown</td>\n",
       "      <td>https://en.wikipedia.org/wiki/Nivkh_language</td>\n",
       "    </tr>\n",
       "    <tr>\n",
       "      <th>1825</th>\n",
       "      <td>Nakkara</td>\n",
       "      <td>Macro-Gunwinyguan, Maningrida, Nakkara</td>\n",
       "      <td>Macro-Gunwinyguan, Maningrida, Nakkara</td>\n",
       "      <td>nck</td>\n",
       "      <td>naka1260</td>\n",
       "      <td>55</td>\n",
       "      <td>Northern Territory</td>\n",
       "      <td>Unknown</td>\n",
       "      <td>Unknown</td>\n",
       "      <td>https://en.wikipedia.org/wiki/Nakkara_language</td>\n",
       "    </tr>\n",
       "    <tr>\n",
       "      <th>1826</th>\n",
       "      <td>Kri</td>\n",
       "      <td>Austroasiatic, Vietic, Kri</td>\n",
       "      <td>Austroasiatic, Vietic, Kri</td>\n",
       "      <td>aem</td>\n",
       "      <td>khap1242</td>\n",
       "      <td>250</td>\n",
       "      <td>NaN</td>\n",
       "      <td>Unknown</td>\n",
       "      <td>Unknown</td>\n",
       "      <td>https://en.wikipedia.org/wiki/Kri_language</td>\n",
       "    </tr>\n",
       "  </tbody>\n",
       "</table>\n",
       "<p>1827 rows × 10 columns</p>\n",
       "</div>"
      ],
      "text/plain": [
       "                    lang                                             family  \\\n",
       "0                Wantoat  Trans–New Guinea, Finisterre–Huon, Finisterre,...   \n",
       "1     Yamuna_in_Hinduism                                             Uknown   \n",
       "2        Judeo-tamazight  Afro-Asiatic, tamazight, Northern tamazight, A...   \n",
       "3               Uhunduni  Trans–New Guinea, West Papuan Highlands,  (Iri...   \n",
       "4                 Chulym  Turkic, Common Turkic, Siberian Turkic, South ...   \n",
       "...                  ...                                                ...   \n",
       "1822             Botlikh  Northeast Caucasian, Avar–Andic, Andic, Akhvak...   \n",
       "1823       Ngaatjatjarra  Pama–Nyungan, Wati, Western Desert, Ngaatjatjarra   \n",
       "1824     Nivkh languages                                   Language isolate   \n",
       "1825             Nakkara             Macro-Gunwinyguan, Maningrida, Nakkara   \n",
       "1826                 Kri                         Austroasiatic, Vietic, Kri   \n",
       "\n",
       "                                               dialects      iso3code  \\\n",
       "0     Trans–New Guinea, Finisterre–Huon, Finisterre,...           wnc   \n",
       "1                                                Uknown  Not provided   \n",
       "2     Afro-Asiatic, tamazight, Northern tamazight, A...           jbe   \n",
       "3     Trans–New Guinea, West Papuan Highlands,  (Iri...           uhn   \n",
       "4     Turkic, Common Turkic, Siberian Turkic, South ...           clw   \n",
       "...                                                 ...           ...   \n",
       "1822  Northeast Caucasian, Avar–Andic, Andic, Akhvak...           bph   \n",
       "1823  Pama–Nyungan, Wati, Western Desert, Ngaatjatjarra             –   \n",
       "1824                                   Language isolate           niv   \n",
       "1825             Macro-Gunwinyguan, Maningrida, Nakkara           nck   \n",
       "1826                         Austroasiatic, Vietic, Kri           aem   \n",
       "\n",
       "                                             glottocode  \\\n",
       "0                                              want1252   \n",
       "1                                                   NaN   \n",
       "2     (insufficiently attested or not a distinct lan...   \n",
       "3                                              dama1272   \n",
       "4                                              chul1246   \n",
       "...                                                 ...   \n",
       "1822                                           botl1242   \n",
       "1823                                                NaN   \n",
       "1824                                           nivk1234   \n",
       "1825                                           naka1260   \n",
       "1826                                           khap1242   \n",
       "\n",
       "                        speakers  \\\n",
       "0                                  \n",
       "1                         Uknown   \n",
       "2     none[1]L2 speakers: 3,000    \n",
       "3                        14,000    \n",
       "4                            44    \n",
       "...                          ...   \n",
       "1822                        210    \n",
       "1823                         12    \n",
       "1824                        198    \n",
       "1825                         55    \n",
       "1826                        250    \n",
       "\n",
       "                                                regions off_lang rec_min_lang  \\\n",
       "0                                       Morobe Province  Unknown      Unknown   \n",
       "1                                                   NaN  Unknown      Unknown   \n",
       "2                                                Israel  Unknown      Unknown   \n",
       "3     Central Papua: central highlands, Paniai Regen...  Unknown      Unknown   \n",
       "4     Tyukhtetsky District, Teguldetsky District, Kr...  Unknown      Unknown   \n",
       "...                                                 ...      ...          ...   \n",
       "1822                           Southwestern Dagestan[1]  Unknown      Unknown   \n",
       "1823                                  Western Australia  Unknown      Unknown   \n",
       "1824  Island of Sakhalin, along the lower Amur River...  Unknown      Unknown   \n",
       "1825                                 Northern Territory  Unknown      Unknown   \n",
       "1826                                                NaN  Unknown      Unknown   \n",
       "\n",
       "                                                    url  \n",
       "0           https://en.wikipedia.org/wiki/Taap_language  \n",
       "1      https://en.wikipedia.org/wiki/Yamuna_in_Hinduism  \n",
       "2     https://en.wikipedia.org/wiki/Judeo-Berber_lan...  \n",
       "3       https://en.wikipedia.org/wiki/Uhunduni_language  \n",
       "4         https://en.wikipedia.org/wiki/Chulym_language  \n",
       "...                                                 ...  \n",
       "1822     https://en.wikipedia.org/wiki/Botlikh_language  \n",
       "1823  https://en.wikipedia.org/wiki/Ngaatjatjara_lan...  \n",
       "1824       https://en.wikipedia.org/wiki/Nivkh_language  \n",
       "1825     https://en.wikipedia.org/wiki/Nakkara_language  \n",
       "1826         https://en.wikipedia.org/wiki/Kri_language  \n",
       "\n",
       "[1827 rows x 10 columns]"
      ]
     },
     "execution_count": 42,
     "metadata": {},
     "output_type": "execute_result"
    }
   ],
   "source": [
    "wiki_langs.rename(columns = {'goglottocodettolog':'glottocode'})\n",
    "extinct_langs.rename(columns = {'goglottocodettolog':'glottocode'})"
   ]
  },
  {
   "cell_type": "code",
   "execution_count": 43,
   "metadata": {},
   "outputs": [
    {
     "data": {
      "text/plain": [
       "['lang',\n",
       " 'family',\n",
       " 'dialects',\n",
       " 'iso3code',\n",
       " 'goglottocodettolog',\n",
       " 'speakers',\n",
       " 'regions',\n",
       " 'off_lang',\n",
       " 'rec_min_lang',\n",
       " 'url']"
      ]
     },
     "execution_count": 43,
     "metadata": {},
     "output_type": "execute_result"
    }
   ],
   "source": [
    "wiki_langs.columns.to_list()"
   ]
  },
  {
   "cell_type": "code",
   "execution_count": 44,
   "metadata": {},
   "outputs": [
    {
     "name": "stdout",
     "output_type": "stream",
     "text": [
      "1330\n",
      "1827\n",
      "3157\n",
      "3157\n"
     ]
    }
   ],
   "source": [
    "intersecting_columns = wiki_langs.columns.intersection(extinct_langs.columns).to_list()\n",
    "\n",
    "merged_langs = pd.merge(left = wiki_langs, right = extinct_langs, left_on = intersecting_columns, right_on = intersecting_columns, how = 'outer')\n",
    "print(len(wiki_langs))\n",
    "print(len(extinct_langs))\n",
    "print(len(wiki_langs) + len(extinct_langs))\n",
    "print(len(merged_langs))"
   ]
  },
  {
   "cell_type": "code",
   "execution_count": 45,
   "metadata": {},
   "outputs": [],
   "source": [
    "merged_langs.to_csv('merged_langs_wiki_extinct.csv')"
   ]
  }
 ],
 "metadata": {
  "kernelspec": {
   "display_name": "base",
   "language": "python",
   "name": "python3"
  },
  "language_info": {
   "codemirror_mode": {
    "name": "ipython",
    "version": 3
   },
   "file_extension": ".py",
   "mimetype": "text/x-python",
   "name": "python",
   "nbconvert_exporter": "python",
   "pygments_lexer": "ipython3",
   "version": "3.12.1"
  }
 },
 "nbformat": 4,
 "nbformat_minor": 2
}
