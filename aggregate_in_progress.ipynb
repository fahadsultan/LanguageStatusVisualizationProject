{
 "cells": [
  {
   "cell_type": "code",
   "execution_count": 1,
   "metadata": {},
   "outputs": [
    {
     "name": "stderr",
     "output_type": "stream",
     "text": [
      "/var/folders/gl/l6pb7jfx42l02zc9950kh3fh0000gn/T/ipykernel_19599/632010323.py:1: DeprecationWarning: \n",
      "Pyarrow will become a required dependency of pandas in the next major release of pandas (pandas 3.0),\n",
      "(to allow more performant data types, such as the Arrow string type, and better interoperability with other libraries)\n",
      "but was not found to be installed on your system.\n",
      "If this would cause problems for you,\n",
      "please provide us feedback at https://github.com/pandas-dev/pandas/issues/54466\n",
      "        \n",
      "  import pandas as pd\n"
     ]
    }
   ],
   "source": [
    "import pandas as pd \n",
    "import requests\n",
    "import unicodedata\n",
    "from tqdm import tqdm\n",
    "from bs4 import BeautifulSoup"
   ]
  },
  {
   "cell_type": "code",
   "execution_count": 6,
   "metadata": {},
   "outputs": [],
   "source": [
    "wiki_data = pd.read_csv('wiki_languages_most_recent.csv')\n",
    "# wiki_data"
   ]
  },
  {
   "cell_type": "code",
   "execution_count": 24,
   "metadata": {},
   "outputs": [],
   "source": [
    "unesco_data = pd.read_csv('extinct_languages_links.csv')\n",
    "# unesco_data"
   ]
  },
  {
   "cell_type": "code",
   "execution_count": 15,
   "metadata": {},
   "outputs": [
    {
     "data": {
      "text/html": [
       "<div>\n",
       "<style scoped>\n",
       "    .dataframe tbody tr th:only-of-type {\n",
       "        vertical-align: middle;\n",
       "    }\n",
       "\n",
       "    .dataframe tbody tr th {\n",
       "        vertical-align: top;\n",
       "    }\n",
       "\n",
       "    .dataframe thead th {\n",
       "        text-align: right;\n",
       "    }\n",
       "</style>\n",
       "<table border=\"1\" class=\"dataframe\">\n",
       "  <thead>\n",
       "    <tr style=\"text-align: right;\">\n",
       "      <th></th>\n",
       "      <th>glottocode</th>\n",
       "      <th>name</th>\n",
       "      <th>isocodes</th>\n",
       "      <th>level</th>\n",
       "      <th>macroarea</th>\n",
       "      <th>latitude</th>\n",
       "      <th>longitude</th>\n",
       "    </tr>\n",
       "  </thead>\n",
       "  <tbody>\n",
       "    <tr>\n",
       "      <th>0</th>\n",
       "      <td>3adt1234</td>\n",
       "      <td>3Ad-Tekles</td>\n",
       "      <td>NaN</td>\n",
       "      <td>dialect</td>\n",
       "      <td>Africa</td>\n",
       "      <td>NaN</td>\n",
       "      <td>NaN</td>\n",
       "    </tr>\n",
       "    <tr>\n",
       "      <th>1</th>\n",
       "      <td>aala1237</td>\n",
       "      <td>Aalawa</td>\n",
       "      <td>NaN</td>\n",
       "      <td>dialect</td>\n",
       "      <td>Papunesia</td>\n",
       "      <td>NaN</td>\n",
       "      <td>NaN</td>\n",
       "    </tr>\n",
       "    <tr>\n",
       "      <th>2</th>\n",
       "      <td>aant1238</td>\n",
       "      <td>Aantantara</td>\n",
       "      <td>NaN</td>\n",
       "      <td>dialect</td>\n",
       "      <td>Papunesia</td>\n",
       "      <td>NaN</td>\n",
       "      <td>NaN</td>\n",
       "    </tr>\n",
       "    <tr>\n",
       "      <th>3</th>\n",
       "      <td>aari1239</td>\n",
       "      <td>Aari</td>\n",
       "      <td>aiw</td>\n",
       "      <td>language</td>\n",
       "      <td>Africa</td>\n",
       "      <td>5.95034</td>\n",
       "      <td>36.5721</td>\n",
       "    </tr>\n",
       "    <tr>\n",
       "      <th>4</th>\n",
       "      <td>aari1240</td>\n",
       "      <td>Aariya</td>\n",
       "      <td>aay</td>\n",
       "      <td>language</td>\n",
       "      <td>Eurasia</td>\n",
       "      <td>NaN</td>\n",
       "      <td>NaN</td>\n",
       "    </tr>\n",
       "    <tr>\n",
       "      <th>...</th>\n",
       "      <td>...</td>\n",
       "      <td>...</td>\n",
       "      <td>...</td>\n",
       "      <td>...</td>\n",
       "      <td>...</td>\n",
       "      <td>...</td>\n",
       "      <td>...</td>\n",
       "    </tr>\n",
       "    <tr>\n",
       "      <th>22106</th>\n",
       "      <td>zuwa1238</td>\n",
       "      <td>Zuwadza</td>\n",
       "      <td>NaN</td>\n",
       "      <td>dialect</td>\n",
       "      <td>Papunesia</td>\n",
       "      <td>NaN</td>\n",
       "      <td>NaN</td>\n",
       "    </tr>\n",
       "    <tr>\n",
       "      <th>22107</th>\n",
       "      <td>zwal1238</td>\n",
       "      <td>Zwall</td>\n",
       "      <td>NaN</td>\n",
       "      <td>dialect</td>\n",
       "      <td>Africa</td>\n",
       "      <td>NaN</td>\n",
       "      <td>NaN</td>\n",
       "    </tr>\n",
       "    <tr>\n",
       "      <th>22108</th>\n",
       "      <td>zyph1238</td>\n",
       "      <td>Zyphe</td>\n",
       "      <td>zyp</td>\n",
       "      <td>language</td>\n",
       "      <td>Eurasia</td>\n",
       "      <td>22.52400</td>\n",
       "      <td>93.2640</td>\n",
       "    </tr>\n",
       "    <tr>\n",
       "      <th>22109</th>\n",
       "      <td>zyud1238</td>\n",
       "      <td>Zyuzdin</td>\n",
       "      <td>NaN</td>\n",
       "      <td>dialect</td>\n",
       "      <td>Eurasia</td>\n",
       "      <td>NaN</td>\n",
       "      <td>NaN</td>\n",
       "    </tr>\n",
       "    <tr>\n",
       "      <th>22110</th>\n",
       "      <td>huaa1249</td>\n",
       "      <td>ǂHua</td>\n",
       "      <td>NaN</td>\n",
       "      <td>dialect</td>\n",
       "      <td>Africa</td>\n",
       "      <td>NaN</td>\n",
       "      <td>NaN</td>\n",
       "    </tr>\n",
       "  </tbody>\n",
       "</table>\n",
       "<p>22111 rows × 7 columns</p>\n",
       "</div>"
      ],
      "text/plain": [
       "      glottocode        name isocodes     level  macroarea  latitude  \\\n",
       "0       3adt1234  3Ad-Tekles      NaN   dialect     Africa       NaN   \n",
       "1       aala1237      Aalawa      NaN   dialect  Papunesia       NaN   \n",
       "2       aant1238  Aantantara      NaN   dialect  Papunesia       NaN   \n",
       "3       aari1239        Aari      aiw  language     Africa   5.95034   \n",
       "4       aari1240      Aariya      aay  language    Eurasia       NaN   \n",
       "...          ...         ...      ...       ...        ...       ...   \n",
       "22106   zuwa1238     Zuwadza      NaN   dialect  Papunesia       NaN   \n",
       "22107   zwal1238       Zwall      NaN   dialect     Africa       NaN   \n",
       "22108   zyph1238       Zyphe      zyp  language    Eurasia  22.52400   \n",
       "22109   zyud1238     Zyuzdin      NaN   dialect    Eurasia       NaN   \n",
       "22110   huaa1249        ǂHua      NaN   dialect     Africa       NaN   \n",
       "\n",
       "       longitude  \n",
       "0            NaN  \n",
       "1            NaN  \n",
       "2            NaN  \n",
       "3        36.5721  \n",
       "4            NaN  \n",
       "...          ...  \n",
       "22106        NaN  \n",
       "22107        NaN  \n",
       "22108    93.2640  \n",
       "22109        NaN  \n",
       "22110        NaN  \n",
       "\n",
       "[22111 rows x 7 columns]"
      ]
     },
     "execution_count": 15,
     "metadata": {},
     "output_type": "execute_result"
    }
   ],
   "source": [
    "glottolog_data = pd.read_csv('languages_and_dialects_geo.csv')\n",
    "glottolog_data"
   ]
  },
  {
   "cell_type": "code",
   "execution_count": 26,
   "metadata": {},
   "outputs": [
    {
     "name": "stdout",
     "output_type": "stream",
     "text": [
      "9\n"
     ]
    }
   ],
   "source": [
    "# Glottolog is very specific in naming dialects and other varieties, so iso codes will likely be more navigable\n",
    "\n",
    "wiki_lang = wiki_data['lang'].to_list()\n",
    "unesco_lang = unesco_data['Name in English'].to_list()\n",
    "wiki_unesco_lang = pd.DataFrame({'Agg': list(set(wiki_lang) & set(unesco_lang))})\n",
    "\n",
    "glottolog_lang = pd.DataFrame({'Glotto lang': glottolog_data['name']})\n",
    "print(len(set(set(glottolog_lang['Glotto lang']).intersection(set(wiki_unesco_lang['Agg'])))))\n"
   ]
  },
  {
   "cell_type": "markdown",
   "metadata": {},
   "source": [
    "## Merging"
   ]
  },
  {
   "cell_type": "code",
   "execution_count": 28,
   "metadata": {},
   "outputs": [],
   "source": [
    "geodata = pd.read_csv('languages_and_dialects_geo.csv')\n",
    "\n",
    "langs = pd.read_csv('Extinct languages - DATA SUMMARY.csv')"
   ]
  },
  {
   "cell_type": "code",
   "execution_count": 29,
   "metadata": {},
   "outputs": [
    {
     "data": {
      "text/html": [
       "<div>\n",
       "<style scoped>\n",
       "    .dataframe tbody tr th:only-of-type {\n",
       "        vertical-align: middle;\n",
       "    }\n",
       "\n",
       "    .dataframe tbody tr th {\n",
       "        vertical-align: top;\n",
       "    }\n",
       "\n",
       "    .dataframe thead th {\n",
       "        text-align: right;\n",
       "    }\n",
       "</style>\n",
       "<table border=\"1\" class=\"dataframe\">\n",
       "  <thead>\n",
       "    <tr style=\"text-align: right;\">\n",
       "      <th></th>\n",
       "      <th>glottocode</th>\n",
       "      <th>name</th>\n",
       "      <th>isocodes</th>\n",
       "      <th>level</th>\n",
       "      <th>macroarea</th>\n",
       "      <th>latitude</th>\n",
       "      <th>longitude</th>\n",
       "    </tr>\n",
       "  </thead>\n",
       "  <tbody>\n",
       "    <tr>\n",
       "      <th>0</th>\n",
       "      <td>3adt1234</td>\n",
       "      <td>3Ad-Tekles</td>\n",
       "      <td>NaN</td>\n",
       "      <td>dialect</td>\n",
       "      <td>Africa</td>\n",
       "      <td>NaN</td>\n",
       "      <td>NaN</td>\n",
       "    </tr>\n",
       "    <tr>\n",
       "      <th>1</th>\n",
       "      <td>aala1237</td>\n",
       "      <td>Aalawa</td>\n",
       "      <td>NaN</td>\n",
       "      <td>dialect</td>\n",
       "      <td>Papunesia</td>\n",
       "      <td>NaN</td>\n",
       "      <td>NaN</td>\n",
       "    </tr>\n",
       "    <tr>\n",
       "      <th>2</th>\n",
       "      <td>aant1238</td>\n",
       "      <td>Aantantara</td>\n",
       "      <td>NaN</td>\n",
       "      <td>dialect</td>\n",
       "      <td>Papunesia</td>\n",
       "      <td>NaN</td>\n",
       "      <td>NaN</td>\n",
       "    </tr>\n",
       "    <tr>\n",
       "      <th>3</th>\n",
       "      <td>aari1239</td>\n",
       "      <td>Aari</td>\n",
       "      <td>aiw</td>\n",
       "      <td>language</td>\n",
       "      <td>Africa</td>\n",
       "      <td>5.95034</td>\n",
       "      <td>36.5721</td>\n",
       "    </tr>\n",
       "    <tr>\n",
       "      <th>4</th>\n",
       "      <td>aari1240</td>\n",
       "      <td>Aariya</td>\n",
       "      <td>aay</td>\n",
       "      <td>language</td>\n",
       "      <td>Eurasia</td>\n",
       "      <td>NaN</td>\n",
       "      <td>NaN</td>\n",
       "    </tr>\n",
       "  </tbody>\n",
       "</table>\n",
       "</div>"
      ],
      "text/plain": [
       "  glottocode        name isocodes     level  macroarea  latitude  longitude\n",
       "0   3adt1234  3Ad-Tekles      NaN   dialect     Africa       NaN        NaN\n",
       "1   aala1237      Aalawa      NaN   dialect  Papunesia       NaN        NaN\n",
       "2   aant1238  Aantantara      NaN   dialect  Papunesia       NaN        NaN\n",
       "3   aari1239        Aari      aiw  language     Africa   5.95034    36.5721\n",
       "4   aari1240      Aariya      aay  language    Eurasia       NaN        NaN"
      ]
     },
     "execution_count": 29,
     "metadata": {},
     "output_type": "execute_result"
    }
   ],
   "source": [
    "geodata.head()"
   ]
  },
  {
   "cell_type": "code",
   "execution_count": 30,
   "metadata": {},
   "outputs": [
    {
     "data": {
      "text/html": [
       "<div>\n",
       "<style scoped>\n",
       "    .dataframe tbody tr th:only-of-type {\n",
       "        vertical-align: middle;\n",
       "    }\n",
       "\n",
       "    .dataframe tbody tr th {\n",
       "        vertical-align: top;\n",
       "    }\n",
       "\n",
       "    .dataframe thead th {\n",
       "        text-align: right;\n",
       "    }\n",
       "</style>\n",
       "<table border=\"1\" class=\"dataframe\">\n",
       "  <thead>\n",
       "    <tr style=\"text-align: right;\">\n",
       "      <th></th>\n",
       "      <th>Name in English</th>\n",
       "      <th>Number of speakers</th>\n",
       "      <th>Degree of endangerment</th>\n",
       "    </tr>\n",
       "  </thead>\n",
       "  <tbody>\n",
       "    <tr>\n",
       "      <th>0</th>\n",
       "      <td>South Italian</td>\n",
       "      <td>7500000</td>\n",
       "      <td>Vulnerable</td>\n",
       "    </tr>\n",
       "    <tr>\n",
       "      <th>1</th>\n",
       "      <td>Sicilian</td>\n",
       "      <td>5000000</td>\n",
       "      <td>Vulnerable</td>\n",
       "    </tr>\n",
       "    <tr>\n",
       "      <th>2</th>\n",
       "      <td>Low Saxon</td>\n",
       "      <td>4800000</td>\n",
       "      <td>Vulnerable</td>\n",
       "    </tr>\n",
       "    <tr>\n",
       "      <th>3</th>\n",
       "      <td>Belarusian</td>\n",
       "      <td>4000000</td>\n",
       "      <td>Vulnerable</td>\n",
       "    </tr>\n",
       "    <tr>\n",
       "      <th>4</th>\n",
       "      <td>Lombard</td>\n",
       "      <td>3500000</td>\n",
       "      <td>Definitely endangered</td>\n",
       "    </tr>\n",
       "  </tbody>\n",
       "</table>\n",
       "</div>"
      ],
      "text/plain": [
       "  Name in English  Number of speakers Degree of endangerment\n",
       "0   South Italian             7500000             Vulnerable\n",
       "1        Sicilian             5000000             Vulnerable\n",
       "2       Low Saxon             4800000             Vulnerable\n",
       "3      Belarusian             4000000             Vulnerable\n",
       "4         Lombard             3500000  Definitely endangered"
      ]
     },
     "execution_count": 30,
     "metadata": {},
     "output_type": "execute_result"
    }
   ],
   "source": [
    "langs.head()"
   ]
  },
  {
   "cell_type": "code",
   "execution_count": 36,
   "metadata": {},
   "outputs": [
    {
     "data": {
      "text/plain": [
       "1315"
      ]
     },
     "execution_count": 36,
     "metadata": {},
     "output_type": "execute_result"
    }
   ],
   "source": [
    "len(set(geodata['name'].str.lower().values).intersection(set(langs['Name in English'].str.lower().values)))"
   ]
  },
  {
   "cell_type": "code",
   "execution_count": 37,
   "metadata": {},
   "outputs": [],
   "source": [
    "geodata['name_normalized'] = geodata['name'].str.lower()\n",
    "langs['name_normalized'] = langs['Name in English'].str.lower()\n",
    "\n",
    "merged = pd.merge(geodata, langs, left_on='name_normalized', right_on='name_normalized', how='inner')"
   ]
  },
  {
   "cell_type": "code",
   "execution_count": 39,
   "metadata": {},
   "outputs": [
    {
     "data": {
      "text/plain": [
       "level\n",
       "language    1167\n",
       "dialect      153\n",
       "Name: count, dtype: int64"
      ]
     },
     "execution_count": 39,
     "metadata": {},
     "output_type": "execute_result"
    }
   ],
   "source": [
    "merged['level'].value_counts()"
   ]
  },
  {
   "cell_type": "code",
   "execution_count": 40,
   "metadata": {},
   "outputs": [],
   "source": [
    "merged.to_csv('merged.csv', index=False)"
   ]
  }
 ],
 "metadata": {
  "kernelspec": {
   "display_name": "Python 3",
   "language": "python",
   "name": "python3"
  },
  "language_info": {
   "codemirror_mode": {
    "name": "ipython",
    "version": 3
   },
   "file_extension": ".py",
   "mimetype": "text/x-python",
   "name": "python",
   "nbconvert_exporter": "python",
   "pygments_lexer": "ipython3",
   "version": "3.12.1"
  }
 },
 "nbformat": 4,
 "nbformat_minor": 2
}
