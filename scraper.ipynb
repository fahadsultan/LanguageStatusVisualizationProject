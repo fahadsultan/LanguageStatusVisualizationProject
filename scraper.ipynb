{
 "cells": [
  {
   "cell_type": "markdown",
   "metadata": {},
   "source": [
    "# Scraper"
   ]
  },
  {
   "cell_type": "code",
   "execution_count": 58,
   "metadata": {},
   "outputs": [],
   "source": [
    "import pandas as pd \n",
    "import requests\n",
    "import unicodedata\n",
    "from tqdm import tqdm\n",
    "from bs4 import BeautifulSoup\n",
    "\n",
    "def get_links(): \n",
    "    response = requests.get('https://en.wikipedia.org/wiki/List_of_language_names')\n",
    "    soup = BeautifulSoup(response.content, 'html.parser')\n",
    "    links = soup.find_all('a')\n",
    "    # links = [link.get('href') for link in links if (link.get('title') is not None) and ('language' in link.get('title'))]\n",
    "    links = [link.get('href') for link in links if (link.get('title') is not None)]\n",
    "    # links = [link for link in links if link.endswith('_language')]\n",
    "    links = [\"https://en.wikipedia.org\"+link for link in links]\n",
    "    return links"
   ]
  },
  {
   "cell_type": "code",
   "execution_count": 71,
   "metadata": {},
   "outputs": [
    {
     "data": {
      "text/plain": [
       "['https://en.wikipedia.org/wiki/Hong_Kong_Special_Administration_Region',\n",
       " 'https://en.wikipedia.org/wiki/States_and_federal_territories_of_Malaysia',\n",
       " 'https://en.wikipedia.org/wiki/Adai_language',\n",
       " 'https://en.wikipedia.org/wiki/Northern_Ireland',\n",
       " 'https://en.wikipedia.org/wiki/Kapampangan_language',\n",
       " 'https://en.wikipedia.org/wiki/Vlax_Romani_language',\n",
       " 'https://en.wikipedia.org/wiki/Tripura',\n",
       " 'https://en.wikipedia.org/wiki/Nahuatl_language',\n",
       " 'https://en.wikipedia.org/wiki/Trinidad',\n",
       " 'https://en.wikipedia.org/wiki/Hmong_language',\n",
       " 'https://en.wikipedia.org/wiki/Palawan',\n",
       " 'https://en.wikipedia.org/wiki/Democratic_Republic_of_Timor-Leste',\n",
       " 'https://en.wikipedia.org/wiki/Pidgin',\n",
       " 'https://en.wikipedia.org/wiki/Karelia',\n",
       " 'https://en.wikipedia.org/wiki/Bahawalpur_South_Punjab',\n",
       " 'https://en.wikipedia.org/wiki/Kachin_State',\n",
       " 'https://en.wikipedia.org/wiki/South_Asia',\n",
       " 'https://en.wikipedia.org/wiki/Fur_languages',\n",
       " 'https://en.wikipedia.org/wiki/Parya_language',\n",
       " 'https://en.wikipedia.org/wiki/Hardap_Region',\n",
       " 'https://en.wikipedia.org/wiki/Arin_language',\n",
       " 'https://en.wikipedia.org/wiki/Click_language',\n",
       " 'https://en.wikipedia.org/wiki/Latvian_language',\n",
       " 'https://en.wikipedia.org/wiki/Sapudi_Island',\n",
       " 'https://en.wikipedia.org/wiki/Odia_language',\n",
       " 'https://en.wikipedia.org/wiki/Caddo_language',\n",
       " 'https://en.wikipedia.org/wiki/Kendeje_language',\n",
       " 'https://en.wikipedia.org/wiki/Hindko',\n",
       " 'https://en.wikipedia.org/wiki/New_Caledonia',\n",
       " 'https://en.wikipedia.org/wiki/Fon_language',\n",
       " 'https://en.wikipedia.org/wiki/Autonomous_Region_of_Bougainville',\n",
       " 'https://en.wikipedia.org/wiki/Khoekhoe_language',\n",
       " 'https://en.wikipedia.org/wiki/Sierra_Leone',\n",
       " 'https://en.wikipedia.org/wiki/Kanuri_language',\n",
       " 'https://en.wikipedia.org/wiki/Haiti',\n",
       " 'https://en.wikipedia.org/wiki/Republic_of_Croatia',\n",
       " 'https://en.wikipedia.org/wiki/Chechen_language',\n",
       " 'https://en.wikipedia.org/wiki/Burgenland',\n",
       " 'https://en.wikipedia.org/wiki/Autonomous_Republic_of_Crimea',\n",
       " 'https://en.wikipedia.org/wiki/Khabarovsk_Krai',\n",
       " 'https://en.wikipedia.org/wiki/Hungary',\n",
       " 'https://en.wikipedia.org/wiki/Masalit_language',\n",
       " 'https://en.wikipedia.org/wiki/Berber_languages',\n",
       " 'https://en.wikipedia.org/wiki/The_Gambia',\n",
       " 'https://en.wikipedia.org/wiki/Republic_of_South_Africa',\n",
       " 'https://en.wikipedia.org/wiki/Malawi',\n",
       " 'https://en.wikipedia.org/wiki/North_Macedonia',\n",
       " 'https://en.wikipedia.org/wiki/Apulia',\n",
       " 'https://en.wikipedia.org/wiki/Saterland_Frisian_language',\n",
       " 'https://en.wikipedia.org/wiki/Kingdom_of_Denmark',\n",
       " 'https://en.wikipedia.org/wiki/Daman_and_Diu',\n",
       " 'https://en.wikipedia.org/wiki/Czech_language',\n",
       " 'https://en.wikipedia.org/wiki/Cahuilla_language',\n",
       " 'https://en.wikipedia.org/wiki/Vai_language',\n",
       " 'https://en.wikipedia.org/wiki/Songkhla_Province',\n",
       " 'https://en.wikipedia.org/wiki/Kashubian_language',\n",
       " 'https://en.wikipedia.org/wiki/Mordovia',\n",
       " 'https://en.wikipedia.org/wiki/Federal_Democratic_Republic_of_Ethiopia',\n",
       " 'https://en.wikipedia.org/wiki/Votic_language',\n",
       " 'https://en.wikipedia.org/wiki/Akkad_(city)',\n",
       " 'https://en.wikipedia.org/wiki/Fujian',\n",
       " 'https://en.wikipedia.org/wiki/Iceland',\n",
       " 'https://en.wikipedia.org/wiki/Kyrgyz_language',\n",
       " 'https://en.wikipedia.org/wiki/Republic_of_Moldova',\n",
       " 'https://en.wikipedia.org/wiki/Samtskhe-Javakheti',\n",
       " 'https://en.wikipedia.org/wiki/Lisu_language',\n",
       " 'https://en.wikipedia.org/wiki/Afrikaans',\n",
       " 'https://en.wikipedia.org/wiki/Socialist_Republic_of_Vietnam',\n",
       " 'https://en.wikipedia.org/wiki/East_Nusa_Tenggara',\n",
       " 'https://en.wikipedia.org/wiki/Tumpoon_language',\n",
       " 'https://en.wikipedia.org/wiki/Sasak_language',\n",
       " 'https://en.wikipedia.org/wiki/Cities_of_Brazil',\n",
       " 'https://en.wikipedia.org/wiki/Kosraean_language',\n",
       " 'https://en.wikipedia.org/wiki/Kazakhstan',\n",
       " 'https://en.wikipedia.org/wiki/Jinping_Miao,_Yao,_and_Dai_Autonomous_County',\n",
       " 'https://en.wikipedia.org/wiki/Union_Territory',\n",
       " 'https://en.wikipedia.org/wiki/Cornish_language',\n",
       " 'https://en.wikipedia.org/wiki/Siberia',\n",
       " 'https://en.wikipedia.org/wiki/Mesopotamia',\n",
       " 'https://en.wikipedia.org/wiki/West_Papua_(province)',\n",
       " 'https://en.wikipedia.org/wiki/Republic_of_Albania',\n",
       " 'https://en.wikipedia.org/wiki/Piedmont',\n",
       " 'https://en.wikipedia.org/wiki/Mon_language',\n",
       " 'https://en.wikipedia.org/wiki/Betawi_language',\n",
       " 'https://en.wikipedia.org/wiki/Jutlandic_dialect',\n",
       " 'https://en.wikipedia.org/wiki/Armenian_diaspora',\n",
       " 'https://en.wikipedia.org/wiki/Tanzania',\n",
       " 'https://en.wikipedia.org/wiki/Chewa_language',\n",
       " 'https://en.wikipedia.org/wiki/Min_Zhong',\n",
       " 'https://en.wikipedia.org/wiki/Catalan_language',\n",
       " 'https://en.wikipedia.org/wiki/United_Arab_Emirates',\n",
       " 'https://en.wikipedia.org/wiki/Niger',\n",
       " 'https://en.wikipedia.org/wiki/Diyarbak%C4%B1r_Province',\n",
       " 'https://en.wikipedia.org/wiki/Tsez_language',\n",
       " 'https://en.wikipedia.org/wiki/Shona_language',\n",
       " 'https://en.wikipedia.org/wiki/Sub-provincial_divisions_in_the_People%27s_Republic_of_China',\n",
       " 'https://en.wikipedia.org/wiki/Ket_language',\n",
       " 'https://en.wikipedia.org/wiki/Benishangul-Gumuz_Region',\n",
       " 'https://en.wikipedia.org/wiki/Latin',\n",
       " 'https://en.wikipedia.org/wiki/Republic_of_Tatarstan',\n",
       " 'https://en.wikipedia.org/wiki/Republic_of_Vanuatu',\n",
       " 'https://en.wikipedia.org/wiki/Ontong_Java_language',\n",
       " 'https://en.wikipedia.org/wiki/Department_of_Pasco',\n",
       " 'https://en.wikipedia.org/wiki/Bekasi',\n",
       " 'https://en.wikipedia.org/wiki/Pomerode',\n",
       " 'https://en.wikipedia.org/wiki/Cara%C8%99-Severin_County',\n",
       " 'https://en.wikipedia.org/wiki/Slovene_language',\n",
       " 'https://en.wikipedia.org/wiki/Wa_State',\n",
       " 'https://en.wikipedia.org/wiki/Tangerang_Regency',\n",
       " 'https://en.wikipedia.org/wiki/Vojvodina',\n",
       " 'https://en.wikipedia.org/wiki/Afrihili',\n",
       " 'https://en.wikipedia.org/wiki/Municipalities_and_cities_of_Serbia',\n",
       " 'https://en.wikipedia.org/wiki/Bangladesh',\n",
       " 'https://en.wikipedia.org/wiki/Federal_Republic_of_Germany',\n",
       " 'https://en.wikipedia.org/wiki/South_Sulawesi',\n",
       " 'https://en.wikipedia.org/wiki/Andalusian_Arabic',\n",
       " 'https://en.wikipedia.org/wiki/Nunatsiavut',\n",
       " 'https://en.wikipedia.org/wiki/Bijago_language',\n",
       " 'https://en.wikipedia.org/wiki/African_Union',\n",
       " 'https://en.wikipedia.org/wiki/Kamchatka_Krai',\n",
       " 'https://en.wikipedia.org/wiki/Oaxaca',\n",
       " 'https://en.wikipedia.org/wiki/Galicia_(Spain)',\n",
       " 'https://en.wikipedia.org/wiki/Gujarati_language',\n",
       " 'https://en.wikipedia.org/wiki/Roman_Republic',\n",
       " 'https://en.wikipedia.org/wiki/Venetian_language',\n",
       " 'https://en.wikipedia.org/wiki/Aweer_language',\n",
       " 'https://en.wikipedia.org/wiki/Nottoway_language',\n",
       " 'https://en.wikipedia.org/wiki/Ruthenian_language',\n",
       " 'https://en.wikipedia.org/wiki/Bosnia_and_Herzegovina',\n",
       " 'https://en.wikipedia.org/wiki/Government_of_the_Autonomous_Republic_of_Abkhazia',\n",
       " 'https://en.wikipedia.org/wiki/Republic_of_Niger',\n",
       " 'https://en.wikipedia.org/wiki/Pattani_Province',\n",
       " 'https://en.wikipedia.org/wiki/Tetum_language',\n",
       " 'https://en.wikipedia.org/wiki/Republic_of_Zimbabwe',\n",
       " 'https://en.wikipedia.org/wiki/Provinces_of_the_Philippines',\n",
       " 'https://en.wikipedia.org/wiki/Sinhala_language',\n",
       " 'https://en.wikipedia.org/wiki/Java',\n",
       " 'https://en.wikipedia.org/wiki/Republic_of_Kazakhstan',\n",
       " 'https://en.wikipedia.org/wiki/Wa_language',\n",
       " 'https://en.wikipedia.org/wiki/Extremadura',\n",
       " 'https://en.wikipedia.org/wiki/Hungarian_language',\n",
       " 'https://en.wikipedia.org/wiki/Taiwan',\n",
       " 'https://en.wikipedia.org/wiki/Egyptian_Arabic',\n",
       " 'https://en.wikipedia.org/wiki/Gilbertese',\n",
       " 'https://en.wikipedia.org/wiki/Counties_of_the_People%27s_Republic_of_China',\n",
       " 'https://en.wikipedia.org/wiki/List_of_countries_where_French_is_an_official_language',\n",
       " 'https://en.wikipedia.org/wiki/Raga_language',\n",
       " 'https://en.wikipedia.org/wiki/Estonia',\n",
       " 'https://en.wikipedia.org/wiki/Ukrainian_language',\n",
       " 'https://en.wikipedia.org/wiki/Southern_Kurdish',\n",
       " 'https://en.wikipedia.org/wiki/Dakhini',\n",
       " 'https://en.wikipedia.org/wiki/Near_East',\n",
       " 'https://en.wikipedia.org/wiki/Japan',\n",
       " 'https://en.wikipedia.org/wiki/Iroquois_people',\n",
       " 'https://en.wikipedia.org/wiki/Bogor_Regency',\n",
       " 'https://en.wikipedia.org/wiki/Volap%C3%BCk',\n",
       " 'https://en.wikipedia.org/wiki/Republic_of_Mordovia',\n",
       " 'https://en.wikipedia.org/wiki/Ningbo',\n",
       " 'https://en.wikipedia.org/wiki/Irkutsk_Oblast',\n",
       " 'https://en.wikipedia.org/wiki/Min_Dong',\n",
       " 'https://en.wikipedia.org/wiki/Tatarstan',\n",
       " 'https://en.wikipedia.org/wiki/Teochew_dialect',\n",
       " 'https://en.wikipedia.org/wiki/Navarre',\n",
       " 'https://en.wikipedia.org/wiki/Zhejiang',\n",
       " 'https://en.wikipedia.org/wiki/East_New_Britain',\n",
       " 'https://en.wikipedia.org/wiki/Korean_Peninsula',\n",
       " 'https://en.wikipedia.org/wiki/Angola',\n",
       " 'https://en.wikipedia.org/wiki/Inner_Mongolia',\n",
       " 'https://en.wikipedia.org/wiki/Bislama',\n",
       " 'https://en.wikipedia.org/wiki/Pomeranian_Voivodeship',\n",
       " 'https://en.wikipedia.org/wiki/Prefecture-level_city',\n",
       " 'https://en.wikipedia.org/wiki/Bashkortostan',\n",
       " 'https://en.wikipedia.org/wiki/Guinea',\n",
       " 'https://en.wikipedia.org/wiki/Grenadian_Creole_French',\n",
       " 'https://en.wikipedia.org/wiki/Ili_Turki',\n",
       " 'https://en.wikipedia.org/wiki/Dolgan_language',\n",
       " 'https://en.wikipedia.org/wiki/West_Bengal',\n",
       " 'https://en.wikipedia.org/wiki/Fon_people',\n",
       " 'https://en.wikipedia.org/wiki/Dungan_language',\n",
       " 'https://en.wikipedia.org/wiki/Lakha_language',\n",
       " 'https://en.wikipedia.org/wiki/Irish_language',\n",
       " 'https://en.wikipedia.org/wiki/Tobago',\n",
       " 'https://en.wikipedia.org/wiki/Rohingya_language',\n",
       " 'https://en.wikipedia.org/wiki/Western_Armenian_language',\n",
       " 'https://en.wikipedia.org/wiki/Provinces_and_territories_of_Canada',\n",
       " 'https://en.wikipedia.org/wiki/Classical_Chinese_language',\n",
       " 'https://en.wikipedia.org/wiki/Moroto_District',\n",
       " 'https://en.wikipedia.org/wiki/Lists_of_extinct_languages',\n",
       " 'https://en.wikipedia.org/wiki/Scots_language',\n",
       " 'https://en.wikipedia.org/wiki/Kosrae',\n",
       " 'https://en.wikipedia.org/wiki/South_Tyrol',\n",
       " 'https://en.wikipedia.org/wiki/Six_Nations_of_the_Grand_River_First_Nation',\n",
       " 'https://en.wikipedia.org/wiki/Quechua_people',\n",
       " 'https://en.wikipedia.org/wiki/Bassa_people_(Liberia)',\n",
       " 'https://en.wikipedia.org/wiki/Chalcatongo_Mixtec',\n",
       " 'https://en.wikipedia.org/wiki/Gagauz_language',\n",
       " 'https://en.wikipedia.org/wiki/Georgia_(U.S._state)',\n",
       " 'https://en.wikipedia.org/wiki/Republic_of_the_Union_of_Myanmar',\n",
       " 'https://en.wikipedia.org/wiki/East_Java',\n",
       " 'https://en.wikipedia.org/wiki/Mozambique',\n",
       " 'https://en.wikipedia.org/wiki/Yingjiang_County',\n",
       " 'https://en.wikipedia.org/wiki/Republic_of_Guinea',\n",
       " 'https://en.wikipedia.org/wiki/Sherpa_language',\n",
       " 'https://en.wikipedia.org/wiki/Yakutia',\n",
       " 'https://en.wikipedia.org/wiki/Senegal',\n",
       " 'https://en.wikipedia.org/wiki/C%C3%B4te_d%27Ivoire',\n",
       " 'https://en.wikipedia.org/wiki/Punjabi_language',\n",
       " 'https://en.wikipedia.org/wiki/Lepcha_language',\n",
       " 'https://en.wikipedia.org/wiki/Sonsonate,_El_Salvador',\n",
       " 'https://en.wikipedia.org/wiki/Northern_Mariana_Islands',\n",
       " 'https://en.wikipedia.org/wiki/Chechnya',\n",
       " 'https://en.wikipedia.org/wiki/Republic_of_the_Sudan',\n",
       " 'https://en.wikipedia.org/wiki/Buhid_language',\n",
       " 'https://en.wikipedia.org/wiki/West_Nusa_Tenggara',\n",
       " 'https://en.wikipedia.org/wiki/Cahuarano_language',\n",
       " 'https://en.wikipedia.org/wiki/Lingala',\n",
       " 'https://en.wikipedia.org/wiki/Adjukru_language',\n",
       " 'https://en.wikipedia.org/wiki/S%C3%A3o_Tom%C3%A9_and_Pr%C3%ADncipe',\n",
       " 'https://en.wikipedia.org/wiki/Inari_S%C3%A1mi_language',\n",
       " 'https://en.wikipedia.org/wiki/Kawthoolei',\n",
       " 'https://en.wikipedia.org/wiki/Aruba',\n",
       " 'https://en.wikipedia.org/wiki/Gabon',\n",
       " 'https://en.wikipedia.org/wiki/San_Marino',\n",
       " 'https://en.wikipedia.org/wiki/Borama_alphabet',\n",
       " 'https://en.wikipedia.org/wiki/Crimea',\n",
       " 'https://en.wikipedia.org/wiki/Judaeo-Spanish',\n",
       " 'https://en.wikipedia.org/wiki/North_Sumatra',\n",
       " 'https://en.wikipedia.org/wiki/Angika',\n",
       " 'https://en.wikipedia.org/wiki/Bolivia',\n",
       " 'https://en.wikipedia.org/wiki/Barak_Valley',\n",
       " 'https://en.wikipedia.org/wiki/Slovenian_Istria',\n",
       " 'https://en.wikipedia.org/wiki/Djibouti',\n",
       " 'https://en.wikipedia.org/wiki/%C7%82Akhoe_dialect',\n",
       " 'https://en.wikipedia.org/wiki/Ik_language',\n",
       " 'https://en.wikipedia.org/wiki/Kyrgyzstan',\n",
       " 'https://en.wikipedia.org/wiki/East_Asia',\n",
       " 'https://en.wikipedia.org/wiki/Ingush_language',\n",
       " 'https://en.wikipedia.org/wiki/Punjab,_India',\n",
       " 'https://en.wikipedia.org/wiki/Kenya',\n",
       " 'https://en.wikipedia.org/wiki/Southern_S%C3%A1mi',\n",
       " 'https://en.wikipedia.org/wiki/Tongan_language',\n",
       " 'https://en.wikipedia.org/wiki/Kingdom_of_Bhutan',\n",
       " 'https://en.wikipedia.org/wiki/Hebrew',\n",
       " 'https://en.wikipedia.org/wiki/Adyghe_language',\n",
       " 'https://en.wikipedia.org/wiki/Orok_language',\n",
       " 'https://en.wikipedia.org/wiki/Uduk_language',\n",
       " 'https://en.wikipedia.org/wiki/Nunavik',\n",
       " 'https://en.wikipedia.org/wiki/Goa',\n",
       " 'https://en.wikipedia.org/wiki/Yoruba_language',\n",
       " 'https://en.wikipedia.org/wiki/Western_Africa',\n",
       " 'https://en.wikipedia.org/wiki/Magahi',\n",
       " 'https://en.wikipedia.org/wiki/Ancient_Greek',\n",
       " 'https://en.wikipedia.org/wiki/Maithili_language',\n",
       " 'https://en.wikipedia.org/wiki/Aguacateco_language',\n",
       " 'https://en.wikipedia.org/wiki/Luxembourgish',\n",
       " 'https://en.wikipedia.org/wiki/Iranian_Plateau',\n",
       " 'https://en.wikipedia.org/wiki/Nordfriesland',\n",
       " 'https://en.wikipedia.org/wiki/Chitral_District',\n",
       " 'https://en.wikipedia.org/wiki/Johann_Martin_Schleyer',\n",
       " 'https://en.wikipedia.org/wiki/Tuvan_language',\n",
       " 'https://en.wikipedia.org/wiki/Kingdom_of_Thailand',\n",
       " 'https://en.wikipedia.org/wiki/Manipur',\n",
       " 'https://en.wikipedia.org/wiki/Russia',\n",
       " 'https://en.wikipedia.org/wiki/V%C3%B5ro_language',\n",
       " 'https://en.wikipedia.org/wiki/Arpitan_language',\n",
       " 'https://en.wikipedia.org/wiki/Surajpuri_language',\n",
       " 'https://en.wikipedia.org/wiki/Ladakhi_language',\n",
       " 'https://en.wikipedia.org/wiki/Laos',\n",
       " 'https://en.wikipedia.org/wiki/Uzbekistan',\n",
       " 'https://en.wikipedia.org/wiki/Elaz%C4%B1%C4%9F_Province',\n",
       " 'https://en.wikipedia.org/wiki/Kwanyama_dialect',\n",
       " 'https://en.wikipedia.org/wiki/Philippines',\n",
       " 'https://en.wikipedia.org/wiki/Balinese_language',\n",
       " 'https://en.wikipedia.org/wiki/Arikara_language',\n",
       " 'https://en.wikipedia.org/wiki/Turkmenistan',\n",
       " 'https://en.wikipedia.org/wiki/Big_Nambas',\n",
       " 'https://en.wikipedia.org/wiki/Trentino',\n",
       " 'https://en.wikipedia.org/wiki/Kutchi_language',\n",
       " 'https://en.wikipedia.org/wiki/States_of_Pakistan',\n",
       " 'https://en.wikipedia.org/wiki/Mexico',\n",
       " 'https://en.wikipedia.org/wiki/Baybayin',\n",
       " 'https://en.wikipedia.org/wiki/Tabasco',\n",
       " 'https://en.wikipedia.org/wiki/Cocos_Malay',\n",
       " 'https://en.wikipedia.org/wiki/Colombia',\n",
       " 'https://en.wikipedia.org/wiki/Republic_of_Botswana',\n",
       " 'https://en.wikipedia.org/wiki/North_Africa',\n",
       " 'https://en.wikipedia.org/wiki/Cherokee_language',\n",
       " 'https://en.wikipedia.org/wiki/Swahili_language',\n",
       " 'https://en.wikipedia.org/wiki/Laal_language',\n",
       " 'https://en.wikipedia.org/wiki/Musgu_language',\n",
       " 'https://en.wikipedia.org/wiki/British_Columbia',\n",
       " 'https://en.wikipedia.org/wiki/Republic_of_Ireland',\n",
       " 'https://en.wikipedia.org/wiki/Fiji',\n",
       " 'https://en.wikipedia.org/wiki/Upper_Sorbian_language',\n",
       " 'https://en.wikipedia.org/wiki/Serer_language',\n",
       " 'https://en.wikipedia.org/wiki/Rusyn_language',\n",
       " 'https://en.wikipedia.org/wiki/Quebec',\n",
       " 'https://en.wikipedia.org/wiki/Silesian_language',\n",
       " 'https://en.wikipedia.org/wiki/Braille',\n",
       " 'https://en.wikipedia.org/wiki/Achumawi_language',\n",
       " 'https://en.wikipedia.org/wiki/Dzongkha',\n",
       " 'https://en.wikipedia.org/wiki/Karachay-Cherkessia',\n",
       " 'https://en.wikipedia.org/wiki/South_Ossetia',\n",
       " 'https://en.wikipedia.org/wiki/Comarques_of_Catalonia',\n",
       " 'https://en.wikipedia.org/wiki/Provinces_of_Indonesia',\n",
       " 'https://en.wikipedia.org/wiki/Azoyu_Me%E2%80%99phaa_language',\n",
       " 'https://en.wikipedia.org/wiki/Bambara_language',\n",
       " 'https://en.wikipedia.org/wiki/Fief',\n",
       " 'https://en.wikipedia.org/wiki/Nepal',\n",
       " 'https://en.wikipedia.org/wiki/States_and_territories_of_Australia',\n",
       " 'https://en.wikipedia.org/wiki/Abaza_language',\n",
       " 'https://en.wikipedia.org/wiki/Gagauzia',\n",
       " 'https://en.wikipedia.org/wiki/Bing%C3%B6l_Province',\n",
       " 'https://en.wikipedia.org/wiki/Hakka_Chinese',\n",
       " 'https://en.wikipedia.org/wiki/Hiligaynon_language',\n",
       " 'https://en.wikipedia.org/wiki/Lakota_language',\n",
       " 'https://en.wikipedia.org/wiki/Zoroastrian',\n",
       " 'https://en.wikipedia.org/wiki/Zimbabwe',\n",
       " 'https://en.wikipedia.org/wiki/Main_Page',\n",
       " 'https://en.wikipedia.org/wiki/Molise',\n",
       " 'https://en.wikipedia.org/wiki/Autonomous_regions_of_China',\n",
       " 'https://en.wikipedia.org/wiki/Khmu_language',\n",
       " 'https://en.wikipedia.org/wiki/List_of_countries_where_Arabic_is_an_official_language',\n",
       " 'https://en.wikipedia.org/wiki/Greenland',\n",
       " 'https://en.wikipedia.org/wiki/Indonesian_language',\n",
       " 'https://en.wikipedia.org/wiki/Karakalpakstan',\n",
       " 'https://en.wikipedia.org/wiki/Auslan',\n",
       " 'https://en.wikipedia.org/wiki/Kulitan_alphabet',\n",
       " 'https://en.wikipedia.org/wiki/Basa-Gumna_language',\n",
       " 'https://en.wikipedia.org/wiki/Luganda_language',\n",
       " 'https://en.wikipedia.org/wiki/Mindoro',\n",
       " 'https://en.wikipedia.org/wiki/Japanese_language',\n",
       " 'https://en.wikipedia.org/wiki/Phoenician_language',\n",
       " 'https://en.wikipedia.org/wiki/Borneo',\n",
       " 'https://en.wikipedia.org/wiki/Egypt',\n",
       " 'https://en.wikipedia.org/wiki/Subsaharan_Africa',\n",
       " 'https://en.wikipedia.org/wiki/Depok',\n",
       " 'https://en.wikipedia.org/wiki/Karenni_language',\n",
       " 'https://en.wikipedia.org/wiki/Mari_El',\n",
       " 'https://en.wikipedia.org/wiki/Mauritania',\n",
       " 'https://en.wikipedia.org/wiki/Greater_Sylhet',\n",
       " 'https://en.wikipedia.org/wiki/Ume_S%C3%A1mi',\n",
       " 'https://en.wikipedia.org/wiki/Dutton_World_Speedwords',\n",
       " 'https://en.wikipedia.org/wiki/Trinidad_and_Tobago',\n",
       " 'https://en.wikipedia.org/wiki/French_Polynesia',\n",
       " 'https://en.wikipedia.org/wiki/Jammu_and_Kashmir_(union_territory)',\n",
       " 'https://en.wikipedia.org/wiki/Xianyou_County',\n",
       " 'https://en.wikipedia.org/wiki/Norway',\n",
       " 'https://en.wikipedia.org/wiki/Val_d%27Aran',\n",
       " 'https://en.wikipedia.org/wiki/Tomsk_Oblast',\n",
       " 'https://en.wikipedia.org/wiki/Ukraine',\n",
       " 'https://en.wikipedia.org/wiki/Guaran%C3%AD_language',\n",
       " 'https://en.wikipedia.org/wiki/Italian_language',\n",
       " 'https://en.wikipedia.org/wiki/Kannada',\n",
       " 'https://en.wikipedia.org/wiki/Ivatan_language',\n",
       " 'https://en.wikipedia.org/wiki/State_of_Arizona',\n",
       " 'https://en.wikipedia.org/wiki/Pangasinan_language',\n",
       " 'https://en.wikipedia.org/wiki/Terengganu',\n",
       " 'https://en.wikipedia.org/wiki/Fijian_language',\n",
       " 'https://en.wikipedia.org/wiki/Tongva_language',\n",
       " 'https://en.wikipedia.org/wiki/S%27gaw_Karen_language',\n",
       " 'https://en.wikipedia.org/wiki/Piman_languages',\n",
       " 'https://en.wikipedia.org/wiki/Southeast_Asia',\n",
       " 'https://en.wikipedia.org/wiki/Eastern_Armenian_language',\n",
       " 'https://en.wikipedia.org/wiki/Paratio_language',\n",
       " 'https://en.wikipedia.org/wiki/Luo_dialect',\n",
       " 'https://en.wikipedia.org/wiki/Kelantan',\n",
       " 'https://en.wikipedia.org/wiki/Aari_language',\n",
       " 'https://en.wikipedia.org/wiki/Cupe%C3%B1o_language',\n",
       " 'https://en.wikipedia.org/wiki/Aragonese_language',\n",
       " 'https://en.wikipedia.org/wiki/Avar_language',\n",
       " 'https://en.wikipedia.org/wiki/Xiri%C3%A2na',\n",
       " 'https://en.wikipedia.org/wiki/Adangme',\n",
       " 'https://en.wikipedia.org/wiki/Republic_of_Uganda',\n",
       " 'https://en.wikipedia.org/wiki/Hill_Mari',\n",
       " 'https://en.wikipedia.org/wiki/Germanic_tribes',\n",
       " 'https://en.wikipedia.org/wiki/Dukhan_language',\n",
       " 'https://en.wikipedia.org/wiki/Tepes_language',\n",
       " 'https://en.wikipedia.org/wiki/Districts_of_Germany',\n",
       " 'https://en.wikipedia.org/wiki/Federated_States_of_Micronesia',\n",
       " 'https://en.wikipedia.org/wiki/Switzerland',\n",
       " 'https://en.wikipedia.org/wiki/Aklanon_language',\n",
       " 'https://en.wikipedia.org/wiki/Dungan_people',\n",
       " 'https://en.wikipedia.org/wiki/Khowar_language',\n",
       " 'https://en.wikipedia.org/wiki/Kayah_State',\n",
       " 'https://en.wikipedia.org/wiki/Dehong_Dai_and_Jingpo_Autonomous_Prefecture',\n",
       " 'https://en.wikipedia.org/wiki/Kabardino-Balkaria',\n",
       " 'https://en.wikipedia.org/wiki/Serbian_language',\n",
       " 'https://en.wikipedia.org/wiki/Hellenic_Republic',\n",
       " 'https://en.wikipedia.org/wiki/Azerbaijan',\n",
       " 'https://en.wikipedia.org/wiki/Serbia',\n",
       " 'https://en.wikipedia.org/wiki/Autonomous_regions_of_the_People%27s_Republic_of_China',\n",
       " 'https://en.wikipedia.org/wiki/Kildin_S%C3%A1mi',\n",
       " 'https://en.wikipedia.org/wiki/Durango',\n",
       " 'https://en.wikipedia.org/wiki/Karelian_language',\n",
       " 'https://en.wikipedia.org/wiki/States_of_Mexico',\n",
       " 'https://en.wikipedia.org/wiki/%27Phags-pa_script',\n",
       " 'https://en.wikipedia.org/wiki/Bemba_language',\n",
       " 'https://en.wikipedia.org/wiki/Provinces_of_Panama',\n",
       " 'https://en.wikipedia.org/wiki/New_Mexico',\n",
       " 'https://en.wikipedia.org/wiki/Shanghaiese',\n",
       " 'https://en.wikipedia.org/wiki/Aymara_people',\n",
       " 'https://en.wikipedia.org/wiki/Grand_Duchy_of_Lithuania',\n",
       " 'https://en.wikipedia.org/wiki/Liberia',\n",
       " 'https://en.wikipedia.org/wiki/Kh%C3%BCn_language',\n",
       " 'https://en.wikipedia.org/wiki/Sakha_Republic',\n",
       " 'https://en.wikipedia.org/wiki/Deseret_alphabet',\n",
       " 'https://en.wikipedia.org/wiki/Hakka_people',\n",
       " 'https://en.wikipedia.org/wiki/Vedda_language',\n",
       " 'https://en.wikipedia.org/wiki/Buryat_language',\n",
       " 'https://en.wikipedia.org/wiki/Friesland',\n",
       " 'https://en.wikipedia.org/wiki/Vaagri_Booli_language',\n",
       " 'https://en.wikipedia.org/wiki/Republic_of_Zambia',\n",
       " 'https://en.wikipedia.org/wiki/Korea',\n",
       " 'https://en.wikipedia.org/wiki/Erzya_language',\n",
       " 'https://en.wikipedia.org/wiki/Achi_language',\n",
       " 'https://en.wikipedia.org/wiki/Akkala_S%C3%A1mi',\n",
       " 'https://en.wikipedia.org/wiki/Kunama_language',\n",
       " 'https://en.wikipedia.org/wiki/Valencian',\n",
       " 'https://en.wikipedia.org/wiki/Pattani_Malay',\n",
       " 'https://en.wikipedia.org/wiki/E_language',\n",
       " 'https://en.wikipedia.org/wiki/Ladakh',\n",
       " 'https://en.wikipedia.org/wiki/Corrientes_Province',\n",
       " 'https://en.wikipedia.org/wiki/Mali',\n",
       " 'https://en.wikipedia.org/wiki/Argentine_Republic',\n",
       " 'https://en.wikipedia.org/wiki/Yanam',\n",
       " 'https://en.wikipedia.org/wiki/Co-operative_Republic_of_Guyana',\n",
       " 'https://en.wikipedia.org/wiki/Gumuz_language',\n",
       " 'https://en.wikipedia.org/wiki/Warlpiri_language',\n",
       " 'https://en.wikipedia.org/wiki/Yamalo-Nenets_Autonomous_Okrug',\n",
       " 'https://en.wikipedia.org/wiki/Cape_Verde',\n",
       " 'https://en.wikipedia.org/wiki/Dari',\n",
       " 'https://en.wikipedia.org/wiki/Cimbrian_language',\n",
       " 'https://en.wikipedia.org/wiki/Anfillo',\n",
       " 'https://en.wikipedia.org/wiki/Florida',\n",
       " 'https://en.wikipedia.org/wiki/Navajo_language',\n",
       " 'https://en.wikipedia.org/wiki/Southeastern_Europe',\n",
       " 'https://en.wikipedia.org/wiki/Kiribati',\n",
       " 'https://en.wikipedia.org/wiki/Regional_language',\n",
       " 'https://en.wikipedia.org/wiki/Low_Prussian_dialect',\n",
       " 'https://en.wikipedia.org/wiki/Tigrinya_language',\n",
       " 'https://en.wikipedia.org/wiki/Principality_of_Andorra',\n",
       " 'https://en.wikipedia.org/wiki/Brazil',\n",
       " 'https://en.wikipedia.org/wiki/Buryatia',\n",
       " 'https://en.wikipedia.org/wiki/Malayalam',\n",
       " 'https://en.wikipedia.org/wiki/Brunei',\n",
       " 'https://en.wikipedia.org/wiki/Republic_of_Serbia',\n",
       " 'https://en.wikipedia.org/wiki/Tunceli_Province',\n",
       " 'https://en.wikipedia.org/wiki/Domari_language',\n",
       " 'https://en.wikipedia.org/wiki/Icelandic_language',\n",
       " 'https://en.wikipedia.org/wiki/Arapaho_people',\n",
       " 'https://en.wikipedia.org/wiki/Arapaho_language',\n",
       " 'https://en.wikipedia.org/wiki/Garre_language',\n",
       " 'https://en.wikipedia.org/wiki/North_Frisian_language',\n",
       " 'https://en.wikipedia.org/wiki/Ingria',\n",
       " 'https://en.wikipedia.org/wiki/Niger_State',\n",
       " 'https://en.wikipedia.org/wiki/Vanuatu',\n",
       " 'https://en.wikipedia.org/wiki/Africa',\n",
       " 'https://en.wikipedia.org/wiki/Ojibwe_language',\n",
       " 'https://en.wikipedia.org/wiki/Hazaragi_dialect',\n",
       " 'https://en.wikipedia.org/wiki/Dagestan',\n",
       " 'https://en.wikipedia.org/wiki/State_of_Eritrea',\n",
       " 'https://en.wikipedia.org/wiki/Heilongjiang',\n",
       " 'https://en.wikipedia.org/wiki/Ouadda%C3%AF_Region',\n",
       " 'https://en.wikipedia.org/wiki/Xibe_language',\n",
       " 'https://en.wikipedia.org/wiki/Vincentian_Creole',\n",
       " 'https://en.wikipedia.org/wiki/Republic_of_France',\n",
       " 'https://en.wikipedia.org/wiki/South_Africa',\n",
       " 'https://en.wikipedia.org/wiki/Georgian_language',\n",
       " 'https://en.wikipedia.org/wiki/Rajasthani_languages',\n",
       " 'https://en.wikipedia.org/wiki/Darjeeling_district',\n",
       " 'https://en.wikipedia.org/wiki/Basque_Country_(autonomous_community)',\n",
       " 'https://en.wikipedia.org/wiki/N%27Ko_alphabet',\n",
       " 'https://en.wikipedia.org/wiki/Brittany',\n",
       " 'https://en.wikipedia.org/wiki/Alabama',\n",
       " 'https://en.wikipedia.org/wiki/Wales',\n",
       " 'https://en.wikipedia.org/wiki/Guinea-Bissau',\n",
       " 'https://en.wikipedia.org/wiki/Republic_of_Cyprus',\n",
       " 'https://en.wikipedia.org/wiki/Uva_Province',\n",
       " 'https://en.wikipedia.org/wiki/Great_Plains',\n",
       " 'https://en.wikipedia.org/wiki/Baki_language',\n",
       " 'https://en.wikipedia.org/wiki/T%C3%BCbatulabal_language',\n",
       " 'https://en.wikipedia.org/wiki/Sicily',\n",
       " 'https://en.wikipedia.org/wiki/Maharashtra',\n",
       " 'https://en.wikipedia.org/wiki/Shan_language',\n",
       " 'https://en.wikipedia.org/wiki/Sindh',\n",
       " 'https://en.wikipedia.org/wiki/Spanish_language',\n",
       " 'https://en.wikipedia.org/wiki/Islamic_Republic_of_Iran',\n",
       " 'https://en.wikipedia.org/wiki/Evenki_language',\n",
       " 'https://en.wikipedia.org/wiki/Saxony',\n",
       " 'https://en.wikipedia.org/wiki/Southern_District_(Botswana)',\n",
       " 'https://en.wikipedia.org/wiki/Ido',\n",
       " 'https://en.wikipedia.org/wiki/Sweden',\n",
       " 'https://en.wikipedia.org/wiki/Glagolitic_alphabet',\n",
       " 'https://en.wikipedia.org/wiki/Tibet_Autonomous_Region',\n",
       " 'https://en.wikipedia.org/wiki/Hindi',\n",
       " 'https://en.wikipedia.org/wiki/Baga_language',\n",
       " 'https://en.wikipedia.org/wiki/Yue_Chinese',\n",
       " 'https://en.wikipedia.org/wiki/Sri_Lanka',\n",
       " 'https://en.wikipedia.org/wiki/Oroch_language',\n",
       " 'https://en.wikipedia.org/wiki/Limburgish',\n",
       " 'https://en.wikipedia.org/wiki/Canada',\n",
       " 'https://en.wikipedia.org/wiki/M%C4%81ori_language',\n",
       " 'https://en.wikipedia.org/wiki/Norwegian_language',\n",
       " 'https://en.wikipedia.org/wiki/Romanian_language',\n",
       " 'https://en.wikipedia.org/wiki/Lifou',\n",
       " 'https://en.wikipedia.org/wiki/Greek_language',\n",
       " 'https://en.wikipedia.org/wiki/Provinces_of_Mongolia',\n",
       " 'https://en.wikipedia.org/wiki/Wintu_language',\n",
       " 'https://en.wikipedia.org/wiki/Afar_language',\n",
       " 'https://en.wikipedia.org/wiki/Israel',\n",
       " 'https://en.wikipedia.org/wiki/Canichana_language',\n",
       " 'https://en.wikipedia.org/wiki/Austria',\n",
       " 'https://en.wikipedia.org/wiki/Gothic_language',\n",
       " 'https://en.wikipedia.org/wiki/Shanghai',\n",
       " 'https://en.wikipedia.org/wiki/Houa%C3%AFlou',\n",
       " 'https://en.wikipedia.org/wiki/Xiang_Chinese',\n",
       " 'https://en.wikipedia.org/wiki/Bulgaria',\n",
       " 'https://en.wikipedia.org/wiki/Turkish_language',\n",
       " 'https://en.wikipedia.org/wiki/Achang_language',\n",
       " 'https://en.wikipedia.org/wiki/Cantonese',\n",
       " 'https://en.wikipedia.org/wiki/Municipalities_of_Slovakia',\n",
       " 'https://en.wikipedia.org/wiki/Anglo-Saxon_England',\n",
       " 'https://en.wikipedia.org/wiki/Ramanos_language',\n",
       " 'https://en.wikipedia.org/wiki/Mon%C3%A9gasque_dialect',\n",
       " 'https://en.wikipedia.org/wiki/Slovak_Republic',\n",
       " 'https://en.wikipedia.org/wiki/Botswana',\n",
       " 'https://en.wikipedia.org/wiki/Faroese_language',\n",
       " 'https://en.wikipedia.org/wiki/Zonal_auxiliary_language',\n",
       " 'https://en.wikipedia.org/wiki/Mindanao',\n",
       " 'https://en.wikipedia.org/wiki/Corsican_language',\n",
       " 'https://en.wikipedia.org/wiki/Jersey',\n",
       " 'https://en.wikipedia.org/wiki/Bulgarian_language',\n",
       " 'https://en.wikipedia.org/wiki/Puntarenas_Province',\n",
       " 'https://en.wikipedia.org/wiki/Avestan_alphabet',\n",
       " 'https://en.wikipedia.org/wiki/Monaco',\n",
       " 'https://en.wikipedia.org/wiki/Montana',\n",
       " 'https://en.wikipedia.org/wiki/Northwest_Territories',\n",
       " 'https://en.wikipedia.org/wiki/Fula_language',\n",
       " 'https://en.wikipedia.org/wiki/Kaingang_language',\n",
       " 'https://en.wikipedia.org/wiki/Urdu',\n",
       " 'https://en.wikipedia.org/wiki/Skolt_S%C3%A1mi',\n",
       " 'https://en.wikipedia.org/wiki/Muskum_language',\n",
       " 'https://en.wikipedia.org/wiki/Emirau_Island',\n",
       " 'https://en.wikipedia.org/wiki/Lule_S%C3%A1mi',\n",
       " 'https://en.wikipedia.org/wiki/Chuvash_language',\n",
       " 'https://en.wikipedia.org/wiki/Chuvash_Republic',\n",
       " 'https://en.wikipedia.org/wiki/Hanun%C3%B3%27o_alphabet',\n",
       " 'https://en.wikipedia.org/wiki/Papua_New_Guinea',\n",
       " 'https://en.wikipedia.org/wiki/Haida_language',\n",
       " 'https://en.wikipedia.org/wiki/Eritrea',\n",
       " 'https://en.wikipedia.org/wiki/Crimean_Tatar_language',\n",
       " 'https://en.wikipedia.org/wiki/Romansh_language',\n",
       " 'https://en.wikipedia.org/wiki/Kabyle_language',\n",
       " 'https://en.wikipedia.org/wiki/Saraiki_language',\n",
       " 'https://en.wikipedia.org/wiki/S%C3%A1mi_languages',\n",
       " 'https://en.wikipedia.org/wiki/Americas',\n",
       " 'https://en.wikipedia.org/wiki/Burmese_language',\n",
       " 'https://en.wikipedia.org/wiki/Districts_of_Pakistan',\n",
       " 'https://en.wikipedia.org/wiki/Dari_language_(Zoroastrian)',\n",
       " 'https://en.wikipedia.org/wiki/Gwich%27in_language',\n",
       " 'https://en.wikipedia.org/wiki/Ingushetia',\n",
       " 'https://en.wikipedia.org/wiki/Aji%C3%AB',\n",
       " 'https://en.wikipedia.org/wiki/Romani_language',\n",
       " 'https://en.wikipedia.org/wiki/Albanian_language',\n",
       " 'https://en.wikipedia.org/wiki/Godoberi_language',\n",
       " 'https://en.wikipedia.org/wiki/Grenada',\n",
       " 'https://en.wikipedia.org/wiki/Galician_language',\n",
       " 'https://en.wikipedia.org/wiki/Igbo_language',\n",
       " 'https://en.wikipedia.org/wiki/Republic_of_Bulgaria',\n",
       " 'https://en.wikipedia.org/wiki/Chickasaw_language',\n",
       " 'https://en.wikipedia.org/wiki/Autonomous_Republic_of_Abkhazia',\n",
       " 'https://en.wikipedia.org/wiki/Sikkimese_language',\n",
       " 'https://en.wikipedia.org/wiki/Guatemala',\n",
       " 'https://en.wikipedia.org/wiki/Inuit_Sign_Language',\n",
       " 'https://en.wikipedia.org/wiki/Standard_Tibetan',\n",
       " 'https://en.wikipedia.org/wiki/Altai_Republic',\n",
       " 'https://en.wikipedia.org/wiki/Marathi_language',\n",
       " 'https://en.wikipedia.org/wiki/Equatorial_Guinea',\n",
       " 'https://en.wikipedia.org/wiki/Afghanistan',\n",
       " 'https://en.wikipedia.org/wiki/Independent_State_of_Papua_New_Guinea',\n",
       " 'https://en.wikipedia.org/wiki/St_Matthias_Islands',\n",
       " 'https://en.wikipedia.org/wiki/Autonomous_regions_with_special_statute',\n",
       " 'https://en.wikipedia.org/wiki/Montenegro',\n",
       " 'https://en.wikipedia.org/wiki/Tulu_language',\n",
       " 'https://en.wikipedia.org/wiki/Abui_language',\n",
       " 'https://en.wikipedia.org/wiki/California',\n",
       " 'https://en.wikipedia.org/wiki/Altai_language',\n",
       " 'https://en.wikipedia.org/wiki/Country_of_Cura%C3%A7ao',\n",
       " 'https://en.wikipedia.org/wiki/Sumerian_language',\n",
       " 'https://en.wikipedia.org/wiki/Regions_of_Ethiopia',\n",
       " 'https://en.wikipedia.org/wiki/Madurese_language',\n",
       " 'https://en.wikipedia.org/wiki/Cura%C3%A7ao',\n",
       " 'https://en.wikipedia.org/wiki/Makassarese_language',\n",
       " 'https://en.wikipedia.org/wiki/Myanmar',\n",
       " 'https://en.wikipedia.org/wiki/Siddha%E1%B9%83_alphabet',\n",
       " 'https://en.wikipedia.org/wiki/Wu_Chinese',\n",
       " 'https://en.wikipedia.org/wiki/Costa_Rica',\n",
       " 'https://en.wikipedia.org/wiki/Guerrero',\n",
       " 'https://en.wikipedia.org/wiki/Exonym_and_endonym',\n",
       " 'https://en.wikipedia.org/wiki/Chittagonian_language',\n",
       " 'https://en.wikipedia.org/wiki/Camarines_Sur',\n",
       " 'https://en.wikipedia.org/wiki/Republic_of_Poland',\n",
       " 'https://en.wikipedia.org/wiki/Azad_Kashmir',\n",
       " 'https://en.wikipedia.org/wiki/Batak',\n",
       " 'https://en.wikipedia.org/wiki/French_Community_of_Belgium',\n",
       " 'https://en.wikipedia.org/wiki/Armenian_language',\n",
       " 'https://en.wikipedia.org/wiki/Tunisian_Arabic',\n",
       " 'https://en.wikipedia.org/wiki/Chocangaca_language',\n",
       " 'https://en.wikipedia.org/wiki/Balearic_Islands',\n",
       " 'https://en.wikipedia.org/wiki/Provinces_of_Thailand',\n",
       " 'https://en.wikipedia.org/wiki/Great_Rift_Valley,_Kenya',\n",
       " 'https://en.wikipedia.org/wiki/Algeria',\n",
       " 'https://en.wikipedia.org/wiki/Central_Asia',\n",
       " 'https://en.wikipedia.org/wiki/Odisha',\n",
       " 'https://en.wikipedia.org/wiki/New_Zealand_Sign_Language',\n",
       " 'https://en.wikipedia.org/wiki/Marshall_Islands',\n",
       " 'https://en.wikipedia.org/wiki/Bodo_language',\n",
       " 'https://en.wikipedia.org/wiki/El_Salvador',\n",
       " 'https://en.wikipedia.org/wiki/North_Carolina',\n",
       " 'https://en.wikipedia.org/wiki/Communities_of_Belgium',\n",
       " 'https://en.wikipedia.org/wiki/Swiss_German',\n",
       " 'https://en.wikipedia.org/wiki/Assiniboine_language',\n",
       " 'https://en.wikipedia.org/wiki/Ge%27ez',\n",
       " 'https://en.wikipedia.org/wiki/Pandan_Bikol_language',\n",
       " 'https://en.wikipedia.org/wiki/Turkmen_language',\n",
       " 'https://en.wikipedia.org/wiki/Min_Bei',\n",
       " 'https://en.wikipedia.org/wiki/Abenaki_language',\n",
       " 'https://en.wikipedia.org/wiki/Swedish_language',\n",
       " 'https://en.wikipedia.org/wiki/Slovakia',\n",
       " 'https://en.wikipedia.org/wiki/States_and_union_territories_of_India',\n",
       " 'https://en.wikipedia.org/wiki/Montenegrin_language',\n",
       " 'https://en.wikipedia.org/wiki/Kh%C3%B6vsg%C3%B6l_Province',\n",
       " 'https://en.wikipedia.org/wiki/Greater_Tibet',\n",
       " 'https://en.wikipedia.org/wiki/Chad',\n",
       " 'https://en.wikipedia.org/wiki/Hindustani_language',\n",
       " 'https://en.wikipedia.org/wiki/Rotokas_language',\n",
       " 'https://en.wikipedia.org/wiki/Michoac%C3%A1n_Nahuatl',\n",
       " 'https://en.wikipedia.org/wiki/Bezhta_language',\n",
       " 'https://en.wikipedia.org/wiki/Armenia',\n",
       " 'https://en.wikipedia.org/wiki/Cara%C8%99ova',\n",
       " 'https://en.wikipedia.org/wiki/Croatia',\n",
       " 'https://en.wikipedia.org/wiki/Macau',\n",
       " 'https://en.wikipedia.org/wiki/Calabria',\n",
       " 'https://en.wikipedia.org/wiki/Kosovo',\n",
       " 'https://en.wikipedia.org/wiki/Arizona',\n",
       " 'https://en.wikipedia.org/wiki/Hubei',\n",
       " 'https://en.wikipedia.org/wiki/Carian_alphabets',\n",
       " 'https://en.wikipedia.org/wiki/Haitian_Creole',\n",
       " 'https://en.wikipedia.org/wiki/Tarlac',\n",
       " 'https://en.wikipedia.org/wiki/Yanbian_Korean_Autonomous_Prefecture',\n",
       " 'https://en.wikipedia.org/wiki/Archi_language',\n",
       " 'https://en.wikipedia.org/wiki/Chukotka_Autonomous_Okrug',\n",
       " 'https://en.wikipedia.org/wiki/Tunica_language',\n",
       " 'https://en.wikipedia.org/wiki/National_language',\n",
       " 'https://en.wikipedia.org/wiki/Armenian_Alphabet',\n",
       " 'https://en.wikipedia.org/wiki/Inuktitut',\n",
       " 'https://en.wikipedia.org/wiki/Aleut_language',\n",
       " 'https://en.wikipedia.org/wiki/Tuva',\n",
       " 'https://en.wikipedia.org/wiki/American_Samoa',\n",
       " 'https://en.wikipedia.org/wiki/Islamic_Republic_of_Mauritania',\n",
       " 'https://en.wikipedia.org/wiki/Hopi_language',\n",
       " 'https://en.wikipedia.org/wiki/List_of_countries_where_Russian_is_an_official_language',\n",
       " 'https://en.wikipedia.org/wiki/Cameroon',\n",
       " 'https://en.wikipedia.org/wiki/Communities,_regions_and_language_areas_of_Belgium',\n",
       " 'https://en.wikipedia.org/wiki/Aymara_language',\n",
       " 'https://en.wikipedia.org/wiki/Min_Nan',\n",
       " 'https://en.wikipedia.org/wiki/South_Sudan',\n",
       " 'https://en.wikipedia.org/wiki/Abenaki_people',\n",
       " 'https://en.wikipedia.org/wiki/Republic_of_Abkhazia',\n",
       " 'https://en.wikipedia.org/wiki/East_New_Britain_Province',\n",
       " 'https://en.wikipedia.org/wiki/Iran',\n",
       " 'https://en.wikipedia.org/wiki/Sephardim',\n",
       " 'https://en.wikipedia.org/wiki/Ewe_people',\n",
       " 'https://en.wikipedia.org/wiki/Republic_of_Mali',\n",
       " 'https://en.wikipedia.org/wiki/Southwest_United_States',\n",
       " 'https://en.wikipedia.org/wiki/Amdang_language',\n",
       " 'https://en.wikipedia.org/wiki/Chulym_language',\n",
       " 'https://en.wikipedia.org/wiki/Shan_people',\n",
       " 'https://en.wikipedia.org/wiki/Acehnese_language',\n",
       " 'https://en.wikipedia.org/wiki/Statistical_regions_of_Serbia',\n",
       " 'https://en.wikipedia.org/wiki/Ecuador',\n",
       " 'https://en.wikipedia.org/wiki/Cyprus',\n",
       " 'https://en.wikipedia.org/wiki/Denmark',\n",
       " 'https://en.wikipedia.org/wiki/States_and_territories_of_India',\n",
       " 'https://en.wikipedia.org/wiki/New_Ireland_Province',\n",
       " 'https://en.wikipedia.org/wiki/Arabic',\n",
       " 'https://en.wikipedia.org/wiki/Northern_Kurdish',\n",
       " 'https://en.wikipedia.org/wiki/Irrawaddy_River',\n",
       " 'https://en.wikipedia.org/wiki/Autonomous_communities_of_Spain',\n",
       " 'https://en.wikipedia.org/wiki/Maldives',\n",
       " 'https://en.wikipedia.org/wiki/Jiangsu',\n",
       " 'https://en.wikipedia.org/wiki/Sorani',\n",
       " 'https://en.wikipedia.org/wiki/Mandombe_alphabet',\n",
       " 'https://en.wikipedia.org/wiki/Republics_of_Russia',\n",
       " 'https://en.wikipedia.org/wiki/Javanese_language',\n",
       " 'https://en.wikipedia.org/wiki/Khanty_language',\n",
       " 'https://en.wikipedia.org/wiki/Tibet',\n",
       " 'https://en.wikipedia.org/wiki/Iraq',\n",
       " 'https://en.wikipedia.org/wiki/Naukan_Yupik_language',\n",
       " 'https://en.wikipedia.org/wiki/Autonomous_Communities_of_Spain',\n",
       " 'https://en.wikipedia.org/wiki/Sint_Maarten',\n",
       " 'https://en.wikipedia.org/wiki/Republic_of_Chad',\n",
       " 'https://en.wikipedia.org/wiki/Mongolia',\n",
       " 'https://en.wikipedia.org/wiki/Putian',\n",
       " 'https://en.wikipedia.org/wiki/Istria_County',\n",
       " 'https://en.wikipedia.org/wiki/Faroe_Islands',\n",
       " 'https://en.wikipedia.org/wiki/Belarus',\n",
       " 'https://en.wikipedia.org/wiki/Mediterranean_Sea',\n",
       " 'https://en.wikipedia.org/wiki/Saint_Vincent_and_the_Grenadines',\n",
       " 'https://en.wikipedia.org/wiki/Ningbo_dialect',\n",
       " 'https://en.wikipedia.org/wiki/Latvia',\n",
       " 'https://en.wikipedia.org/wiki/J%C3%A8rriais',\n",
       " 'https://en.wikipedia.org/wiki/Tausug_language',\n",
       " 'https://en.wikipedia.org/wiki/Districts_of_India',\n",
       " 'https://en.wikipedia.org/wiki/Baltistan',\n",
       " 'https://en.wikipedia.org/wiki/Sotho_language',\n",
       " 'https://en.wikipedia.org/wiki/Oromia_Region',\n",
       " 'https://en.wikipedia.org/wiki/Manx_language',\n",
       " 'https://en.wikipedia.org/wiki/Comanche_language',\n",
       " 'https://en.wikipedia.org/wiki/Mussau-Emira_language',\n",
       " 'https://en.wikipedia.org/wiki/Louisiana',\n",
       " 'https://en.wikipedia.org/wiki/Pakistan',\n",
       " 'https://en.wikipedia.org/wiki/Provinces_of_the_Netherlands',\n",
       " 'https://en.wikipedia.org/wiki/Albania',\n",
       " 'https://en.wikipedia.org/wiki/Seroa_dialect',\n",
       " 'https://en.wikipedia.org/wiki/Direct-controlled_municipalities_of_China',\n",
       " 'https://en.wikipedia.org/wiki/Mormon',\n",
       " 'https://en.wikipedia.org/wiki/Leonese_language',\n",
       " 'https://en.wikipedia.org/wiki/Romani_people',\n",
       " 'https://en.wikipedia.org/wiki/Hainanese',\n",
       " 'https://en.wikipedia.org/wiki/Harari_Region',\n",
       " 'https://en.wikipedia.org/wiki/Kinyarwanda',\n",
       " 'https://en.wikipedia.org/wiki/Zhuang_language',\n",
       " 'https://en.wikipedia.org/wiki/Mizoram',\n",
       " 'https://en.wikipedia.org/wiki/Tai_L%C3%BC_language',\n",
       " 'https://en.wikipedia.org/wiki/Filipino_Sign_Language',\n",
       " 'https://en.wikipedia.org/wiki/Gurung_language',\n",
       " 'https://en.wikipedia.org/wiki/Jordan',\n",
       " 'https://en.wikipedia.org/wiki/Ubykh_language',\n",
       " 'https://en.wikipedia.org/wiki/Harari_language',\n",
       " 'https://en.wikipedia.org/wiki/Quechuan_languages',\n",
       " 'https://en.wikipedia.org/wiki/Rinconada_Bikol_language',\n",
       " 'https://en.wikipedia.org/wiki/Polish_language',\n",
       " 'https://en.wikipedia.org/wiki/Abkhaz_alphabet',\n",
       " 'https://en.wikipedia.org/wiki/Catalonia',\n",
       " 'https://en.wikipedia.org/wiki/List_of_countries_where_English_is_an_official_language',\n",
       " 'https://en.wikipedia.org/wiki/People%27s_Republic_of_China',\n",
       " 'https://en.wikipedia.org/wiki/Nepal_Bhasa',\n",
       " 'https://en.wikipedia.org/wiki/United_Kingdom_of_Great_Britain_and_Northern_Ireland',\n",
       " 'https://en.wikipedia.org/wiki/Adangbe',\n",
       " 'https://en.wikipedia.org/wiki/Marwari_language',\n",
       " 'https://en.wikipedia.org/wiki/Oman',\n",
       " 'https://en.wikipedia.org/wiki/Finnish_language',\n",
       " 'https://en.wikipedia.org/wiki/Kashmiri_language',\n",
       " 'https://en.wikipedia.org/wiki/Hunan',\n",
       " 'https://en.wikipedia.org/wiki/Ainu_language',\n",
       " 'https://en.wikipedia.org/wiki/Comunes_of_Italy',\n",
       " 'https://en.wikipedia.org/wiki/Chinese_language',\n",
       " 'https://en.wikipedia.org/wiki/Alabama_language',\n",
       " 'https://en.wikipedia.org/wiki/Hiri_Motu',\n",
       " 'https://en.wikipedia.org/wiki/Guangdong_Province',\n",
       " 'https://en.wikipedia.org/wiki/Administrative_divisions_of_Uzbekistan',\n",
       " 'https://en.wikipedia.org/wiki/Yakut_language',\n",
       " 'https://en.wikipedia.org/wiki/Livonian_language',\n",
       " 'https://en.wikipedia.org/wiki/Ladin_language',\n",
       " 'https://en.wikipedia.org/wiki/Laz_language',\n",
       " 'https://en.wikipedia.org/wiki/Ewe_language',\n",
       " 'https://en.wikipedia.org/wiki/Ghanzi_District',\n",
       " 'https://en.wikipedia.org/wiki/Administrative_divisions_of_Serbia',\n",
       " 'https://en.wikipedia.org/wiki/Chuvashia',\n",
       " 'https://en.wikipedia.org/wiki/Burma',\n",
       " 'https://en.wikipedia.org/wiki/Provinces_of_Costa_Rica',\n",
       " 'https://en.wikipedia.org/wiki/Nihali_language',\n",
       " 'https://en.wikipedia.org/wiki/Arb%C3%ABresh_language',\n",
       " 'https://en.wikipedia.org/wiki/Cayuga_language',\n",
       " 'https://en.wikipedia.org/wiki/Ngbee_language',\n",
       " 'https://en.wikipedia.org/wiki/South_Korea',\n",
       " 'https://en.wikipedia.org/wiki/Iloilo',\n",
       " 'https://en.wikipedia.org/wiki/Sicilian_language',\n",
       " 'https://en.wikipedia.org/wiki/Divisions_of_Bangladesh',\n",
       " 'https://en.wikipedia.org/wiki/Fiji_Hindi',\n",
       " 'https://en.wikipedia.org/wiki/Weixi_Lisu_Autonomous_County',\n",
       " 'https://en.wikipedia.org/wiki/Andhra_Pradesh',\n",
       " 'https://en.wikipedia.org/wiki/Scotland',\n",
       " 'https://en.wikipedia.org/wiki/Persian_language',\n",
       " 'https://en.wikipedia.org/wiki/State_of_Israel',\n",
       " 'https://en.wikipedia.org/wiki/Thailand',\n",
       " 'https://en.wikipedia.org/wiki/La_Union',\n",
       " 'https://en.wikipedia.org/wiki/Eyak_language',\n",
       " 'https://en.wikipedia.org/wiki/Ethiopia',\n",
       " 'https://en.wikipedia.org/wiki/Roman_Empire',\n",
       " 'https://en.wikipedia.org/wiki/Rakhine_State',\n",
       " 'https://en.wikipedia.org/wiki/Tai_Tham_alphabet',\n",
       " 'https://en.wikipedia.org/wiki/Breton_language',\n",
       " 'https://en.wikipedia.org/wiki/Chechen_Republic',\n",
       " 'https://en.wikipedia.org/wiki/Republic_of_Karelia',\n",
       " 'https://en.wikipedia.org/wiki/Maasai_language',\n",
       " 'https://en.wikipedia.org/wiki/Federal_Republic_of_Somalia',\n",
       " 'https://en.wikipedia.org/wiki/Provinces_of_China',\n",
       " 'https://en.wikipedia.org/wiki/Guangxi',\n",
       " 'https://en.wikipedia.org/wiki/Catawba_language',\n",
       " 'https://en.wikipedia.org/wiki/Malaysia',\n",
       " 'https://en.wikipedia.org/wiki/Native_Americans_in_the_United_States',\n",
       " 'https://en.wikipedia.org/wiki/The_United_States_of_America',\n",
       " 'https://en.wikipedia.org/wiki/Regions_of_Slovenia',\n",
       " 'https://en.wikipedia.org/wiki/United_Mexican_States',\n",
       " 'https://en.wikipedia.org/wiki/Chakma_language',\n",
       " 'https://en.wikipedia.org/wiki/Tai_N%C3%BCa_language',\n",
       " 'https://en.wikipedia.org/wiki/New_Zealand_English',\n",
       " 'https://en.wikipedia.org/wiki/Xukuru_language',\n",
       " 'https://en.wikipedia.org/wiki/Aragon',\n",
       " 'https://en.wikipedia.org/wiki/Greenlandic_language',\n",
       " 'https://en.wikipedia.org/wiki/Northern_S%C3%A1mi',\n",
       " 'https://en.wikipedia.org/wiki/Kuwait',\n",
       " 'https://en.wikipedia.org/wiki/Specials_(Unicode_block)#Replacement_character',\n",
       " 'https://en.wikipedia.org/wiki/Yuchi_language',\n",
       " 'https://en.wikipedia.org/wiki/Pite_S%C3%A1mi',\n",
       " 'https://en.wikipedia.org/wiki/Democratic_Republic_of_Nepal',\n",
       " 'https://en.wikipedia.org/wiki/Yap_State',\n",
       " 'https://en.wikipedia.org/wiki/Autonomous_area',\n",
       " 'https://en.wikipedia.org/wiki/Republic_of_Trinidad_and_Tobago',\n",
       " 'https://en.wikipedia.org/wiki/Republic_of_Belarus',\n",
       " 'https://en.wikipedia.org/wiki/United_States',\n",
       " 'https://en.wikipedia.org/wiki/Luise%C3%B1o_language',\n",
       " 'https://en.wikipedia.org/wiki/Pentecost_Island',\n",
       " 'https://en.wikipedia.org/wiki/Lebanon',\n",
       " 'https://en.wikipedia.org/wiki/Sindhi_language',\n",
       " 'https://en.wikipedia.org/wiki/United_Kingdom',\n",
       " 'https://en.wikipedia.org/wiki/Greece',\n",
       " 'https://en.wikipedia.org/wiki/Friulian',\n",
       " 'https://en.wikipedia.org/wiki/Pitjantjatjara_language',\n",
       " 'https://en.wikipedia.org/wiki/Cayuga_people',\n",
       " 'https://en.wikipedia.org/wiki/Romania',\n",
       " 'https://en.wikipedia.org/wiki/Khmer_language',\n",
       " 'https://en.wikipedia.org/wiki/Alaska',\n",
       " 'https://en.wikipedia.org/wiki/Meitei_language',\n",
       " 'https://en.wikipedia.org/wiki/Republic_of_Senegal',\n",
       " 'https://en.wikipedia.org/wiki/States_of_Austria',\n",
       " 'https://en.wikipedia.org/wiki/Manchu_language',\n",
       " 'https://en.wikipedia.org/wiki/Jakarta',\n",
       " 'https://en.wikipedia.org/wiki/Algonquin_language',\n",
       " 'https://en.wikipedia.org/wiki/Jingpo_language',\n",
       " 'https://en.wikipedia.org/wiki/Madagascar',\n",
       " 'https://en.wikipedia.org/wiki/Sadri_language',\n",
       " 'https://en.wikipedia.org/wiki/Liturgical_language',\n",
       " 'https://en.wikipedia.org/wiki/Bengali_language',\n",
       " 'https://en.wikipedia.org/wiki/Ga_language',\n",
       " 'https://en.wikipedia.org/wiki/Central_Visayas',\n",
       " 'https://en.wikipedia.org/wiki/Crow_people',\n",
       " 'https://en.wikipedia.org/wiki/Vietnamese_language',\n",
       " 'https://en.wikipedia.org/wiki/Walloon_language',\n",
       " 'https://en.wikipedia.org/wiki/Basque_Country_(greater_region)',\n",
       " 'https://en.wikipedia.org/wiki/Liechtenstein',\n",
       " 'https://en.wikipedia.org/wiki/Kazakh_language',\n",
       " 'https://en.wikipedia.org/wiki/Trongsa_District',\n",
       " 'https://en.wikipedia.org/wiki/French_Guiana',\n",
       " 'https://en.wikipedia.org/wiki/Marshallese_language',\n",
       " 'https://en.wikipedia.org/wiki/North_Dakota',\n",
       " 'https://en.wikipedia.org/wiki/Republic_of_China',\n",
       " 'https://en.wikipedia.org/wiki/Republic_of_Malawi',\n",
       " 'https://en.wikipedia.org/wiki/Aosta_Valley',\n",
       " 'https://en.wikipedia.org/wiki/Kgalagadi_District',\n",
       " 'https://en.wikipedia.org/wiki/Sylheti_language',\n",
       " 'https://en.wikipedia.org/wiki/Pashto',\n",
       " 'https://en.wikipedia.org/wiki/Gikuyu_language',\n",
       " 'https://en.wikipedia.org/wiki/Nagumi_language',\n",
       " 'https://en.wikipedia.org/wiki/Administrative_units_of_Pakistan',\n",
       " 'https://en.wikipedia.org/wiki/Commonwealth_of_the_Northern_Mariana_Islands',\n",
       " 'https://en.wikipedia.org/wiki/Pangasinan',\n",
       " 'https://en.wikipedia.org/wiki/State_of_California',\n",
       " 'https://en.wikipedia.org/wiki/Tamang_language',\n",
       " 'https://en.wikipedia.org/wiki/Bali',\n",
       " 'https://en.wikipedia.org/wiki/Portuguese_language',\n",
       " 'https://en.wikipedia.org/wiki/Prussia',\n",
       " 'https://en.wikipedia.org/wiki/National_Language',\n",
       " 'https://en.wikipedia.org/wiki/Adele_language',\n",
       " 'https://en.wikipedia.org/wiki/Macedonian_language',\n",
       " 'https://en.wikipedia.org/wiki/Pu-Xian_Min',\n",
       " 'https://en.wikipedia.org/wiki/Northern_Region,_Uganda',\n",
       " 'https://en.wikipedia.org/wiki/Eastern_Europe',\n",
       " 'https://en.wikipedia.org/wiki/Luba-Kasai_language',\n",
       " 'https://en.wikipedia.org/wiki/Esperanto',\n",
       " 'https://en.wikipedia.org/wiki/Arrernte_language',\n",
       " 'https://en.wikipedia.org/wiki/South_Australia',\n",
       " 'https://en.wikipedia.org/wiki/Batak_languages',\n",
       " 'https://en.wikipedia.org/wiki/Kingdom_of_Sweden',\n",
       " 'https://en.wikipedia.org/wiki/Madhya_Pradesh',\n",
       " 'https://en.wikipedia.org/wiki/Dargwa_language',\n",
       " 'https://en.wikipedia.org/wiki/German-speaking_Community_of_Belgium',\n",
       " 'https://en.wikipedia.org/wiki/Zambia',\n",
       " 'https://en.wikipedia.org/wiki/Hokkien',\n",
       " 'https://en.wikipedia.org/wiki/Ghana',\n",
       " 'https://en.wikipedia.org/wiki/Uttarakhand',\n",
       " 'https://en.wikipedia.org/wiki/Assamese_language',\n",
       " 'https://en.wikipedia.org/wiki/Mor_language_(Papuan)',\n",
       " 'https://en.wikipedia.org/wiki/Itelmen_language',\n",
       " 'https://en.wikipedia.org/wiki/Republic_of_Uzbekistan',\n",
       " 'https://en.wikipedia.org/wiki/North_America',\n",
       " 'https://en.wikipedia.org/wiki/Overseas_France',\n",
       " 'https://en.wikipedia.org/wiki/Hausa_people',\n",
       " 'https://en.wikipedia.org/wiki/Ilocano_language',\n",
       " 'https://en.wikipedia.org/wiki/Serbo-Croatian',\n",
       " 'https://en.wikipedia.org/wiki/Heligoland',\n",
       " 'https://en.wikipedia.org/wiki/Bocas_del_Toro_Province',\n",
       " 'https://en.wikipedia.org/wiki/Dutch_language',\n",
       " 'https://en.wikipedia.org/wiki/Isle_of_Man',\n",
       " 'https://en.wikipedia.org/wiki/Pondicherry',\n",
       " 'https://en.wikipedia.org/wiki/Selenge_Province',\n",
       " 'https://en.wikipedia.org/wiki/Yap',\n",
       " 'https://en.wikipedia.org/wiki/Official_language',\n",
       " 'https://en.wikipedia.org/wiki/Nepali_language',\n",
       " 'https://en.wikipedia.org/wiki/Osmanya_alphabet',\n",
       " 'https://en.wikipedia.org/wiki/La_Libertad_Department_(El_Salvador)',\n",
       " 'https://en.wikipedia.org/wiki/Sark',\n",
       " 'https://en.wikipedia.org/wiki/Zuni_language',\n",
       " 'https://en.wikipedia.org/wiki/Tagbanwa_alphabet',\n",
       " 'https://en.wikipedia.org/wiki/Tamil_Nadu',\n",
       " 'https://en.wikipedia.org/wiki/India',\n",
       " 'https://en.wikipedia.org/wiki/Inuinnaqtun',\n",
       " 'https://en.wikipedia.org/wiki/Bihar',\n",
       " 'https://en.wikipedia.org/wiki/City_of_Los_Angeles',\n",
       " 'https://en.wikipedia.org/wiki/Filipino_language',\n",
       " 'https://en.wikipedia.org/wiki/Malekula',\n",
       " 'https://en.wikipedia.org/wiki/Chin_State',\n",
       " 'https://en.wikipedia.org/wiki/Ningde',\n",
       " 'https://en.wikipedia.org/wiki/Gheg_Albanian',\n",
       " 'https://en.wikipedia.org/wiki/Karamoja',\n",
       " 'https://en.wikipedia.org/wiki/Telangana',\n",
       " 'https://en.wikipedia.org/wiki/Tagalog_language',\n",
       " 'https://en.wikipedia.org/wiki/Jewish_Diaspora',\n",
       " 'https://en.wikipedia.org/wiki/Somali_language',\n",
       " 'https://en.wikipedia.org/wiki/Wolof_language',\n",
       " 'https://en.wikipedia.org/wiki/Texas',\n",
       " 'https://en.wikipedia.org/wiki/Vorarlberg',\n",
       " 'https://en.wikipedia.org/wiki/Arabela_language',\n",
       " 'https://en.wikipedia.org/wiki/Dair_language',\n",
       " 'https://en.wikipedia.org/wiki/Tajikistan',\n",
       " 'https://en.wikipedia.org/wiki/Samoa',\n",
       " 'https://en.wikipedia.org/wiki/Ancient_Egyptian_Language',\n",
       " 'https://en.wikipedia.org/wiki/Akan_language',\n",
       " 'https://en.wikipedia.org/wiki/Bosnian_language',\n",
       " 'https://en.wikipedia.org/wiki/Castile_and_Le%C3%B3n',\n",
       " 'https://en.wikipedia.org/wiki/Malta',\n",
       " 'https://en.wikipedia.org/wiki/Himachal_Pradesh',\n",
       " 'https://en.wikipedia.org/wiki/Germany',\n",
       " 'https://en.wikipedia.org/wiki/Apache_language',\n",
       " 'https://en.wikipedia.org/wiki/Thai_language',\n",
       " 'https://en.wikipedia.org/wiki/Hong_Kong',\n",
       " 'https://en.wikipedia.org/wiki/Zyphe_Chin',\n",
       " 'https://en.wikipedia.org/wiki/Caucasus',\n",
       " 'https://en.wikipedia.org/wiki/Korean_language',\n",
       " 'https://en.wikipedia.org/wiki/Nigeria',\n",
       " 'https://en.wikipedia.org/wiki/French_Republic',\n",
       " 'https://en.wikipedia.org/wiki/Chittagong_Hill_Tracts',\n",
       " 'https://en.wikipedia.org/wiki/Danish_language',\n",
       " 'https://en.wikipedia.org/wiki/Maltese_language',\n",
       " 'https://en.wikipedia.org/wiki/Somalia',\n",
       " 'https://en.wikipedia.org/wiki/2006_South_Ossetian_independence_referendum',\n",
       " 'https://en.wikipedia.org/wiki/Ahtna_language',\n",
       " 'https://en.wikipedia.org/wiki/Hawaiian_language',\n",
       " 'https://en.wikipedia.org/wiki/Bekasi_Regency',\n",
       " 'https://en.wikipedia.org/wiki/Bussa_language',\n",
       " 'https://en.wikipedia.org/wiki/Copts',\n",
       " 'https://en.wikipedia.org/wiki/Kerala',\n",
       " 'https://en.wikipedia.org/wiki/Malay_language',\n",
       " 'https://en.wikipedia.org/wiki/Occitan_language',\n",
       " 'https://en.wikipedia.org/wiki/Istro-Romanian_language',\n",
       " 'https://en.wikipedia.org/wiki/Lesotho',\n",
       " 'https://en.wikipedia.org/wiki/Banten',\n",
       " 'https://en.wikipedia.org/wiki/Dalecarlian',\n",
       " 'https://en.wikipedia.org/wiki/Azad_Jammu_and_Kashmir',\n",
       " 'https://en.wikipedia.org/wiki/Turkey',\n",
       " 'https://en.wikipedia.org/wiki/Crown_Dependencies',\n",
       " 'https://en.wikipedia.org/wiki/Italian_Republic',\n",
       " 'https://en.wikipedia.org/wiki/Federal_Republic_of_Nigeria',\n",
       " 'https://en.wikipedia.org/wiki/Maguindanao_language',\n",
       " 'https://en.wikipedia.org/wiki/East_Timor',\n",
       " 'https://en.wikipedia.org/wiki/Choctaw_language',\n",
       " 'https://en.wikipedia.org/wiki/Baranya_County',\n",
       " 'https://en.wikipedia.org/wiki/Assam',\n",
       " 'https://en.wikipedia.org/wiki/Miami-Illinois_language',\n",
       " 'https://en.wikipedia.org/wiki/Uyghur_language',\n",
       " 'https://en.wikipedia.org/wiki/Uttar_Pradesh',\n",
       " 'https://en.wikipedia.org/wiki/Togo',\n",
       " 'https://en.wikipedia.org/wiki/Veneto',\n",
       " 'https://en.wikipedia.org/wiki/Kingdom_of_Tonga',\n",
       " 'https://en.wikipedia.org/wiki/Okinawan_Japanese',\n",
       " 'https://en.wikipedia.org/wiki/West_Java',\n",
       " 'https://en.wikipedia.org/wiki/Central_Province_(Kenya)',\n",
       " 'https://en.wikipedia.org/wiki/Aghul_language',\n",
       " 'https://en.wikipedia.org/wiki/Sardinian_language',\n",
       " 'https://en.wikipedia.org/wiki/Afade',\n",
       " 'https://en.wikipedia.org/wiki/Ontong_Java_Atoll',\n",
       " 'https://en.wikipedia.org/wiki/Cambodia',\n",
       " 'https://en.wikipedia.org/wiki/Bhutan',\n",
       " 'https://en.wikipedia.org/wiki/France',\n",
       " 'https://en.wikipedia.org/wiki/Karamojong_language',\n",
       " 'https://en.wikipedia.org/wiki/Bantu_languages',\n",
       " 'https://en.wikipedia.org/wiki/Avestan_language',\n",
       " ...]"
      ]
     },
     "execution_count": 71,
     "metadata": {},
     "output_type": "execute_result"
    }
   ],
   "source": []
  },
  {
   "cell_type": "code",
   "execution_count": 72,
   "metadata": {},
   "outputs": [
    {
     "name": "stdout",
     "output_type": "stream",
     "text": [
      "3540\n",
      "['https://en.wikipedia.org/wiki/Main_Page', 'https://en.wikipedia.org/wiki/Wikipedia:Contents', 'https://en.wikipedia.org/wiki/Portal:Current_events', 'https://en.wikipedia.org/wiki/Special:Random', 'https://en.wikipedia.org/wiki/Wikipedia:About', 'https://en.wikipedia.org//en.wikipedia.org/wiki/Wikipedia:Contact_us', 'https://en.wikipedia.orghttps://donate.wikimedia.org/wiki/Special:FundraiserRedirector?utm_source=donate&utm_medium=sidebar&utm_campaign=C13_en.wikipedia.org&uselang=en', 'https://en.wikipedia.org/wiki/Help:Contents', 'https://en.wikipedia.org/wiki/Help:Introduction', 'https://en.wikipedia.org/wiki/Wikipedia:Community_portal']\n"
     ]
    }
   ],
   "source": [
    "\n",
    "\n",
    "def find_index_of_headers(url):\n",
    "    response        = requests.get(url)\n",
    "    content         = response.content\n",
    "    parser          = BeautifulSoup(content, 'html.parser')\n",
    "    table           = parser.find('table', {'class': 'infobox'})\n",
    "    included_headers = {}\n",
    "    \n",
    "    for i in range(0, len(table.find_all('th', {'class': 'infobox-label'}))):\n",
    "        included_headers[unicodedata.normalize('NFKD', table.find_all('th', {'class': 'infobox-label'}).__getitem__(i).getText())] = i\n",
    "    return included_headers\n",
    "\n",
    "\n",
    "urls = get_links()\n",
    "print(len(urls))\n",
    "print(urls[:10])\n",
    "\n",
    "urls = list(set(urls))\n",
    "\n",
    "urls = [url for url in urls if url not in ['Official_language', 'Minority_language']]\n",
    "urls = [url for url in urls if url.startswith('List_of_countries') == False]\n",
    "urls = [url for url in urls if url.count(':') == 1]\n",
    "urls = [url for url in urls if '?' not in url]"
   ]
  },
  {
   "cell_type": "code",
   "execution_count": 10,
   "metadata": {},
   "outputs": [],
   "source": [
    "urls = ['https://en.wikipedia.org/wiki/Aari_language']"
   ]
  },
  {
   "cell_type": "code",
   "execution_count": 73,
   "metadata": {},
   "outputs": [
    {
     "name": "stderr",
     "output_type": "stream",
     "text": [
      "  0%|          | 2/1389 [00:01<15:03,  1.54it/s]"
     ]
    },
    {
     "name": "stdout",
     "output_type": "stream",
     "text": [
      "No table found  https://en.wikipedia.org/wiki/States_and_federal_territories_of_Malaysia\n"
     ]
    },
    {
     "name": "stderr",
     "output_type": "stream",
     "text": [
      "  1%|          | 13/1389 [00:11<19:08,  1.20it/s]"
     ]
    },
    {
     "name": "stdout",
     "output_type": "stream",
     "text": [
      "No table found  https://en.wikipedia.org/wiki/Pidgin\n"
     ]
    },
    {
     "name": "stderr",
     "output_type": "stream",
     "text": [
      "  1%|          | 14/1389 [00:11<15:44,  1.46it/s]"
     ]
    },
    {
     "name": "stdout",
     "output_type": "stream",
     "text": [
      "No table found  https://en.wikipedia.org/wiki/Karelia\n"
     ]
    },
    {
     "name": "stderr",
     "output_type": "stream",
     "text": [
      "  4%|▍         | 60/1389 [00:49<16:01,  1.38it/s]"
     ]
    },
    {
     "name": "stdout",
     "output_type": "stream",
     "text": [
      "No table found  https://en.wikipedia.org/wiki/Akkad_(city)\n"
     ]
    },
    {
     "name": "stderr",
     "output_type": "stream",
     "text": [
      "  5%|▌         | 72/1389 [01:00<15:19,  1.43it/s]"
     ]
    },
    {
     "name": "stdout",
     "output_type": "stream",
     "text": [
      "No table found  https://en.wikipedia.org/wiki/Cities_of_Brazil\n"
     ]
    },
    {
     "name": "stderr",
     "output_type": "stream",
     "text": [
      "  6%|▌         | 79/1389 [01:05<14:46,  1.48it/s]"
     ]
    },
    {
     "name": "stdout",
     "output_type": "stream",
     "text": [
      "No table found  https://en.wikipedia.org/wiki/Mesopotamia\n"
     ]
    },
    {
     "name": "stderr",
     "output_type": "stream",
     "text": [
      "  6%|▌         | 86/1389 [01:11<17:05,  1.27it/s]"
     ]
    },
    {
     "name": "stdout",
     "output_type": "stream",
     "text": [
      "No table found  https://en.wikipedia.org/wiki/Armenian_diaspora\n"
     ]
    },
    {
     "name": "stderr",
     "output_type": "stream",
     "text": [
      "  7%|▋         | 96/1389 [01:19<15:17,  1.41it/s]"
     ]
    },
    {
     "name": "stdout",
     "output_type": "stream",
     "text": [
      "No table found  https://en.wikipedia.org/wiki/Sub-provincial_divisions_in_the_People%27s_Republic_of_China\n"
     ]
    },
    {
     "name": "stderr",
     "output_type": "stream",
     "text": [
      " 11%|█         | 146/1389 [02:01<15:57,  1.30it/s]"
     ]
    },
    {
     "name": "stdout",
     "output_type": "stream",
     "text": [
      "No table found  https://en.wikipedia.org/wiki/List_of_countries_where_French_is_an_official_language\n"
     ]
    },
    {
     "name": "stderr",
     "output_type": "stream",
     "text": [
      " 11%|█         | 152/1389 [02:06<13:23,  1.54it/s]"
     ]
    },
    {
     "name": "stdout",
     "output_type": "stream",
     "text": [
      "No table found  https://en.wikipedia.org/wiki/Near_East\n"
     ]
    },
    {
     "name": "stderr",
     "output_type": "stream",
     "text": [
      " 16%|█▌        | 220/1389 [03:02<12:55,  1.51it/s]"
     ]
    },
    {
     "name": "stdout",
     "output_type": "stream",
     "text": [
      "No table found  https://en.wikipedia.org/wiki/Kawthoolei\n"
     ]
    },
    {
     "name": "stderr",
     "output_type": "stream",
     "text": [
      " 22%|██▏       | 308/1389 [04:22<10:06,  1.78it/s]"
     ]
    },
    {
     "name": "stdout",
     "output_type": "stream",
     "text": [
      "No table found  https://en.wikipedia.org/wiki/Fief\n"
     ]
    },
    {
     "name": "stderr",
     "output_type": "stream",
     "text": [
      " 23%|██▎       | 319/1389 [04:31<14:08,  1.26it/s]"
     ]
    },
    {
     "name": "stdout",
     "output_type": "stream",
     "text": [
      "No table found  https://en.wikipedia.org/wiki/Main_Page\n"
     ]
    },
    {
     "name": "stderr",
     "output_type": "stream",
     "text": [
      " 23%|██▎       | 323/1389 [04:33<10:11,  1.74it/s]"
     ]
    },
    {
     "name": "stdout",
     "output_type": "stream",
     "text": [
      "No table found  https://en.wikipedia.org/wiki/List_of_countries_where_Arabic_is_an_official_language\n"
     ]
    },
    {
     "name": "stderr",
     "output_type": "stream",
     "text": [
      " 27%|██▋       | 376/1389 [05:20<14:33,  1.16it/s]"
     ]
    },
    {
     "name": "stdout",
     "output_type": "stream",
     "text": [
      "No table found  https://en.wikipedia.org/wiki/Germanic_tribes\n"
     ]
    },
    {
     "name": "stderr",
     "output_type": "stream",
     "text": [
      " 29%|██▊       | 396/1389 [05:36<10:49,  1.53it/s]"
     ]
    },
    {
     "name": "stdout",
     "output_type": "stream",
     "text": [
      "No table found  https://en.wikipedia.org/wiki/States_of_Mexico\n"
     ]
    },
    {
     "name": "stderr",
     "output_type": "stream",
     "text": [
      " 31%|███▏      | 437/1389 [06:13<12:08,  1.31it/s]"
     ]
    },
    {
     "name": "stdout",
     "output_type": "stream",
     "text": [
      "No table found  https://en.wikipedia.org/wiki/Southeastern_Europe\n"
     ]
    },
    {
     "name": "stderr",
     "output_type": "stream",
     "text": [
      " 32%|███▏      | 439/1389 [06:14<09:27,  1.67it/s]"
     ]
    },
    {
     "name": "stdout",
     "output_type": "stream",
     "text": [
      "No table found  https://en.wikipedia.org/wiki/Regional_language\n"
     ]
    },
    {
     "name": "stderr",
     "output_type": "stream",
     "text": [
      " 37%|███▋      | 508/1389 [07:20<10:35,  1.39it/s]"
     ]
    },
    {
     "name": "stdout",
     "output_type": "stream",
     "text": [
      "No table found  https://en.wikipedia.org/wiki/Provinces_of_Mongolia\n"
     ]
    },
    {
     "name": "stderr",
     "output_type": "stream",
     "text": [
      " 38%|███▊      | 522/1389 [07:36<16:40,  1.15s/it]"
     ]
    },
    {
     "name": "stdout",
     "output_type": "stream",
     "text": [
      "No table found  https://en.wikipedia.org/wiki/Municipalities_of_Slovakia\n"
     ]
    },
    {
     "name": "stderr",
     "output_type": "stream",
     "text": [
      " 38%|███▊      | 529/1389 [07:42<11:48,  1.21it/s]"
     ]
    },
    {
     "name": "stdout",
     "output_type": "stream",
     "text": [
      "No table found  https://en.wikipedia.org/wiki/Zonal_auxiliary_language\n"
     ]
    },
    {
     "name": "stderr",
     "output_type": "stream",
     "text": [
      " 39%|███▉      | 544/1389 [07:57<11:00,  1.28it/s]"
     ]
    },
    {
     "name": "stdout",
     "output_type": "stream",
     "text": [
      "No table found  https://en.wikipedia.org/wiki/Emirau_Island\n"
     ]
    },
    {
     "name": "stderr",
     "output_type": "stream",
     "text": [
      " 42%|████▏     | 582/1389 [08:31<12:22,  1.09it/s]"
     ]
    },
    {
     "name": "stdout",
     "output_type": "stream",
     "text": [
      "No table found  https://en.wikipedia.org/wiki/St_Matthias_Islands\n"
     ]
    },
    {
     "name": "stderr",
     "output_type": "stream",
     "text": [
      " 43%|████▎     | 600/1389 [08:49<13:12,  1.00s/it]"
     ]
    },
    {
     "name": "stdout",
     "output_type": "stream",
     "text": [
      "No table found  https://en.wikipedia.org/wiki/Exonym_and_endonym\n"
     ]
    },
    {
     "name": "stderr",
     "output_type": "stream",
     "text": [
      " 45%|████▍     | 621/1389 [09:09<10:57,  1.17it/s]"
     ]
    },
    {
     "name": "stdout",
     "output_type": "stream",
     "text": [
      "No table found  https://en.wikipedia.org/wiki/Communities_of_Belgium\n"
     ]
    },
    {
     "name": "stderr",
     "output_type": "stream",
     "text": [
      " 47%|████▋     | 655/1389 [09:40<08:59,  1.36it/s]"
     ]
    },
    {
     "name": "stdout",
     "output_type": "stream",
     "text": [
      "No table found  https://en.wikipedia.org/wiki/National_language\n"
     ]
    },
    {
     "name": "stderr",
     "output_type": "stream",
     "text": [
      " 48%|████▊     | 663/1389 [09:46<07:53,  1.53it/s]"
     ]
    },
    {
     "name": "stdout",
     "output_type": "stream",
     "text": [
      "No table found  https://en.wikipedia.org/wiki/List_of_countries_where_Russian_is_an_official_language\n"
     ]
    },
    {
     "name": "stderr",
     "output_type": "stream",
     "text": [
      " 48%|████▊     | 665/1389 [09:48<10:29,  1.15it/s]"
     ]
    },
    {
     "name": "stdout",
     "output_type": "stream",
     "text": [
      "No table found  https://en.wikipedia.org/wiki/Communities,_regions_and_language_areas_of_Belgium\n"
     ]
    },
    {
     "name": "stderr",
     "output_type": "stream",
     "text": [
      " 54%|█████▎    | 745/1389 [11:06<08:23,  1.28it/s]"
     ]
    },
    {
     "name": "stdout",
     "output_type": "stream",
     "text": [
      "No table found  https://en.wikipedia.org/wiki/Abkhaz_alphabet\n"
     ]
    },
    {
     "name": "stderr",
     "output_type": "stream",
     "text": [
      " 54%|█████▍    | 747/1389 [11:08<07:54,  1.35it/s]"
     ]
    },
    {
     "name": "stdout",
     "output_type": "stream",
     "text": [
      "No table found  https://en.wikipedia.org/wiki/List_of_countries_where_English_is_an_official_language\n"
     ]
    },
    {
     "name": "stderr",
     "output_type": "stream",
     "text": [
      " 55%|█████▍    | 758/1389 [11:19<08:16,  1.27it/s]"
     ]
    },
    {
     "name": "stdout",
     "output_type": "stream",
     "text": [
      "No table found  https://en.wikipedia.org/wiki/Comunes_of_Italy\n"
     ]
    },
    {
     "name": "stderr",
     "output_type": "stream",
     "text": [
      " 55%|█████▍    | 763/1389 [11:23<09:29,  1.10it/s]"
     ]
    },
    {
     "name": "stdout",
     "output_type": "stream",
     "text": [
      "No table found  https://en.wikipedia.org/wiki/Administrative_divisions_of_Uzbekistan\n"
     ]
    },
    {
     "name": "stderr",
     "output_type": "stream",
     "text": [
      " 55%|█████▌    | 770/1389 [11:28<06:12,  1.66it/s]"
     ]
    },
    {
     "name": "stdout",
     "output_type": "stream",
     "text": [
      "No table found  https://en.wikipedia.org/wiki/Administrative_divisions_of_Serbia\n"
     ]
    },
    {
     "name": "stderr",
     "output_type": "stream",
     "text": [
      " 56%|█████▌    | 773/1389 [11:30<06:20,  1.62it/s]"
     ]
    },
    {
     "name": "stdout",
     "output_type": "stream",
     "text": [
      "No table found  https://en.wikipedia.org/wiki/Provinces_of_Costa_Rica\n"
     ]
    },
    {
     "name": "stderr",
     "output_type": "stream",
     "text": [
      " 59%|█████▉    | 821/1389 [12:20<07:24,  1.28it/s]"
     ]
    },
    {
     "name": "stdout",
     "output_type": "stream",
     "text": [
      "No table found  https://en.wikipedia.org/wiki/Autonomous_area\n"
     ]
    },
    {
     "name": "stderr",
     "output_type": "stream",
     "text": [
      " 61%|██████    | 846/1389 [12:45<08:06,  1.12it/s]"
     ]
    },
    {
     "name": "stdout",
     "output_type": "stream",
     "text": [
      "No table found  https://en.wikipedia.org/wiki/Liturgical_language\n"
     ]
    },
    {
     "name": "stderr",
     "output_type": "stream",
     "text": [
      " 63%|██████▎   | 876/1389 [13:12<07:53,  1.08it/s]"
     ]
    },
    {
     "name": "stdout",
     "output_type": "stream",
     "text": [
      "No table found  https://en.wikipedia.org/wiki/National_Language\n"
     ]
    },
    {
     "name": "stderr",
     "output_type": "stream",
     "text": [
      " 63%|██████▎   | 881/1389 [13:16<05:56,  1.42it/s]"
     ]
    },
    {
     "name": "stdout",
     "output_type": "stream",
     "text": [
      "No table found  https://en.wikipedia.org/wiki/Eastern_Europe\n"
     ]
    },
    {
     "name": "stderr",
     "output_type": "stream",
     "text": [
      " 66%|██████▌   | 911/1389 [13:42<03:48,  2.09it/s]"
     ]
    },
    {
     "name": "stdout",
     "output_type": "stream",
     "text": [
      "No table found  https://en.wikipedia.org/wiki/Official_language\n"
     ]
    },
    {
     "name": "stderr",
     "output_type": "stream",
     "text": [
      " 67%|██████▋   | 928/1389 [13:58<05:17,  1.45it/s]"
     ]
    },
    {
     "name": "stdout",
     "output_type": "stream",
     "text": [
      "No table found  https://en.wikipedia.org/wiki/Karamoja\n"
     ]
    },
    {
     "name": "stderr",
     "output_type": "stream",
     "text": [
      " 67%|██████▋   | 931/1389 [14:00<06:10,  1.24it/s]"
     ]
    },
    {
     "name": "stdout",
     "output_type": "stream",
     "text": [
      "No table found  https://en.wikipedia.org/wiki/Jewish_Diaspora\n"
     ]
    },
    {
     "name": "stderr",
     "output_type": "stream",
     "text": [
      " 75%|███████▌  | 1047/1389 [15:51<04:06,  1.39it/s]"
     ]
    },
    {
     "name": "stdout",
     "output_type": "stream",
     "text": [
      "No table found  https://en.wikipedia.org/wiki/Language\n"
     ]
    },
    {
     "name": "stderr",
     "output_type": "stream",
     "text": [
      " 78%|███████▊  | 1077/1389 [16:21<03:53,  1.34it/s]"
     ]
    },
    {
     "name": "stdout",
     "output_type": "stream",
     "text": [
      "No table found  https://en.wikipedia.org/wiki/Lingua_franca\n"
     ]
    },
    {
     "name": "stderr",
     "output_type": "stream",
     "text": [
      " 78%|███████▊  | 1082/1389 [16:24<03:28,  1.47it/s]"
     ]
    },
    {
     "name": "stdout",
     "output_type": "stream",
     "text": [
      "No table found  https://en.wikipedia.org/wiki/Minority_language\n"
     ]
    },
    {
     "name": "stderr",
     "output_type": "stream",
     "text": [
      " 79%|███████▉  | 1098/1389 [16:39<03:44,  1.30it/s]"
     ]
    },
    {
     "name": "stdout",
     "output_type": "stream",
     "text": [
      "No table found  https://en.wikipedia.org/wiki/Ronald_Kingsley_Read\n"
     ]
    },
    {
     "name": "stderr",
     "output_type": "stream",
     "text": [
      " 79%|███████▉  | 1103/1389 [16:43<03:20,  1.42it/s]"
     ]
    },
    {
     "name": "stdout",
     "output_type": "stream",
     "text": [
      "No table found  https://en.wikipedia.org/wiki/Lists_of_languages\n"
     ]
    },
    {
     "name": "stderr",
     "output_type": "stream",
     "text": [
      " 82%|████████▏ | 1139/1389 [17:21<04:41,  1.13s/it]"
     ]
    },
    {
     "name": "stdout",
     "output_type": "stream",
     "text": [
      "No table found  https://en.wikipedia.org/wiki/Official_languages_of_the_United_Nations\n"
     ]
    },
    {
     "name": "stderr",
     "output_type": "stream",
     "text": [
      " 82%|████████▏ | 1141/1389 [17:22<03:23,  1.22it/s]"
     ]
    },
    {
     "name": "stdout",
     "output_type": "stream",
     "text": [
      "No table found  https://en.wikipedia.org/wiki/French_Basque_Country\n"
     ]
    },
    {
     "name": "stderr",
     "output_type": "stream",
     "text": [
      " 84%|████████▍ | 1167/1389 [17:47<02:38,  1.40it/s]"
     ]
    },
    {
     "name": "stdout",
     "output_type": "stream",
     "text": [
      "No table found  https://en.wikipedia.org/wiki/Municipality\n"
     ]
    },
    {
     "name": "stderr",
     "output_type": "stream",
     "text": [
      " 85%|████████▌ | 1186/1389 [18:06<03:22,  1.00it/s]"
     ]
    },
    {
     "name": "stdout",
     "output_type": "stream",
     "text": [
      "No table found  https://en.wikipedia.org/wiki/Middle_Ages\n"
     ]
    },
    {
     "name": "stderr",
     "output_type": "stream",
     "text": [
      " 86%|████████▋ | 1199/1389 [18:16<02:00,  1.58it/s]"
     ]
    },
    {
     "name": "stdout",
     "output_type": "stream",
     "text": [
      "No table found  https://en.wikipedia.org/wiki/Archipelago\n"
     ]
    },
    {
     "name": "stderr",
     "output_type": "stream",
     "text": [
      " 87%|████████▋ | 1210/1389 [18:24<01:48,  1.65it/s]"
     ]
    },
    {
     "name": "stdout",
     "output_type": "stream",
     "text": [
      "No table found  https://en.wikipedia.org/wiki/Court\n"
     ]
    },
    {
     "name": "stderr",
     "output_type": "stream",
     "text": [
      " 87%|████████▋ | 1211/1389 [18:24<01:34,  1.88it/s]"
     ]
    },
    {
     "name": "stdout",
     "output_type": "stream",
     "text": [
      "No table found  https://en.wikipedia.org/wiki/Mussau_Island\n"
     ]
    },
    {
     "name": "stderr",
     "output_type": "stream",
     "text": [
      " 91%|█████████ | 1264/1389 [19:10<01:18,  1.59it/s]"
     ]
    },
    {
     "name": "stdout",
     "output_type": "stream",
     "text": [
      "No table found  https://en.wikipedia.org/wiki/International_auxiliary_language\n"
     ]
    },
    {
     "name": "stderr",
     "output_type": "stream",
     "text": [
      " 92%|█████████▏| 1284/1389 [19:28<01:08,  1.53it/s]"
     ]
    },
    {
     "name": "stdout",
     "output_type": "stream",
     "text": [
      "No table found  https://en.wikipedia.org/wiki/Autonomous_counties_of_the_People%27s_Republic_of_China\n"
     ]
    },
    {
     "name": "stderr",
     "output_type": "stream",
     "text": [
      " 93%|█████████▎| 1298/1389 [19:40<01:14,  1.23it/s]"
     ]
    },
    {
     "name": "stdout",
     "output_type": "stream",
     "text": [
      "No table found  https://en.wikipedia.org/wiki/Middle_East_and_North_Africa\n"
     ]
    },
    {
     "name": "stderr",
     "output_type": "stream",
     "text": [
      " 95%|█████████▌| 1324/1389 [20:02<00:46,  1.41it/s]"
     ]
    },
    {
     "name": "stdout",
     "output_type": "stream",
     "text": [
      "No table found  https://en.wikipedia.org/wiki/List_of_language_names\n"
     ]
    },
    {
     "name": "stderr",
     "output_type": "stream",
     "text": [
      " 98%|█████████▊| 1359/1389 [20:35<00:28,  1.05it/s]"
     ]
    },
    {
     "name": "stdout",
     "output_type": "stream",
     "text": [
      "No table found  https://en.wikipedia.org/wiki/Al-Andalus\n"
     ]
    },
    {
     "name": "stderr",
     "output_type": "stream",
     "text": [
      " 99%|█████████▉| 1376/1389 [20:54<00:09,  1.35it/s]"
     ]
    },
    {
     "name": "stdout",
     "output_type": "stream",
     "text": [
      "No table found  https://en.wikipedia.org/wiki/List_of_countries_where_Spanish_is_an_official_language\n"
     ]
    },
    {
     "name": "stderr",
     "output_type": "stream",
     "text": [
      "100%|██████████| 1389/1389 [21:06<00:00,  1.10it/s]\n"
     ]
    }
   ],
   "source": [
    "data = []\n",
    "errors = []\n",
    "\n",
    "for url in tqdm(urls): \n",
    "    # try: \n",
    "        lang = url.split('/')[-1]\n",
    "\n",
    "        # print(requests.get(url).status_code)\n",
    "        # print(url)\n",
    "        response        = requests.get(url)\n",
    "        content         = response.content\n",
    "        parser          = BeautifulSoup(content, 'html.parser')\n",
    "        table           = parser.find('table', {'class': 'infobox'})\n",
    "\n",
    "        if table == None:\n",
    "             print(\"No table found \", url)\n",
    "             continue\n",
    "\n",
    "        header_indices  = find_index_of_headers(url)\n",
    "\n",
    "        # print(header_indices)\n",
    "\n",
    "        infobox_data = table.find_all('td', {'class': 'infobox-data'})\n",
    "\n",
    "        regions         = infobox_data[header_indices['Region']].text              if 'Region' in header_indices else None\n",
    "        off_lang        = infobox_data[header_indices['Official language in']].text if 'Official language in' in header_indices else None\n",
    "        rec_min_lang    = infobox_data[header_indices['Recognised minoritylanguage in']].text if 'Recognised minoritylanguage in' in header_indices else None\n",
    "        speakers        = infobox_data[header_indices['Speakers']].text             if 'Speakers' in header_indices else None\n",
    "        iso3code        = infobox_data[header_indices['ISO 639-3']].text            if 'ISO 639-3' in header_indices else None\n",
    "\n",
    "        family          = [x for x in infobox_data[header_indices['Language family']].get_text('title').split('title') if x != \"\\n\"]\\\n",
    "                            if 'Language family' in header_indices else None\n",
    "        \n",
    "        dialects        = [x for x in infobox_data[header_indices['Dialects']].get_text('title').split('title') if x != \"\\n\"] \\\n",
    "                            if 'Dialects' in header_indices else None\n",
    "        \n",
    "        data.append((lang, family, dialects, iso3code, speakers, regions, off_lang, rec_min_lang))\n",
    "    # except Exception as e: \n",
    "    #     errors.append((e, url))\n",
    "    #     continue\n",
    "\n",
    "df = pd.DataFrame(data, columns=['lang', 'family', 'dialects', 'iso3code', 'speakers', 'regions', 'off_lang', 'rec_min_lang'])\n"
   ]
  },
  {
   "cell_type": "code",
   "execution_count": null,
   "metadata": {},
   "outputs": [],
   "source": []
  },
  {
   "cell_type": "code",
   "execution_count": 79,
   "metadata": {},
   "outputs": [
    {
     "data": {
      "text/plain": [
       "lang            0.000000\n",
       "iso3code        0.564662\n",
       "family          0.572932\n",
       "regions         0.630827\n",
       "off_lang        0.812030\n",
       "dialects        0.839850\n",
       "rec_min_lang    0.883459\n",
       "speakers        0.976692\n",
       "dtype: float64"
      ]
     },
     "execution_count": 79,
     "metadata": {},
     "output_type": "execute_result"
    }
   ],
   "source": [
    "(df.isna().sum()  / len(df)).sort_values()"
   ]
  },
  {
   "cell_type": "code",
   "execution_count": 91,
   "metadata": {},
   "outputs": [],
   "source": [
    "languages = df[~df['iso3code'].isna()]"
   ]
  },
  {
   "cell_type": "code",
   "execution_count": 94,
   "metadata": {},
   "outputs": [
    {
     "data": {
      "text/plain": [
       "lang            0.000000\n",
       "iso3code        0.000000\n",
       "family          0.018998\n",
       "regions         0.265976\n",
       "off_lang        0.568221\n",
       "dialects        0.632124\n",
       "rec_min_lang    0.732297\n",
       "speakers        0.946459\n",
       "dtype: float64"
      ]
     },
     "execution_count": 94,
     "metadata": {},
     "output_type": "execute_result"
    }
   ],
   "source": [
    "languages.isna().sum().sort_values()/len(languages)"
   ]
  },
  {
   "cell_type": "code",
   "execution_count": 98,
   "metadata": {},
   "outputs": [
    {
     "data": {
      "text/html": [
       "<div>\n",
       "<style scoped>\n",
       "    .dataframe tbody tr th:only-of-type {\n",
       "        vertical-align: middle;\n",
       "    }\n",
       "\n",
       "    .dataframe tbody tr th {\n",
       "        vertical-align: top;\n",
       "    }\n",
       "\n",
       "    .dataframe thead th {\n",
       "        text-align: right;\n",
       "    }\n",
       "</style>\n",
       "<table border=\"1\" class=\"dataframe\">\n",
       "  <thead>\n",
       "    <tr style=\"text-align: right;\">\n",
       "      <th></th>\n",
       "      <th>lang</th>\n",
       "      <th>family</th>\n",
       "      <th>dialects</th>\n",
       "      <th>iso3code</th>\n",
       "      <th>speakers</th>\n",
       "      <th>regions</th>\n",
       "      <th>off_lang</th>\n",
       "      <th>rec_min_lang</th>\n",
       "    </tr>\n",
       "  </thead>\n",
       "  <tbody>\n",
       "    <tr>\n",
       "      <th>1</th>\n",
       "      <td>Adai_language</td>\n",
       "      <td>[unclassified]</td>\n",
       "      <td>None</td>\n",
       "      <td>xad</td>\n",
       "      <td>None</td>\n",
       "      <td>Louisiana</td>\n",
       "      <td>None</td>\n",
       "      <td>None</td>\n",
       "    </tr>\n",
       "    <tr>\n",
       "      <th>3</th>\n",
       "      <td>Kapampangan_language</td>\n",
       "      <td>[Austronesian, Malayo-Polynesian, Philippine, ...</td>\n",
       "      <td>None</td>\n",
       "      <td>pam</td>\n",
       "      <td>None</td>\n",
       "      <td>Central Luzon (entirety of Pampanga, southern ...</td>\n",
       "      <td>Angeles City[3][4][5]</td>\n",
       "      <td>Regional language of the Philippines</td>\n",
       "    </tr>\n",
       "    <tr>\n",
       "      <th>4</th>\n",
       "      <td>Vlax_Romani_language</td>\n",
       "      <td>[Indo-European, Indo-Iranian, Indo-Aryan, West...</td>\n",
       "      <td>None</td>\n",
       "      <td>rmy</td>\n",
       "      <td>None</td>\n",
       "      <td>None</td>\n",
       "      <td>None</td>\n",
       "      <td>Hungary, Romania, Poland, and Serbia</td>\n",
       "    </tr>\n",
       "    <tr>\n",
       "      <th>6</th>\n",
       "      <td>Nahuatl_language</td>\n",
       "      <td>[Uto-Aztecan, Southern Uto-Aztecan, Nahuan, Na...</td>\n",
       "      <td>[Western Peripheral Nahuatl, Eastern Periphera...</td>\n",
       "      <td>nhe Huasteca NahuatlFor other varieties, see N...</td>\n",
       "      <td>None</td>\n",
       "      <td>Mexico: Puebla Veracruz Hidalgo Guerrero San L...</td>\n",
       "      <td>Mexico (through the General Law of Linguistic...</td>\n",
       "      <td>None</td>\n",
       "    </tr>\n",
       "    <tr>\n",
       "      <th>8</th>\n",
       "      <td>Hmong_language</td>\n",
       "      <td>[Hmong–Mien, Hmongic, Core Hmongic, West Hmong...</td>\n",
       "      <td>None</td>\n",
       "      <td>hmn – inclusive code for the Hmong/Mong macrol...</td>\n",
       "      <td>None</td>\n",
       "      <td>None</td>\n",
       "      <td>None</td>\n",
       "      <td>China  Laos   Myanmar   Vietnam   Thailand</td>\n",
       "    </tr>\n",
       "    <tr>\n",
       "      <th>15</th>\n",
       "      <td>Parya_language</td>\n",
       "      <td>[Indo-European, Indo-Iranian, Indo-Aryan, Cent...</td>\n",
       "      <td>None</td>\n",
       "      <td>paq</td>\n",
       "      <td>None</td>\n",
       "      <td>Gissar Valley, Surkhandarya basin</td>\n",
       "      <td>None</td>\n",
       "      <td>None</td>\n",
       "    </tr>\n",
       "    <tr>\n",
       "      <th>17</th>\n",
       "      <td>Arin_language</td>\n",
       "      <td>[Dené–Yeniseian, ?\\n, Yeniseian, Southern Yeni...</td>\n",
       "      <td>None</td>\n",
       "      <td>xrn</td>\n",
       "      <td>None</td>\n",
       "      <td>Yenisei River</td>\n",
       "      <td>None</td>\n",
       "      <td>None</td>\n",
       "    </tr>\n",
       "    <tr>\n",
       "      <th>19</th>\n",
       "      <td>Latvian_language</td>\n",
       "      <td>[Indo-European, Balto-Slavic, Baltic, East Bal...</td>\n",
       "      <td>None</td>\n",
       "      <td>lav – inclusive codeIndividual codes:lvs – Sta...</td>\n",
       "      <td>None</td>\n",
       "      <td>Baltic</td>\n",
       "      <td>Latvia European Union</td>\n",
       "      <td>None</td>\n",
       "    </tr>\n",
       "    <tr>\n",
       "      <th>21</th>\n",
       "      <td>Odia_language</td>\n",
       "      <td>[Indo-European, Indo-Iranian, Indo-Aryan, East...</td>\n",
       "      <td>[Northern, , Central, , Southern, , , Northwes...</td>\n",
       "      <td>ori – inclusive codeIndividual codes:ory – Odi...</td>\n",
       "      <td>None</td>\n",
       "      <td>Odisha[a]</td>\n",
       "      <td>India\\nOdisha\\nJharkhand[3] (additional)\\nWes...</td>\n",
       "      <td>None</td>\n",
       "    </tr>\n",
       "    <tr>\n",
       "      <th>22</th>\n",
       "      <td>Caddo_language</td>\n",
       "      <td>[Caddoan, Caddo]</td>\n",
       "      <td>None</td>\n",
       "      <td>cad</td>\n",
       "      <td>None</td>\n",
       "      <td>Caddo County in western Oklahoma</td>\n",
       "      <td>None</td>\n",
       "      <td>None</td>\n",
       "    </tr>\n",
       "    <tr>\n",
       "      <th>23</th>\n",
       "      <td>Kendeje_language</td>\n",
       "      <td>[Nilo-Saharan, ?\\n, Maban, Kenjeje]</td>\n",
       "      <td>[Yaali, Faranga]</td>\n",
       "      <td>klf</td>\n",
       "      <td>None</td>\n",
       "      <td>Ouaddaï</td>\n",
       "      <td>None</td>\n",
       "      <td>None</td>\n",
       "    </tr>\n",
       "    <tr>\n",
       "      <th>24</th>\n",
       "      <td>Hindko</td>\n",
       "      <td>[Indo-European, Indo-Iranian, Indo-Aryan, Nort...</td>\n",
       "      <td>[Peshawari, Kohati, Awankari, , , Ghebi, , , C...</td>\n",
       "      <td>Either:hnd – Southern Hindkohno – Northern Hindko</td>\n",
       "      <td>None</td>\n",
       "      <td>Hazara Division, Peshawar, Kohat, Pothohar</td>\n",
       "      <td>None</td>\n",
       "      <td>None</td>\n",
       "    </tr>\n",
       "    <tr>\n",
       "      <th>26</th>\n",
       "      <td>Fon_language</td>\n",
       "      <td>[Niger–Congo, ?\\n, Atlantic–Congo, Volta-Congo...</td>\n",
       "      <td>[Agbome, Arohun, Gbekon, Kpase]</td>\n",
       "      <td>fon</td>\n",
       "      <td>None</td>\n",
       "      <td>None</td>\n",
       "      <td>Benin</td>\n",
       "      <td>None</td>\n",
       "    </tr>\n",
       "    <tr>\n",
       "      <th>28</th>\n",
       "      <td>Khoekhoe_language</td>\n",
       "      <td>[Khoe–Kwadi, Khoe, Khoekhoe, Khoekhoe]</td>\n",
       "      <td>[Nama–Damara, Haiǁom–ǂĀkhoe]</td>\n",
       "      <td>Either:naq – Khoekhoe, Namahgm – Haiǁom</td>\n",
       "      <td>None</td>\n",
       "      <td>Orange River, Great Namaland, Damaraland</td>\n",
       "      <td>None</td>\n",
       "      <td>Namibia South Africa[a][2]</td>\n",
       "    </tr>\n",
       "    <tr>\n",
       "      <th>30</th>\n",
       "      <td>Kanuri_language</td>\n",
       "      <td>[Nilo-Saharan, ?\\n, Saharan, Western, Kanuri]</td>\n",
       "      <td>None</td>\n",
       "      <td>kau – inclusive codeIndividual codes:knc – Cen...</td>\n",
       "      <td>None</td>\n",
       "      <td>Lake Chad</td>\n",
       "      <td>None</td>\n",
       "      <td>None</td>\n",
       "    </tr>\n",
       "    <tr>\n",
       "      <th>33</th>\n",
       "      <td>Chechen_language</td>\n",
       "      <td>[Northeast Caucasian, Nakh, Vainakh, Chechen]</td>\n",
       "      <td>None</td>\n",
       "      <td>che</td>\n",
       "      <td>None</td>\n",
       "      <td>Chechnya, Ingushetia and Dagestan</td>\n",
       "      <td>Russia\\n Chechnya\\n Dagestan\\n</td>\n",
       "      <td>None</td>\n",
       "    </tr>\n",
       "    <tr>\n",
       "      <th>38</th>\n",
       "      <td>Masalit_language</td>\n",
       "      <td>[Nilo-Saharan, ?\\n, Maban, Masalit languages, ...</td>\n",
       "      <td>None</td>\n",
       "      <td>Either:mls – Masalitmdg – Massalat</td>\n",
       "      <td>None</td>\n",
       "      <td>West Darfur, South Darfur (Sudan), Ouaddaï, Si...</td>\n",
       "      <td>None</td>\n",
       "      <td>None</td>\n",
       "    </tr>\n",
       "    <tr>\n",
       "      <th>45</th>\n",
       "      <td>Saterland_Frisian_language</td>\n",
       "      <td>[Indo-European, Germanic, West Germanic, North...</td>\n",
       "      <td>None</td>\n",
       "      <td>stq</td>\n",
       "      <td>None</td>\n",
       "      <td>Saterland</td>\n",
       "      <td>None</td>\n",
       "      <td>Germany</td>\n",
       "    </tr>\n",
       "    <tr>\n",
       "      <th>48</th>\n",
       "      <td>Czech_language</td>\n",
       "      <td>[Indo-European, Balto-Slavic, Slavic, West Sla...</td>\n",
       "      <td>[Bohemian, Central Moravian, Eastern Moravian,...</td>\n",
       "      <td>ces</td>\n",
       "      <td>None</td>\n",
       "      <td>None</td>\n",
       "      <td>\\nCzech Republic\\nEuropean Union\\n</td>\n",
       "      <td>\\nAustria[2]\\nBosnia and Herzegovina[2]\\nCroat...</td>\n",
       "    </tr>\n",
       "    <tr>\n",
       "      <th>49</th>\n",
       "      <td>Cahuilla_language</td>\n",
       "      <td>[Uto-Aztecan, Northern Uto-Aztecan, Cupan, Cah...</td>\n",
       "      <td>[Desert, Mountain, Pass]</td>\n",
       "      <td>chl</td>\n",
       "      <td>None</td>\n",
       "      <td>Southern California</td>\n",
       "      <td>None</td>\n",
       "      <td>None</td>\n",
       "    </tr>\n",
       "  </tbody>\n",
       "</table>\n",
       "</div>"
      ],
      "text/plain": [
       "                          lang  \\\n",
       "1                Adai_language   \n",
       "3         Kapampangan_language   \n",
       "4         Vlax_Romani_language   \n",
       "6             Nahuatl_language   \n",
       "8               Hmong_language   \n",
       "15              Parya_language   \n",
       "17               Arin_language   \n",
       "19            Latvian_language   \n",
       "21               Odia_language   \n",
       "22              Caddo_language   \n",
       "23            Kendeje_language   \n",
       "24                      Hindko   \n",
       "26                Fon_language   \n",
       "28           Khoekhoe_language   \n",
       "30             Kanuri_language   \n",
       "33            Chechen_language   \n",
       "38            Masalit_language   \n",
       "45  Saterland_Frisian_language   \n",
       "48              Czech_language   \n",
       "49           Cahuilla_language   \n",
       "\n",
       "                                               family  \\\n",
       "1                                      [unclassified]   \n",
       "3   [Austronesian, Malayo-Polynesian, Philippine, ...   \n",
       "4   [Indo-European, Indo-Iranian, Indo-Aryan, West...   \n",
       "6   [Uto-Aztecan, Southern Uto-Aztecan, Nahuan, Na...   \n",
       "8   [Hmong–Mien, Hmongic, Core Hmongic, West Hmong...   \n",
       "15  [Indo-European, Indo-Iranian, Indo-Aryan, Cent...   \n",
       "17  [Dené–Yeniseian, ?\\n, Yeniseian, Southern Yeni...   \n",
       "19  [Indo-European, Balto-Slavic, Baltic, East Bal...   \n",
       "21  [Indo-European, Indo-Iranian, Indo-Aryan, East...   \n",
       "22                                   [Caddoan, Caddo]   \n",
       "23                [Nilo-Saharan, ?\\n, Maban, Kenjeje]   \n",
       "24  [Indo-European, Indo-Iranian, Indo-Aryan, Nort...   \n",
       "26  [Niger–Congo, ?\\n, Atlantic–Congo, Volta-Congo...   \n",
       "28             [Khoe–Kwadi, Khoe, Khoekhoe, Khoekhoe]   \n",
       "30      [Nilo-Saharan, ?\\n, Saharan, Western, Kanuri]   \n",
       "33      [Northeast Caucasian, Nakh, Vainakh, Chechen]   \n",
       "38  [Nilo-Saharan, ?\\n, Maban, Masalit languages, ...   \n",
       "45  [Indo-European, Germanic, West Germanic, North...   \n",
       "48  [Indo-European, Balto-Slavic, Slavic, West Sla...   \n",
       "49  [Uto-Aztecan, Northern Uto-Aztecan, Cupan, Cah...   \n",
       "\n",
       "                                             dialects  \\\n",
       "1                                                None   \n",
       "3                                                None   \n",
       "4                                                None   \n",
       "6   [Western Peripheral Nahuatl, Eastern Periphera...   \n",
       "8                                                None   \n",
       "15                                               None   \n",
       "17                                               None   \n",
       "19                                               None   \n",
       "21  [Northern, , Central, , Southern, , , Northwes...   \n",
       "22                                               None   \n",
       "23                                   [Yaali, Faranga]   \n",
       "24  [Peshawari, Kohati, Awankari, , , Ghebi, , , C...   \n",
       "26                    [Agbome, Arohun, Gbekon, Kpase]   \n",
       "28                       [Nama–Damara, Haiǁom–ǂĀkhoe]   \n",
       "30                                               None   \n",
       "33                                               None   \n",
       "38                                               None   \n",
       "45                                               None   \n",
       "48  [Bohemian, Central Moravian, Eastern Moravian,...   \n",
       "49                           [Desert, Mountain, Pass]   \n",
       "\n",
       "                                             iso3code speakers  \\\n",
       "1                                                 xad     None   \n",
       "3                                                 pam     None   \n",
       "4                                                 rmy     None   \n",
       "6   nhe Huasteca NahuatlFor other varieties, see N...     None   \n",
       "8   hmn – inclusive code for the Hmong/Mong macrol...     None   \n",
       "15                                                paq     None   \n",
       "17                                                xrn     None   \n",
       "19  lav – inclusive codeIndividual codes:lvs – Sta...     None   \n",
       "21  ori – inclusive codeIndividual codes:ory – Odi...     None   \n",
       "22                                                cad     None   \n",
       "23                                                klf     None   \n",
       "24  Either:hnd – Southern Hindkohno – Northern Hindko     None   \n",
       "26                                                fon     None   \n",
       "28            Either:naq – Khoekhoe, Namahgm – Haiǁom     None   \n",
       "30  kau – inclusive codeIndividual codes:knc – Cen...     None   \n",
       "33                                                che     None   \n",
       "38                 Either:mls – Masalitmdg – Massalat     None   \n",
       "45                                                stq     None   \n",
       "48                                                ces     None   \n",
       "49                                                chl     None   \n",
       "\n",
       "                                              regions  \\\n",
       "1                                           Louisiana   \n",
       "3   Central Luzon (entirety of Pampanga, southern ...   \n",
       "4                                                None   \n",
       "6   Mexico: Puebla Veracruz Hidalgo Guerrero San L...   \n",
       "8                                                None   \n",
       "15                  Gissar Valley, Surkhandarya basin   \n",
       "17                                      Yenisei River   \n",
       "19                                             Baltic   \n",
       "21                                          Odisha[a]   \n",
       "22                   Caddo County in western Oklahoma   \n",
       "23                                            Ouaddaï   \n",
       "24         Hazara Division, Peshawar, Kohat, Pothohar   \n",
       "26                                               None   \n",
       "28           Orange River, Great Namaland, Damaraland   \n",
       "30                                          Lake Chad   \n",
       "33                  Chechnya, Ingushetia and Dagestan   \n",
       "38  West Darfur, South Darfur (Sudan), Ouaddaï, Si...   \n",
       "45                                          Saterland   \n",
       "48                                               None   \n",
       "49                                Southern California   \n",
       "\n",
       "                                             off_lang  \\\n",
       "1                                                None   \n",
       "3                               Angeles City[3][4][5]   \n",
       "4                                                None   \n",
       "6    Mexico (through the General Law of Linguistic...   \n",
       "8                                                None   \n",
       "15                                               None   \n",
       "17                                               None   \n",
       "19                              Latvia European Union   \n",
       "21   India\\nOdisha\\nJharkhand[3] (additional)\\nWes...   \n",
       "22                                               None   \n",
       "23                                               None   \n",
       "24                                               None   \n",
       "26                                              Benin   \n",
       "28                                               None   \n",
       "30                                               None   \n",
       "33                     Russia\\n Chechnya\\n Dagestan\\n   \n",
       "38                                               None   \n",
       "45                                               None   \n",
       "48                 \\nCzech Republic\\nEuropean Union\\n   \n",
       "49                                               None   \n",
       "\n",
       "                                         rec_min_lang  \n",
       "1                                                None  \n",
       "3                Regional language of the Philippines  \n",
       "4                Hungary, Romania, Poland, and Serbia  \n",
       "6                                                None  \n",
       "8          China  Laos   Myanmar   Vietnam   Thailand  \n",
       "15                                               None  \n",
       "17                                               None  \n",
       "19                                               None  \n",
       "21                                               None  \n",
       "22                                               None  \n",
       "23                                               None  \n",
       "24                                               None  \n",
       "26                                               None  \n",
       "28                         Namibia South Africa[a][2]  \n",
       "30                                               None  \n",
       "33                                               None  \n",
       "38                                               None  \n",
       "45                                            Germany  \n",
       "48  \\nAustria[2]\\nBosnia and Herzegovina[2]\\nCroat...  \n",
       "49                                               None  "
      ]
     },
     "execution_count": 98,
     "metadata": {},
     "output_type": "execute_result"
    }
   ],
   "source": [
    "languages[:20]"
   ]
  }
 ],
 "metadata": {
  "kernelspec": {
   "display_name": "Python 3",
   "language": "python",
   "name": "python3"
  },
  "language_info": {
   "codemirror_mode": {
    "name": "ipython",
    "version": 3
   },
   "file_extension": ".py",
   "mimetype": "text/x-python",
   "name": "python",
   "nbconvert_exporter": "python",
   "pygments_lexer": "ipython3",
   "version": "3.9.6"
  }
 },
 "nbformat": 4,
 "nbformat_minor": 2
}
