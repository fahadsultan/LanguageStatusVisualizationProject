{
 "cells": [
  {
   "cell_type": "markdown",
   "metadata": {},
   "source": [
    "# Scraper"
   ]
  },
  {
   "cell_type": "code",
   "execution_count": 55,
   "metadata": {},
   "outputs": [],
   "source": [
    "import pandas as pd \n",
    "import requests\n",
    "import unicodedata\n",
    "from tqdm import tqdm\n",
    "from bs4 import BeautifulSoup\n",
    "\n",
    "glottolog_info = pd.read_csv('../ipynb_files/glottolog_data.csv')\n",
    "\n",
    "# def get_links(): \n",
    "#     response = requests.get('https://en.wikipedia.org/wiki/List_of_language_names')\n",
    "#     soup = BeautifulSoup(response.content, 'html.parser')\n",
    "#     links = soup.find_all('a')\n",
    "#     # links = [link.get('href') for link in links if (link.get('title') is not None) and ('language' in link.get('title'))]\n",
    "#     links = [link.get('href') for link in links if (link.get('title') is not None)]\n",
    "#     # links = [link for link in links if link.endswith('_language')]\n",
    "#     links = [\"https://en.wikipedia.org\"+link for link in links]\n",
    "#     return links"
   ]
  },
  {
   "cell_type": "code",
   "execution_count": 56,
   "metadata": {},
   "outputs": [
    {
     "data": {
      "text/plain": [
       "Wikipedia_Url\n",
       "nan                                                        1318\n",
       "https://en.wikipedia.org/wiki/Yuki_language                   4\n",
       "https://en.wikipedia.org/wiki/Sillok_language                 4\n",
       "https://en.wikipedia.org/wiki/Teribe_language                 2\n",
       "https://en.wikipedia.org/wiki/Zoogocho_Zapotec                2\n",
       "                                                           ... \n",
       "https://en.wikipedia.org/wiki/Igwe_language                   1\n",
       "https://en.wikipedia.org/wiki/Isebe_language                  1\n",
       "https://en.wikipedia.org/wiki/Kanggape_language               1\n",
       "https://en.wikipedia.org/wiki/Igala_language                  1\n",
       "https://en.wikipedia.org/wiki/Zuojiang_Zhuang_languages       1\n",
       "Name: count, Length: 6265, dtype: int64"
      ]
     },
     "execution_count": 56,
     "metadata": {},
     "output_type": "execute_result"
    }
   ],
   "source": [
    "links = glottolog_info['Wikipedia_Url'] #.tolist()\n",
    "links = links.astype(str)\n",
    "links.value_counts()"
   ]
  },
  {
   "cell_type": "code",
   "execution_count": 57,
   "metadata": {},
   "outputs": [
    {
     "name": "stdout",
     "output_type": "stream",
     "text": [
      "16\n"
     ]
    }
   ],
   "source": [
    "countries_and_territories = requests.get('https://en.wikipedia.org/wiki/List_of_countries_and_dependencies_and_their_capitals_in_native_languages')\n",
    "soup = BeautifulSoup(countries_and_territories.content, 'html.parser')\n",
    "\n",
    "table = soup.find('table', {'class': ['wikitable', 'sortable', 'jquery-tablesorter']})\n",
    "regions = []\n",
    "languages = []\n",
    "\n",
    "table_rows = table.find_all('tr')\n",
    "print(len(table_rows))"
   ]
  },
  {
   "cell_type": "code",
   "execution_count": 3,
   "metadata": {},
   "outputs": [
    {
     "data": {
      "text/html": [
       "<div>\n",
       "<style scoped>\n",
       "    .dataframe tbody tr th:only-of-type {\n",
       "        vertical-align: middle;\n",
       "    }\n",
       "\n",
       "    .dataframe tbody tr th {\n",
       "        vertical-align: top;\n",
       "    }\n",
       "\n",
       "    .dataframe thead th {\n",
       "        text-align: right;\n",
       "    }\n",
       "</style>\n",
       "<table border=\"1\" class=\"dataframe\">\n",
       "  <thead>\n",
       "    <tr style=\"text-align: right;\">\n",
       "      <th></th>\n",
       "      <th>Name in English</th>\n",
       "      <th>Number of speakers</th>\n",
       "      <th>Degree of endangerment</th>\n",
       "    </tr>\n",
       "  </thead>\n",
       "  <tbody>\n",
       "    <tr>\n",
       "      <th>0</th>\n",
       "      <td>South Italian</td>\n",
       "      <td>7500000</td>\n",
       "      <td>Vulnerable</td>\n",
       "    </tr>\n",
       "    <tr>\n",
       "      <th>1</th>\n",
       "      <td>Sicilian</td>\n",
       "      <td>5000000</td>\n",
       "      <td>Vulnerable</td>\n",
       "    </tr>\n",
       "    <tr>\n",
       "      <th>2</th>\n",
       "      <td>Low Saxon</td>\n",
       "      <td>4800000</td>\n",
       "      <td>Vulnerable</td>\n",
       "    </tr>\n",
       "    <tr>\n",
       "      <th>3</th>\n",
       "      <td>Belarusian</td>\n",
       "      <td>4000000</td>\n",
       "      <td>Vulnerable</td>\n",
       "    </tr>\n",
       "    <tr>\n",
       "      <th>4</th>\n",
       "      <td>Lombard</td>\n",
       "      <td>3500000</td>\n",
       "      <td>Definitely endangered</td>\n",
       "    </tr>\n",
       "    <tr>\n",
       "      <th>...</th>\n",
       "      <td>...</td>\n",
       "      <td>...</td>\n",
       "      <td>...</td>\n",
       "    </tr>\n",
       "    <tr>\n",
       "      <th>2534</th>\n",
       "      <td>|'Auni</td>\n",
       "      <td>0</td>\n",
       "      <td>Extinct</td>\n",
       "    </tr>\n",
       "    <tr>\n",
       "      <th>2535</th>\n",
       "      <td>|Xam</td>\n",
       "      <td>0</td>\n",
       "      <td>Extinct</td>\n",
       "    </tr>\n",
       "    <tr>\n",
       "      <th>2536</th>\n",
       "      <td>ǁKu ǁ'e</td>\n",
       "      <td>0</td>\n",
       "      <td>Extinct</td>\n",
       "    </tr>\n",
       "    <tr>\n",
       "      <th>2537</th>\n",
       "      <td>ǁKx'au</td>\n",
       "      <td>0</td>\n",
       "      <td>Extinct</td>\n",
       "    </tr>\n",
       "    <tr>\n",
       "      <th>2538</th>\n",
       "      <td>ǁXegwi</td>\n",
       "      <td>0</td>\n",
       "      <td>Extinct</td>\n",
       "    </tr>\n",
       "  </tbody>\n",
       "</table>\n",
       "<p>2539 rows × 3 columns</p>\n",
       "</div>"
      ],
      "text/plain": [
       "     Name in English  Number of speakers Degree of endangerment\n",
       "0      South Italian             7500000             Vulnerable\n",
       "1           Sicilian             5000000             Vulnerable\n",
       "2          Low Saxon             4800000             Vulnerable\n",
       "3         Belarusian             4000000             Vulnerable\n",
       "4            Lombard             3500000  Definitely endangered\n",
       "...              ...                 ...                    ...\n",
       "2534          |'Auni                   0                Extinct\n",
       "2535            |Xam                   0                Extinct\n",
       "2536         ǁKu ǁ'e                   0                Extinct\n",
       "2537          ǁKx'au                   0                Extinct\n",
       "2538          ǁXegwi                   0                Extinct\n",
       "\n",
       "[2539 rows x 3 columns]"
      ]
     },
     "execution_count": 3,
     "metadata": {},
     "output_type": "execute_result"
    }
   ],
   "source": [
    "# unesco_languages = pd.read_csv('../Extinct languages - DATA SUMMARY.csv')\n",
    "# unesco_languages"
   ]
  },
  {
   "cell_type": "code",
   "execution_count": 58,
   "metadata": {},
   "outputs": [],
   "source": [
    "def find_index_of_headers(url):\n",
    "    response        = requests.get(url)\n",
    "    content         = response.content\n",
    "    parser          = BeautifulSoup(content, 'html.parser')\n",
    "    table           = parser.find('table', {'class': 'infobox'})\n",
    "    included_headers = {}\n",
    "    \n",
    "    for i in range(0, len(table.find_all('th', {'class': 'infobox-label'}))):\n",
    "        included_headers[unicodedata.normalize('NFKD', table.find_all('th', {'class': 'infobox-label'}).__getitem__(i).getText())] = i\n",
    "    return included_headers\n",
    "\n",
    "\n",
    "urls = links\n",
    "# print(len(urls))\n",
    "# print(urls[:10])\n",
    "\n",
    "# urls = list(set(urls))\n",
    "\n",
    "# urls = [url for url in urls if url not in ['Official_language', 'Minority_language']]\n",
    "# urls = [url for url in urls if url.startswith('List_of_countries') == False]\n",
    "# urls = [url for url in urls if url.count(':') == 1]\n",
    "# urls = [url for url in urls if '?' not in url]"
   ]
  },
  {
   "cell_type": "code",
   "execution_count": null,
   "metadata": {},
   "outputs": [],
   "source": []
  },
  {
   "cell_type": "code",
   "execution_count": 59,
   "metadata": {},
   "outputs": [
    {
     "name": "stderr",
     "output_type": "stream",
     "text": [
      "  0%|          | 0/7590 [00:00<?, ?it/s]"
     ]
    },
    {
     "name": "stderr",
     "output_type": "stream",
     "text": [
      "  2%|▏         | 187/7590 [03:26<1:17:03,  1.60it/s]"
     ]
    },
    {
     "name": "stdout",
     "output_type": "stream",
     "text": [
      "No table found  https://en.wikipedia.org/wiki/South_Levantine_Arabic\n"
     ]
    },
    {
     "name": "stderr",
     "output_type": "stream",
     "text": [
      "  4%|▍         | 311/7590 [05:31<1:43:59,  1.17it/s]"
     ]
    },
    {
     "name": "stdout",
     "output_type": "stream",
     "text": [
      "No table found  https://en.wikipedia.org/wiki/North_Levantine_Arabic\n"
     ]
    },
    {
     "name": "stderr",
     "output_type": "stream",
     "text": [
      "  6%|▋         | 490/7590 [08:35<1:22:07,  1.44it/s]"
     ]
    },
    {
     "name": "stdout",
     "output_type": "stream",
     "text": [
      "No table found  https://en.wikipedia.org/wiki/Sorsogon_Ayta_language\n"
     ]
    },
    {
     "name": "stderr",
     "output_type": "stream",
     "text": [
      "  9%|▉         | 677/7590 [11:20<1:13:49,  1.56it/s]"
     ]
    },
    {
     "name": "stdout",
     "output_type": "stream",
     "text": [
      "No table found  https://en.wikipedia.org/wiki/Bhadarwahi\n"
     ]
    },
    {
     "name": "stderr",
     "output_type": "stream",
     "text": [
      " 24%|██▍       | 1852/7590 [30:15<1:22:09,  1.16it/s]"
     ]
    },
    {
     "name": "stdout",
     "output_type": "stream",
     "text": [
      "No table found  https://en.wikipedia.org/wiki/Northwestern_Fars_language\n"
     ]
    },
    {
     "name": "stderr",
     "output_type": "stream",
     "text": [
      " 28%|██▊       | 2128/7590 [35:16<1:30:32,  1.01it/s]"
     ]
    },
    {
     "name": "stdout",
     "output_type": "stream",
     "text": [
      "No table found  https://en.wikipedia.org/wiki/Gowlan_language\n"
     ]
    },
    {
     "name": "stderr",
     "output_type": "stream",
     "text": [
      " 31%|███       | 2324/7590 [38:33<1:43:16,  1.18s/it]"
     ]
    },
    {
     "name": "stdout",
     "output_type": "stream",
     "text": [
      "No table found  https://en.wikipedia.org/wiki/Duan_language\n"
     ]
    },
    {
     "name": "stderr",
     "output_type": "stream",
     "text": [
      " 42%|████▏     | 3156/7590 [55:28<1:31:51,  1.24s/it]"
     ]
    },
    {
     "name": "stdout",
     "output_type": "stream",
     "text": [
      "No table found  https://en.wikipedia.org/wiki/Koro%E2%80%93Olrat_language\n"
     ]
    },
    {
     "name": "stderr",
     "output_type": "stream",
     "text": [
      " 43%|████▎     | 3240/7590 [56:57<1:11:50,  1.01it/s]"
     ]
    },
    {
     "name": "stdout",
     "output_type": "stream",
     "text": [
      "No table found  https://en.wikipedia.org/wiki/Karipuna_language_(Rond%C3%B4nia)\n"
     ]
    },
    {
     "name": "stderr",
     "output_type": "stream",
     "text": [
      " 44%|████▍     | 3333/7590 [58:59<1:36:42,  1.36s/it]"
     ]
    },
    {
     "name": "stdout",
     "output_type": "stream",
     "text": [
      "No table found  https://en.wikipedia.org/wiki/Kpatili_language\n"
     ]
    },
    {
     "name": "stderr",
     "output_type": "stream",
     "text": [
      " 75%|███████▌  | 5722/7590 [1:47:42<33:02,  1.06s/it]  "
     ]
    },
    {
     "name": "stdout",
     "output_type": "stream",
     "text": [
      "No table found  https://en.wikipedia.org/wiki/Salchuq_language\n"
     ]
    },
    {
     "name": "stderr",
     "output_type": "stream",
     "text": [
      " 76%|███████▌  | 5744/7590 [1:48:08<25:56,  1.19it/s]"
     ]
    },
    {
     "name": "stdout",
     "output_type": "stream",
     "text": [
      "No table found  https://en.wikipedia.org/wiki/Inari_Sami\n"
     ]
    },
    {
     "name": "stderr",
     "output_type": "stream",
     "text": [
      " 90%|█████████ | 6835/7590 [2:06:56<12:16,  1.02it/s]  "
     ]
    },
    {
     "name": "stdout",
     "output_type": "stream",
     "text": [
      "No table found  https://en.wikipedia.org/wiki/Mawa_language_(Nigeria)\n"
     ]
    },
    {
     "name": "stderr",
     "output_type": "stream",
     "text": [
      " 96%|█████████▌| 7277/7590 [2:13:19<03:34,  1.46it/s]"
     ]
    },
    {
     "name": "stdout",
     "output_type": "stream",
     "text": [
      "No table found  https://en.wikipedia.org/wiki/Yindjilandji\n"
     ]
    },
    {
     "name": "stderr",
     "output_type": "stream",
     "text": [
      " 99%|█████████▉| 7501/7590 [2:16:16<00:50,  1.76it/s]"
     ]
    },
    {
     "name": "stdout",
     "output_type": "stream",
     "text": [
      "No table found  https://en.wikipedia.org/wiki/Marri_Tjevin\n"
     ]
    },
    {
     "name": "stderr",
     "output_type": "stream",
     "text": [
      "100%|██████████| 7590/7590 [2:17:31<00:00,  1.09s/it]\n"
     ]
    },
    {
     "ename": "AttributeError",
     "evalue": "'list' object has no attribute 'to_csv'",
     "output_type": "error",
     "traceback": [
      "\u001b[0;31m---------------------------------------------------------------------------\u001b[0m",
      "\u001b[0;31mAttributeError\u001b[0m                            Traceback (most recent call last)",
      "Cell \u001b[0;32mIn[59], line 80\u001b[0m\n\u001b[1;32m     75\u001b[0m     \u001b[38;5;66;03m# except Exception as e: \u001b[39;00m\n\u001b[1;32m     76\u001b[0m     \u001b[38;5;66;03m#     errors.append((e, url))\u001b[39;00m\n\u001b[1;32m     77\u001b[0m     \u001b[38;5;66;03m#     continue\u001b[39;00m\n\u001b[1;32m     79\u001b[0m df \u001b[38;5;241m=\u001b[39m pd\u001b[38;5;241m.\u001b[39mDataFrame(data, columns\u001b[38;5;241m=\u001b[39m[\u001b[38;5;124m'\u001b[39m\u001b[38;5;124mlang\u001b[39m\u001b[38;5;124m'\u001b[39m, \u001b[38;5;124m'\u001b[39m\u001b[38;5;124mfamily\u001b[39m\u001b[38;5;124m'\u001b[39m, \u001b[38;5;124m'\u001b[39m\u001b[38;5;124mdialects\u001b[39m\u001b[38;5;124m'\u001b[39m, \u001b[38;5;124m'\u001b[39m\u001b[38;5;124miso3code\u001b[39m\u001b[38;5;124m'\u001b[39m, \u001b[38;5;124m'\u001b[39m\u001b[38;5;124mgoglottocodettolog\u001b[39m\u001b[38;5;124m'\u001b[39m, \u001b[38;5;124m'\u001b[39m\u001b[38;5;124mspeakers\u001b[39m\u001b[38;5;124m'\u001b[39m, \u001b[38;5;124m'\u001b[39m\u001b[38;5;124mregions\u001b[39m\u001b[38;5;124m'\u001b[39m, \u001b[38;5;124m'\u001b[39m\u001b[38;5;124moff_lang\u001b[39m\u001b[38;5;124m'\u001b[39m, \u001b[38;5;124m'\u001b[39m\u001b[38;5;124mrec_min_lang\u001b[39m\u001b[38;5;124m'\u001b[39m, \u001b[38;5;124m'\u001b[39m\u001b[38;5;124murl\u001b[39m\u001b[38;5;124m'\u001b[39m])\n\u001b[0;32m---> 80\u001b[0m \u001b[43mdata\u001b[49m\u001b[38;5;241;43m.\u001b[39;49m\u001b[43mto_csv\u001b[49m(\u001b[38;5;124m'\u001b[39m\u001b[38;5;124mwiki_data.csv\u001b[39m\u001b[38;5;124m'\u001b[39m, index\u001b[38;5;241m=\u001b[39m\u001b[38;5;28;01mFalse\u001b[39;00m)\n",
      "\u001b[0;31mAttributeError\u001b[0m: 'list' object has no attribute 'to_csv'"
     ]
    }
   ],
   "source": [
    "import requests\n",
    "from requests.adapters import HTTPAdapter\n",
    "from urllib3.util.retry import Retry\n",
    "\n",
    "data = []\n",
    "errors = []\n",
    "\n",
    "for url in tqdm(urls): \n",
    "    # try: \n",
    "        # lang = url.split('/')[-1]\n",
    "\n",
    "        # print(requests.get(url).status_code)\n",
    "        # print(url)\n",
    "\n",
    "        session = requests.Session()\n",
    "        retry = Retry(connect=3, backoff_factor=0.5)\n",
    "        adapter = HTTPAdapter(max_retries=retry)\n",
    "        session.mount('http://', adapter)\n",
    "        session.mount('https://', adapter)\n",
    "\n",
    "        if url == 'nan':\n",
    "             continue\n",
    "        if str(url).startswith('/wiki/'):\n",
    "             url = 'https://en.wikipedia.org' + str(url)\n",
    "        if requests.get(str(url)).status_code != 200:\n",
    "             continue\n",
    "        response = session.get(str(url))\n",
    "\n",
    "        content         = response.content\n",
    "        parser          = BeautifulSoup(content, 'html.parser')\n",
    "        table           = parser.find('table', {'class': 'infobox'})\n",
    "\n",
    "        if table == None:\n",
    "             print(\"No table found \", url)\n",
    "             continue\n",
    "\n",
    "        header_indices  = find_index_of_headers(url)\n",
    "\n",
    "        # print(header_indices)\n",
    "\n",
    "        infobox_data = table.find_all('td', {'class': 'infobox-data'})\n",
    "\n",
    "        # lang            = table.find('th', {'class': 'infobox-above above'}).get_text('title') if table.find('th', {'class': 'infobox-above above'}) else lang\n",
    "\n",
    "        off_lang        = infobox_data[header_indices['Official language in']].text if 'Official language in' in header_indices else None\n",
    "        rec_min_lang    = infobox_data[header_indices['Recognised minoritylanguage in']].text if 'Recognised minoritylanguage in' in header_indices else None\n",
    "        # speakers        = infobox_data[header_indices['Speakers']].text             if 'Speakers' in header_indices else None\n",
    "        iso3code        = infobox_data[header_indices['ISO 639-3']].get_text('title')            if 'ISO 639-3' in header_indices else None\n",
    "        glottocode      = infobox_data[header_indices['Glottolog']].get_text('title')            if 'Glottolog' in header_indices else None\n",
    "\n",
    "        if 'Speakers' in header_indices.keys():\n",
    "            speakers = infobox_data[header_indices['Speakers']].text\n",
    "        elif 'Native speakers' in header_indices.keys():\n",
    "            speakers = infobox_data[header_indices['Native speakers']].text\n",
    "        else:\n",
    "            speakers = None\n",
    "\n",
    "        if 'Region' in header_indices.keys():\n",
    "            regions = infobox_data[header_indices['Region']].text\n",
    "        elif 'Native Region' in header_indices.keys():\n",
    "            regions = infobox_data[header_indices['Native Region']].text\n",
    "        else:\n",
    "            regions = None\n",
    "\n",
    "        family          = [x for x in infobox_data[header_indices['Language family']].get_text('title').split('title') if x != \"\\n\"]\\\n",
    "                            if 'Language family' in header_indices else None\n",
    "        \n",
    "        dialects        = [x for x in infobox_data[header_indices['Dialects']].get_text('title').split('title') if x != \"\\n\"] \\\n",
    "                            if 'Dialects' in header_indices else None\n",
    "\n",
    "        url             = str(url)\n",
    "        \n",
    "        # print('Regions: ', regions)\n",
    "        data.append((lang, family, dialects, iso3code, glottocode, speakers, regions, off_lang, rec_min_lang, url))\n",
    "    # except Exception as e: \n",
    "    #     errors.append((e, url))\n",
    "    #     continue\n",
    "\n",
    "df = pd.DataFrame(data, columns=['lang', 'family', 'dialects', 'iso3code', 'goglottocodettolog', 'speakers', 'regions', 'off_lang', 'rec_min_lang', 'url'])\n",
    "data.to_csv('wiki_data.csv', index=False)\n"
   ]
  },
  {
   "cell_type": "code",
   "execution_count": 60,
   "metadata": {},
   "outputs": [],
   "source": [
    "df.to_csv('wiki_languages_most_recent.csv')"
   ]
  },
  {
   "cell_type": "markdown",
   "metadata": {},
   "source": [
    "## CSV Generated, Edge Cases Observed: "
   ]
  },
  {
   "cell_type": "code",
   "execution_count": null,
   "metadata": {},
   "outputs": [],
   "source": [
    "# edge case observed in punjabi_language page: \n",
    "    # https://en.wikipedia.org/wiki/Punjabi_language\n",
    "    # for the family column:\n",
    "        # 'Indo-European, Indo-Iranian, Indo-Aryan, Northwestern zone, Punjabi'\n",
    "        # these values are originally in a list. after running the following code:  \n",
    "            cols = languages[languages['lang'].apply(lambda x: 'punjabi' in x.lower())].columns[1:]\n",
    "            for col in cols: \n",
    "                languages[col] = languages[col].apply(lambda x: [] if pd.isnull(x) else [x])\n",
    "            languages[languages['lang'].apply(lambda x: 'punjabi' in x.lower())]\n",
    "        # they are turned into an object, but appear as a nested list:\n",
    "            # [['Indo-European', 'Indo-Iranian', 'Indo-Aryan...\n",
    "        # when adding a line to the code: \n",
    "            cols = languages.columns[1:]\n",
    "            for col in cols: \n",
    "                languages[col] = languages[col].apply(lambda x: [] if pd.isnull(x) else [x])\n",
    "                languages[col] = languages[col].apply(lambda values: [x[:x.find('[')] if '[' in x else x for x in values])\n",
    "            languages[languages['lang'].apply(lambda x: 'punjabi' in x.lower())]\n",
    "        # they are still turned into an object, but appear as an empty list:\n",
    "            # []\n",
    "    # for the dialects column:\n",
    "        # Object: [['See', ' ', 'Punjabi dialects']]\n",
    "        # The above output does not change after running the first code block: \n",
    "            cols = languages[languages['lang'].apply(lambda x: 'punjabi' in x.lower())].columns[1:]\n",
    "            for col in cols: \n",
    "                languages[col] = languages[col].apply(lambda x: [] if pd.isnull(x) else [x])\n",
    "            languages[languages['lang'].apply(lambda x: 'punjabi' in x.lower())]\n",
    "        # After runningt the second code block, the output changes to:\n",
    "            # Object: []"
   ]
  },
  {
   "cell_type": "markdown",
   "metadata": {},
   "source": [
    "## Modifications to Previously Generated CSV for Data Cleaning:"
   ]
  },
  {
   "cell_type": "code",
   "execution_count": 61,
   "metadata": {},
   "outputs": [],
   "source": [
    "df = pd.read_csv('wiki_languages.csv')\n",
    "languages = df"
   ]
  },
  {
   "cell_type": "code",
   "execution_count": 58,
   "metadata": {},
   "outputs": [
    {
     "data": {
      "text/plain": [
       "array([False, False, False, False, False, False, False, False])"
      ]
     },
     "execution_count": 58,
     "metadata": {},
     "output_type": "execute_result"
    }
   ],
   "source": [
    "pd.isnull(languages[languages['lang'].apply(lambda x: 'punjabi' in x.lower())].columns)"
   ]
  },
  {
   "cell_type": "code",
   "execution_count": 63,
   "metadata": {},
   "outputs": [
    {
     "data": {
      "text/html": [
       "<div>\n",
       "<style scoped>\n",
       "    .dataframe tbody tr th:only-of-type {\n",
       "        vertical-align: middle;\n",
       "    }\n",
       "\n",
       "    .dataframe tbody tr th {\n",
       "        vertical-align: top;\n",
       "    }\n",
       "\n",
       "    .dataframe thead th {\n",
       "        text-align: right;\n",
       "    }\n",
       "</style>\n",
       "<table border=\"1\" class=\"dataframe\">\n",
       "  <thead>\n",
       "    <tr style=\"text-align: right;\">\n",
       "      <th></th>\n",
       "      <th>lang</th>\n",
       "      <th>family</th>\n",
       "      <th>dialects</th>\n",
       "      <th>iso3code</th>\n",
       "      <th>speakers</th>\n",
       "      <th>regions</th>\n",
       "      <th>off_lang</th>\n",
       "      <th>rec_min_lang</th>\n",
       "    </tr>\n",
       "  </thead>\n",
       "  <tbody>\n",
       "    <tr>\n",
       "      <th>196</th>\n",
       "      <td>Punjabi_language</td>\n",
       "      <td>['Indo-European', 'Indo-Iranian', 'Indo-Aryan'...</td>\n",
       "      <td>['See', ' ', 'Punjabi dialects']</td>\n",
       "      <td>Either:pan – Panjabipnb – Western Panjabi</td>\n",
       "      <td>NaN</td>\n",
       "      <td>Punjab</td>\n",
       "      <td>Pakistan\\n Punjab (provincial)[c][11]\\n India...</td>\n",
       "      <td>NaN</td>\n",
       "    </tr>\n",
       "  </tbody>\n",
       "</table>\n",
       "</div>"
      ],
      "text/plain": [
       "                 lang                                             family  \\\n",
       "196  Punjabi_language  ['Indo-European', 'Indo-Iranian', 'Indo-Aryan'...   \n",
       "\n",
       "                             dialects  \\\n",
       "196  ['See', ' ', 'Punjabi dialects']   \n",
       "\n",
       "                                      iso3code speakers regions  \\\n",
       "196  Either:pan – Panjabipnb – Western Panjabi      NaN  Punjab   \n",
       "\n",
       "                                              off_lang rec_min_lang  \n",
       "196   Pakistan\\n Punjab (provincial)[c][11]\\n India...          NaN  "
      ]
     },
     "execution_count": 63,
     "metadata": {},
     "output_type": "execute_result"
    }
   ],
   "source": [
    "languages[languages['lang'].apply(lambda x: 'punjabi' in x.lower())]"
   ]
  },
  {
   "cell_type": "code",
   "execution_count": 60,
   "metadata": {},
   "outputs": [
    {
     "data": {
      "text/html": [
       "<div>\n",
       "<style scoped>\n",
       "    .dataframe tbody tr th:only-of-type {\n",
       "        vertical-align: middle;\n",
       "    }\n",
       "\n",
       "    .dataframe tbody tr th {\n",
       "        vertical-align: top;\n",
       "    }\n",
       "\n",
       "    .dataframe thead th {\n",
       "        text-align: right;\n",
       "    }\n",
       "</style>\n",
       "<table border=\"1\" class=\"dataframe\">\n",
       "  <thead>\n",
       "    <tr style=\"text-align: right;\">\n",
       "      <th></th>\n",
       "      <th>lang</th>\n",
       "      <th>family</th>\n",
       "      <th>dialects</th>\n",
       "      <th>iso3code</th>\n",
       "      <th>speakers</th>\n",
       "      <th>regions</th>\n",
       "      <th>off_lang</th>\n",
       "      <th>rec_min_lang</th>\n",
       "    </tr>\n",
       "  </thead>\n",
       "  <tbody>\n",
       "    <tr>\n",
       "      <th>196</th>\n",
       "      <td>Punjabi_language</td>\n",
       "      <td>[['Indo-European', 'Indo-Iranian', 'Indo-Aryan...</td>\n",
       "      <td>[['See', ' ', 'Punjabi dialects']]</td>\n",
       "      <td>[Either:pan – Panjabipnb – Western Panjabi]</td>\n",
       "      <td>[]</td>\n",
       "      <td>[Punjab]</td>\n",
       "      <td>[ Pakistan\\n Punjab (provincial)[c][11]\\n Indi...</td>\n",
       "      <td>[]</td>\n",
       "    </tr>\n",
       "  </tbody>\n",
       "</table>\n",
       "</div>"
      ],
      "text/plain": [
       "                 lang                                             family  \\\n",
       "196  Punjabi_language  [['Indo-European', 'Indo-Iranian', 'Indo-Aryan...   \n",
       "\n",
       "                               dialects  \\\n",
       "196  [['See', ' ', 'Punjabi dialects']]   \n",
       "\n",
       "                                        iso3code speakers   regions  \\\n",
       "196  [Either:pan – Panjabipnb – Western Panjabi]       []  [Punjab]   \n",
       "\n",
       "                                              off_lang rec_min_lang  \n",
       "196  [ Pakistan\\n Punjab (provincial)[c][11]\\n Indi...           []  "
      ]
     },
     "execution_count": 60,
     "metadata": {},
     "output_type": "execute_result"
    }
   ],
   "source": [
    "cols = languages[languages['lang'].apply(lambda x: 'punjabi' in x.lower())].columns[1:]\n",
    "for col in cols: \n",
    "    languages[col] = languages[col].apply(lambda x: [] if pd.isnull(x) else [x])\n",
    "languages[languages['lang'].apply(lambda x: 'punjabi' in x.lower())]"
   ]
  },
  {
   "cell_type": "code",
   "execution_count": 67,
   "metadata": {},
   "outputs": [
    {
     "data": {
      "text/html": [
       "<div>\n",
       "<style scoped>\n",
       "    .dataframe tbody tr th:only-of-type {\n",
       "        vertical-align: middle;\n",
       "    }\n",
       "\n",
       "    .dataframe tbody tr th {\n",
       "        vertical-align: top;\n",
       "    }\n",
       "\n",
       "    .dataframe thead th {\n",
       "        text-align: right;\n",
       "    }\n",
       "</style>\n",
       "<table border=\"1\" class=\"dataframe\">\n",
       "  <thead>\n",
       "    <tr style=\"text-align: right;\">\n",
       "      <th></th>\n",
       "      <th>lang</th>\n",
       "      <th>family</th>\n",
       "      <th>dialects</th>\n",
       "      <th>iso3code</th>\n",
       "      <th>speakers</th>\n",
       "      <th>regions</th>\n",
       "      <th>off_lang</th>\n",
       "      <th>rec_min_lang</th>\n",
       "    </tr>\n",
       "  </thead>\n",
       "  <tbody>\n",
       "    <tr>\n",
       "      <th>6</th>\n",
       "      <td>Nahuatl_language</td>\n",
       "      <td>['Uto-Aztecan', 'Southern Uto-Aztecan', 'Nahua...</td>\n",
       "      <td>['Western Peripheral Nahuatl', 'Eastern Periph...</td>\n",
       "      <td>nhe Huasteca NahuatlFor other varieties, see N...</td>\n",
       "      <td>NaN</td>\n",
       "      <td>Mexico: Puebla Veracruz Hidalgo Guerrero San L...</td>\n",
       "      <td>Mexico (through the General Law of Linguistic...</td>\n",
       "      <td>NaN</td>\n",
       "    </tr>\n",
       "    <tr>\n",
       "      <th>21</th>\n",
       "      <td>Odia_language</td>\n",
       "      <td>['Indo-European', 'Indo-Iranian', 'Indo-Aryan'...</td>\n",
       "      <td>['Northern', ', Central, ', 'Southern', ', ', ...</td>\n",
       "      <td>ori – inclusive codeIndividual codes:ory – Odi...</td>\n",
       "      <td>NaN</td>\n",
       "      <td>Odisha[a]</td>\n",
       "      <td>India\\nOdisha\\nJharkhand[3] (additional)\\nWes...</td>\n",
       "      <td>NaN</td>\n",
       "    </tr>\n",
       "    <tr>\n",
       "      <th>23</th>\n",
       "      <td>Kendeje_language</td>\n",
       "      <td>['Nilo-Saharan', '?\\n', 'Maban', 'Kenjeje']</td>\n",
       "      <td>['Yaali', 'Faranga']</td>\n",
       "      <td>klf</td>\n",
       "      <td>NaN</td>\n",
       "      <td>Ouaddaï</td>\n",
       "      <td>NaN</td>\n",
       "      <td>NaN</td>\n",
       "    </tr>\n",
       "    <tr>\n",
       "      <th>24</th>\n",
       "      <td>Hindko</td>\n",
       "      <td>['Indo-European', 'Indo-Iranian', 'Indo-Aryan'...</td>\n",
       "      <td>['Peshawari', 'Kohati', 'Awankari', ', ', 'Ghe...</td>\n",
       "      <td>Either:hnd – Southern Hindkohno – Northern Hindko</td>\n",
       "      <td>NaN</td>\n",
       "      <td>Hazara Division, Peshawar, Kohat, Pothohar</td>\n",
       "      <td>NaN</td>\n",
       "      <td>NaN</td>\n",
       "    </tr>\n",
       "    <tr>\n",
       "      <th>26</th>\n",
       "      <td>Fon_language</td>\n",
       "      <td>['Niger–Congo', '?\\n', 'Atlantic–Congo', 'Volt...</td>\n",
       "      <td>['Agbome', 'Arohun', 'Gbekon', 'Kpase']</td>\n",
       "      <td>fon</td>\n",
       "      <td>NaN</td>\n",
       "      <td>NaN</td>\n",
       "      <td>Benin</td>\n",
       "      <td>NaN</td>\n",
       "    </tr>\n",
       "    <tr>\n",
       "      <th>...</th>\n",
       "      <td>...</td>\n",
       "      <td>...</td>\n",
       "      <td>...</td>\n",
       "      <td>...</td>\n",
       "      <td>...</td>\n",
       "      <td>...</td>\n",
       "      <td>...</td>\n",
       "      <td>...</td>\n",
       "    </tr>\n",
       "    <tr>\n",
       "      <th>1297</th>\n",
       "      <td>Coptic_language</td>\n",
       "      <td>['Afro-Asiatic', 'Egyptian', 'Coptic']</td>\n",
       "      <td>['Bohairic', 'Sahidic', 'Akhmimic', 'Lycopolit...</td>\n",
       "      <td>cop</td>\n",
       "      <td>NaN</td>\n",
       "      <td>NaN</td>\n",
       "      <td>NaN</td>\n",
       "      <td>NaN</td>\n",
       "    </tr>\n",
       "    <tr>\n",
       "      <th>1303</th>\n",
       "      <td>Sundanese_language</td>\n",
       "      <td>['Austronesian', 'Malayo-Polynesian', 'dispute...</td>\n",
       "      <td>['Baduy', ' (considered a separate language)',...</td>\n",
       "      <td>Variously:sun – Sundanesebac – Baduy Sundanese...</td>\n",
       "      <td>NaN</td>\n",
       "      <td>West Java, Banten, Jakarta, small parts of wes...</td>\n",
       "      <td>NaN</td>\n",
       "      <td>NaN</td>\n",
       "    </tr>\n",
       "    <tr>\n",
       "      <th>1307</th>\n",
       "      <td>Chhattisgarhi</td>\n",
       "      <td>['Indo-European', 'Indo-Iranian', 'Indo-Aryan'...</td>\n",
       "      <td>['Surgujia']</td>\n",
       "      <td>Either:hne – Chhattisgarhisgj – Surgujia</td>\n",
       "      <td>NaN</td>\n",
       "      <td>Chhattisgarh and a minority of speakers in Odi...</td>\n",
       "      <td>India\\nChhattisgarh (additional)[2]\\n</td>\n",
       "      <td>NaN</td>\n",
       "    </tr>\n",
       "    <tr>\n",
       "      <th>1310</th>\n",
       "      <td>Herero_language</td>\n",
       "      <td>['Niger–Congo', '?\\n', 'Atlantic–Congo', 'Volt...</td>\n",
       "      <td>['Himba', 'Kuvale', 'Zemba', ' (Thimba, ', 'Ot...</td>\n",
       "      <td>her  Herero</td>\n",
       "      <td>NaN</td>\n",
       "      <td>Kunene, Omaheke Region and Otjozondjupa Region...</td>\n",
       "      <td>NaN</td>\n",
       "      <td>NaN</td>\n",
       "    </tr>\n",
       "    <tr>\n",
       "      <th>1327</th>\n",
       "      <td>Yapese_language</td>\n",
       "      <td>['Austronesian', 'Malayo-Polynesian', 'Oceanic...</td>\n",
       "      <td>['Nguluwan']</td>\n",
       "      <td>yap</td>\n",
       "      <td>NaN</td>\n",
       "      <td>Island of Yap</td>\n",
       "      <td>NaN</td>\n",
       "      <td>NaN</td>\n",
       "    </tr>\n",
       "  </tbody>\n",
       "</table>\n",
       "<p>213 rows × 8 columns</p>\n",
       "</div>"
      ],
      "text/plain": [
       "                    lang                                             family  \\\n",
       "6       Nahuatl_language  ['Uto-Aztecan', 'Southern Uto-Aztecan', 'Nahua...   \n",
       "21         Odia_language  ['Indo-European', 'Indo-Iranian', 'Indo-Aryan'...   \n",
       "23      Kendeje_language        ['Nilo-Saharan', '?\\n', 'Maban', 'Kenjeje']   \n",
       "24                Hindko  ['Indo-European', 'Indo-Iranian', 'Indo-Aryan'...   \n",
       "26          Fon_language  ['Niger–Congo', '?\\n', 'Atlantic–Congo', 'Volt...   \n",
       "...                  ...                                                ...   \n",
       "1297     Coptic_language             ['Afro-Asiatic', 'Egyptian', 'Coptic']   \n",
       "1303  Sundanese_language  ['Austronesian', 'Malayo-Polynesian', 'dispute...   \n",
       "1307       Chhattisgarhi  ['Indo-European', 'Indo-Iranian', 'Indo-Aryan'...   \n",
       "1310     Herero_language  ['Niger–Congo', '?\\n', 'Atlantic–Congo', 'Volt...   \n",
       "1327     Yapese_language  ['Austronesian', 'Malayo-Polynesian', 'Oceanic...   \n",
       "\n",
       "                                               dialects  \\\n",
       "6     ['Western Peripheral Nahuatl', 'Eastern Periph...   \n",
       "21    ['Northern', ', Central, ', 'Southern', ', ', ...   \n",
       "23                                 ['Yaali', 'Faranga']   \n",
       "24    ['Peshawari', 'Kohati', 'Awankari', ', ', 'Ghe...   \n",
       "26              ['Agbome', 'Arohun', 'Gbekon', 'Kpase']   \n",
       "...                                                 ...   \n",
       "1297  ['Bohairic', 'Sahidic', 'Akhmimic', 'Lycopolit...   \n",
       "1303  ['Baduy', ' (considered a separate language)',...   \n",
       "1307                                       ['Surgujia']   \n",
       "1310  ['Himba', 'Kuvale', 'Zemba', ' (Thimba, ', 'Ot...   \n",
       "1327                                       ['Nguluwan']   \n",
       "\n",
       "                                               iso3code speakers  \\\n",
       "6     nhe Huasteca NahuatlFor other varieties, see N...      NaN   \n",
       "21    ori – inclusive codeIndividual codes:ory – Odi...      NaN   \n",
       "23                                                  klf      NaN   \n",
       "24    Either:hnd – Southern Hindkohno – Northern Hindko      NaN   \n",
       "26                                                  fon      NaN   \n",
       "...                                                 ...      ...   \n",
       "1297                                                cop      NaN   \n",
       "1303  Variously:sun – Sundanesebac – Baduy Sundanese...      NaN   \n",
       "1307           Either:hne – Chhattisgarhisgj – Surgujia      NaN   \n",
       "1310                                        her  Herero      NaN   \n",
       "1327                                                yap      NaN   \n",
       "\n",
       "                                                regions  \\\n",
       "6     Mexico: Puebla Veracruz Hidalgo Guerrero San L...   \n",
       "21                                            Odisha[a]   \n",
       "23                                              Ouaddaï   \n",
       "24           Hazara Division, Peshawar, Kohat, Pothohar   \n",
       "26                                                  NaN   \n",
       "...                                                 ...   \n",
       "1297                                                NaN   \n",
       "1303  West Java, Banten, Jakarta, small parts of wes...   \n",
       "1307  Chhattisgarh and a minority of speakers in Odi...   \n",
       "1310  Kunene, Omaheke Region and Otjozondjupa Region...   \n",
       "1327                                      Island of Yap   \n",
       "\n",
       "                                               off_lang rec_min_lang  \n",
       "6      Mexico (through the General Law of Linguistic...          NaN  \n",
       "21     India\\nOdisha\\nJharkhand[3] (additional)\\nWes...          NaN  \n",
       "23                                                  NaN          NaN  \n",
       "24                                                  NaN          NaN  \n",
       "26                                                Benin          NaN  \n",
       "...                                                 ...          ...  \n",
       "1297                                                NaN          NaN  \n",
       "1303                                                NaN          NaN  \n",
       "1307              India\\nChhattisgarh (additional)[2]\\n          NaN  \n",
       "1310                                                NaN          NaN  \n",
       "1327                                                NaN          NaN  \n",
       "\n",
       "[213 rows x 8 columns]"
      ]
     },
     "execution_count": 67,
     "metadata": {},
     "output_type": "execute_result"
    }
   ],
   "source": [
    "languages[~languages['dialects'].isnull()]"
   ]
  },
  {
   "cell_type": "code",
   "execution_count": 56,
   "metadata": {},
   "outputs": [
    {
     "data": {
      "text/html": [
       "<div>\n",
       "<style scoped>\n",
       "    .dataframe tbody tr th:only-of-type {\n",
       "        vertical-align: middle;\n",
       "    }\n",
       "\n",
       "    .dataframe tbody tr th {\n",
       "        vertical-align: top;\n",
       "    }\n",
       "\n",
       "    .dataframe thead th {\n",
       "        text-align: right;\n",
       "    }\n",
       "</style>\n",
       "<table border=\"1\" class=\"dataframe\">\n",
       "  <thead>\n",
       "    <tr style=\"text-align: right;\">\n",
       "      <th></th>\n",
       "      <th>lang</th>\n",
       "      <th>family</th>\n",
       "      <th>dialects</th>\n",
       "      <th>iso3code</th>\n",
       "      <th>speakers</th>\n",
       "      <th>regions</th>\n",
       "      <th>off_lang</th>\n",
       "      <th>rec_min_lang</th>\n",
       "    </tr>\n",
       "  </thead>\n",
       "  <tbody>\n",
       "    <tr>\n",
       "      <th>196</th>\n",
       "      <td>Punjabi_language</td>\n",
       "      <td>[]</td>\n",
       "      <td>[]</td>\n",
       "      <td>[Either:pan – Panjabipnb – Western Panjabi]</td>\n",
       "      <td>[]</td>\n",
       "      <td>[Punjab]</td>\n",
       "      <td>[ Pakistan\\n Punjab (provincial)]</td>\n",
       "      <td>[]</td>\n",
       "    </tr>\n",
       "  </tbody>\n",
       "</table>\n",
       "</div>"
      ],
      "text/plain": [
       "                 lang family dialects  \\\n",
       "196  Punjabi_language     []       []   \n",
       "\n",
       "                                        iso3code speakers   regions  \\\n",
       "196  [Either:pan – Panjabipnb – Western Panjabi]       []  [Punjab]   \n",
       "\n",
       "                              off_lang rec_min_lang  \n",
       "196  [ Pakistan\\n Punjab (provincial)]           []  "
      ]
     },
     "execution_count": 56,
     "metadata": {},
     "output_type": "execute_result"
    }
   ],
   "source": [
    "cols = languages.columns[1:]\n",
    "for col in cols: \n",
    "    languages[col] = languages[col].apply(lambda x: [] if pd.isnull(x) else [x])\n",
    "    languages[col] = languages[col].apply(lambda values: [x[:x.find('[')] if '[' in x else x for x in values])\n",
    "languages[languages['lang'].apply(lambda x: 'punjabi' in x.lower())]"
   ]
  },
  {
   "cell_type": "code",
   "execution_count": 22,
   "metadata": {},
   "outputs": [
    {
     "data": {
      "text/html": [
       "<div>\n",
       "<style scoped>\n",
       "    .dataframe tbody tr th:only-of-type {\n",
       "        vertical-align: middle;\n",
       "    }\n",
       "\n",
       "    .dataframe tbody tr th {\n",
       "        vertical-align: top;\n",
       "    }\n",
       "\n",
       "    .dataframe thead th {\n",
       "        text-align: right;\n",
       "    }\n",
       "</style>\n",
       "<table border=\"1\" class=\"dataframe\">\n",
       "  <thead>\n",
       "    <tr style=\"text-align: right;\">\n",
       "      <th></th>\n",
       "      <th>lang</th>\n",
       "      <th>family</th>\n",
       "      <th>dialects</th>\n",
       "      <th>iso3code</th>\n",
       "      <th>speakers</th>\n",
       "      <th>regions</th>\n",
       "      <th>off_lang</th>\n",
       "      <th>rec_min_lang</th>\n",
       "    </tr>\n",
       "  </thead>\n",
       "  <tbody>\n",
       "    <tr>\n",
       "      <th>196</th>\n",
       "      <td>Punjabi_language</td>\n",
       "      <td>[]</td>\n",
       "      <td>[]</td>\n",
       "      <td>[Either:pan – Panjabipnb – Western Panjabi]</td>\n",
       "      <td>[]</td>\n",
       "      <td>[Punjab]</td>\n",
       "      <td>[ Pakistan\\n Punjab (provincial)]</td>\n",
       "      <td>[]</td>\n",
       "    </tr>\n",
       "  </tbody>\n",
       "</table>\n",
       "</div>"
      ],
      "text/plain": [
       "                 lang family dialects  \\\n",
       "196  Punjabi_language     []       []   \n",
       "\n",
       "                                        iso3code speakers   regions  \\\n",
       "196  [Either:pan – Panjabipnb – Western Panjabi]       []  [Punjab]   \n",
       "\n",
       "                              off_lang rec_min_lang  \n",
       "196  [ Pakistan\\n Punjab (provincial)]           []  "
      ]
     },
     "execution_count": 22,
     "metadata": {},
     "output_type": "execute_result"
    }
   ],
   "source": [
    "languages[languages['lang'].apply(lambda x: 'punjabi' in x.lower())]"
   ]
  },
  {
   "cell_type": "code",
   "execution_count": 21,
   "metadata": {},
   "outputs": [
    {
     "data": {
      "text/html": [
       "<div>\n",
       "<style scoped>\n",
       "    .dataframe tbody tr th:only-of-type {\n",
       "        vertical-align: middle;\n",
       "    }\n",
       "\n",
       "    .dataframe tbody tr th {\n",
       "        vertical-align: top;\n",
       "    }\n",
       "\n",
       "    .dataframe thead th {\n",
       "        text-align: right;\n",
       "    }\n",
       "</style>\n",
       "<table border=\"1\" class=\"dataframe\">\n",
       "  <thead>\n",
       "    <tr style=\"text-align: right;\">\n",
       "      <th></th>\n",
       "      <th>lang</th>\n",
       "      <th>family</th>\n",
       "      <th>dialects</th>\n",
       "      <th>iso3code</th>\n",
       "      <th>speakers</th>\n",
       "      <th>regions</th>\n",
       "      <th>off_lang</th>\n",
       "      <th>rec_min_lang</th>\n",
       "    </tr>\n",
       "  </thead>\n",
       "  <tbody>\n",
       "    <tr>\n",
       "      <th>0</th>\n",
       "      <td>Hong_Kong_Special_Administration_Region</td>\n",
       "      <td>[]</td>\n",
       "      <td>[]</td>\n",
       "      <td>[]</td>\n",
       "      <td>[]</td>\n",
       "      <td>[]</td>\n",
       "      <td>[]</td>\n",
       "      <td>[]</td>\n",
       "    </tr>\n",
       "    <tr>\n",
       "      <th>1</th>\n",
       "      <td>Adai_language</td>\n",
       "      <td>[]</td>\n",
       "      <td>[]</td>\n",
       "      <td>[xad]</td>\n",
       "      <td>[]</td>\n",
       "      <td>[Louisiana]</td>\n",
       "      <td>[]</td>\n",
       "      <td>[]</td>\n",
       "    </tr>\n",
       "    <tr>\n",
       "      <th>2</th>\n",
       "      <td>Northern_Ireland</td>\n",
       "      <td>[]</td>\n",
       "      <td>[]</td>\n",
       "      <td>[]</td>\n",
       "      <td>[]</td>\n",
       "      <td>[]</td>\n",
       "      <td>[]</td>\n",
       "      <td>[]</td>\n",
       "    </tr>\n",
       "    <tr>\n",
       "      <th>3</th>\n",
       "      <td>Kapampangan_language</td>\n",
       "      <td>[]</td>\n",
       "      <td>[]</td>\n",
       "      <td>[pam]</td>\n",
       "      <td>[]</td>\n",
       "      <td>[Central Luzon (entirety of Pampanga, southern...</td>\n",
       "      <td>[Angeles City]</td>\n",
       "      <td>[Regional language of the Philippines]</td>\n",
       "    </tr>\n",
       "    <tr>\n",
       "      <th>4</th>\n",
       "      <td>Vlax_Romani_language</td>\n",
       "      <td>[]</td>\n",
       "      <td>[]</td>\n",
       "      <td>[rmy]</td>\n",
       "      <td>[]</td>\n",
       "      <td>[]</td>\n",
       "      <td>[]</td>\n",
       "      <td>[Hungary, Romania, Poland, and Serbia]</td>\n",
       "    </tr>\n",
       "    <tr>\n",
       "      <th>...</th>\n",
       "      <td>...</td>\n",
       "      <td>...</td>\n",
       "      <td>...</td>\n",
       "      <td>...</td>\n",
       "      <td>...</td>\n",
       "      <td>...</td>\n",
       "      <td>...</td>\n",
       "      <td>...</td>\n",
       "    </tr>\n",
       "    <tr>\n",
       "      <th>1325</th>\n",
       "      <td>Maguindanao</td>\n",
       "      <td>[]</td>\n",
       "      <td>[]</td>\n",
       "      <td>[]</td>\n",
       "      <td>[]</td>\n",
       "      <td>[]</td>\n",
       "      <td>[]</td>\n",
       "      <td>[]</td>\n",
       "    </tr>\n",
       "    <tr>\n",
       "      <th>1326</th>\n",
       "      <td>Aas%C3%A1x</td>\n",
       "      <td>[]</td>\n",
       "      <td>[]</td>\n",
       "      <td>[aas]</td>\n",
       "      <td>[]</td>\n",
       "      <td>[Tanzania]</td>\n",
       "      <td>[]</td>\n",
       "      <td>[]</td>\n",
       "    </tr>\n",
       "    <tr>\n",
       "      <th>1327</th>\n",
       "      <td>Yapese_language</td>\n",
       "      <td>[]</td>\n",
       "      <td>[]</td>\n",
       "      <td>[yap]</td>\n",
       "      <td>[]</td>\n",
       "      <td>[Island of Yap]</td>\n",
       "      <td>[]</td>\n",
       "      <td>[]</td>\n",
       "    </tr>\n",
       "    <tr>\n",
       "      <th>1328</th>\n",
       "      <td>Yanesha%27_language</td>\n",
       "      <td>[]</td>\n",
       "      <td>[]</td>\n",
       "      <td>[ame]</td>\n",
       "      <td>[]</td>\n",
       "      <td>[Department of Pasco]</td>\n",
       "      <td>[]</td>\n",
       "      <td>[]</td>\n",
       "    </tr>\n",
       "    <tr>\n",
       "      <th>1329</th>\n",
       "      <td>Guyana</td>\n",
       "      <td>[]</td>\n",
       "      <td>[]</td>\n",
       "      <td>[]</td>\n",
       "      <td>[]</td>\n",
       "      <td>[]</td>\n",
       "      <td>[]</td>\n",
       "      <td>[]</td>\n",
       "    </tr>\n",
       "  </tbody>\n",
       "</table>\n",
       "<p>1330 rows × 8 columns</p>\n",
       "</div>"
      ],
      "text/plain": [
       "                                         lang family dialects iso3code  \\\n",
       "0     Hong_Kong_Special_Administration_Region     []       []       []   \n",
       "1                               Adai_language     []       []    [xad]   \n",
       "2                            Northern_Ireland     []       []       []   \n",
       "3                        Kapampangan_language     []       []    [pam]   \n",
       "4                        Vlax_Romani_language     []       []    [rmy]   \n",
       "...                                       ...    ...      ...      ...   \n",
       "1325                              Maguindanao     []       []       []   \n",
       "1326                               Aas%C3%A1x     []       []    [aas]   \n",
       "1327                          Yapese_language     []       []    [yap]   \n",
       "1328                      Yanesha%27_language     []       []    [ame]   \n",
       "1329                                   Guyana     []       []       []   \n",
       "\n",
       "     speakers                                            regions  \\\n",
       "0          []                                                 []   \n",
       "1          []                                        [Louisiana]   \n",
       "2          []                                                 []   \n",
       "3          []  [Central Luzon (entirety of Pampanga, southern...   \n",
       "4          []                                                 []   \n",
       "...       ...                                                ...   \n",
       "1325       []                                                 []   \n",
       "1326       []                                         [Tanzania]   \n",
       "1327       []                                    [Island of Yap]   \n",
       "1328       []                              [Department of Pasco]   \n",
       "1329       []                                                 []   \n",
       "\n",
       "            off_lang                            rec_min_lang  \n",
       "0                 []                                      []  \n",
       "1                 []                                      []  \n",
       "2                 []                                      []  \n",
       "3     [Angeles City]  [Regional language of the Philippines]  \n",
       "4                 []  [Hungary, Romania, Poland, and Serbia]  \n",
       "...              ...                                     ...  \n",
       "1325              []                                      []  \n",
       "1326              []                                      []  \n",
       "1327              []                                      []  \n",
       "1328              []                                      []  \n",
       "1329              []                                      []  \n",
       "\n",
       "[1330 rows x 8 columns]"
      ]
     },
     "execution_count": 21,
     "metadata": {},
     "output_type": "execute_result"
    }
   ],
   "source": [
    "languages"
   ]
  },
  {
   "cell_type": "code",
   "execution_count": 2,
   "metadata": {},
   "outputs": [],
   "source": [
    "# unesco_languages"
   ]
  },
  {
   "cell_type": "code",
   "execution_count": 1,
   "metadata": {},
   "outputs": [],
   "source": [
    "# languages = languages.merge(unesco_languages, left_on='lang', right_on='Name in English')\n",
    "# print(languages.columns)\n",
    "# languages"
   ]
  }
 ],
 "metadata": {
  "kernelspec": {
   "display_name": "Python 3",
   "language": "python",
   "name": "python3"
  },
  "language_info": {
   "codemirror_mode": {
    "name": "ipython",
    "version": 3
   },
   "file_extension": ".py",
   "mimetype": "text/x-python",
   "name": "python",
   "nbconvert_exporter": "python",
   "pygments_lexer": "ipython3",
   "version": "3.12.1"
  }
 },
 "nbformat": 4,
 "nbformat_minor": 2
}
