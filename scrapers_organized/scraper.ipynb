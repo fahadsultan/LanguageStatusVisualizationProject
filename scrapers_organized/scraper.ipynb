{
 "cells": [
  {
   "cell_type": "markdown",
   "metadata": {},
   "source": [
    "# Scraper"
   ]
  },
  {
   "cell_type": "code",
   "execution_count": 1,
   "metadata": {},
   "outputs": [
    {
     "name": "stderr",
     "output_type": "stream",
     "text": [
      "/var/folders/gl/l6pb7jfx42l02zc9950kh3fh0000gn/T/ipykernel_797/3620316254.py:1: DeprecationWarning: \n",
      "Pyarrow will become a required dependency of pandas in the next major release of pandas (pandas 3.0),\n",
      "(to allow more performant data types, such as the Arrow string type, and better interoperability with other libraries)\n",
      "but was not found to be installed on your system.\n",
      "If this would cause problems for you,\n",
      "please provide us feedback at https://github.com/pandas-dev/pandas/issues/54466\n",
      "        \n",
      "  import pandas as pd\n"
     ]
    }
   ],
   "source": [
    "import pandas as pd \n",
    "import requests\n",
    "import unicodedata\n",
    "from tqdm import tqdm\n",
    "from bs4 import BeautifulSoup\n",
    "\n",
    "def get_links(): \n",
    "    response = requests.get('https://en.wikipedia.org/wiki/List_of_language_names')\n",
    "    soup = BeautifulSoup(response.content, 'html.parser')\n",
    "    links = soup.find_all('a')\n",
    "    # links = [link.get('href') for link in links if (link.get('title') is not None) and ('language' in link.get('title'))]\n",
    "    links = [link.get('href') for link in links if (link.get('title') is not None)]\n",
    "    # links = [link for link in links if link.endswith('_language')]\n",
    "    links = [\"https://en.wikipedia.org\"+link for link in links]\n",
    "    return links"
   ]
  },
  {
   "cell_type": "code",
   "execution_count": 2,
   "metadata": {},
   "outputs": [
    {
     "name": "stdout",
     "output_type": "stream",
     "text": [
      "16\n"
     ]
    }
   ],
   "source": [
    "countries_and_territories = requests.get('https://en.wikipedia.org/wiki/List_of_countries_and_dependencies_and_their_capitals_in_native_languages')\n",
    "soup = BeautifulSoup(countries_and_territories.content, 'html.parser')\n",
    "\n",
    "table = soup.find('table', {'class': ['wikitable', 'sortable', 'jquery-tablesorter']})\n",
    "regions = []\n",
    "languages = []\n",
    "\n",
    "table_rows = table.find_all('tr')\n",
    "print(len(table_rows))"
   ]
  },
  {
   "cell_type": "code",
   "execution_count": 3,
   "metadata": {},
   "outputs": [
    {
     "data": {
      "text/html": [
       "<div>\n",
       "<style scoped>\n",
       "    .dataframe tbody tr th:only-of-type {\n",
       "        vertical-align: middle;\n",
       "    }\n",
       "\n",
       "    .dataframe tbody tr th {\n",
       "        vertical-align: top;\n",
       "    }\n",
       "\n",
       "    .dataframe thead th {\n",
       "        text-align: right;\n",
       "    }\n",
       "</style>\n",
       "<table border=\"1\" class=\"dataframe\">\n",
       "  <thead>\n",
       "    <tr style=\"text-align: right;\">\n",
       "      <th></th>\n",
       "      <th>Name in English</th>\n",
       "      <th>Number of speakers</th>\n",
       "      <th>Degree of endangerment</th>\n",
       "    </tr>\n",
       "  </thead>\n",
       "  <tbody>\n",
       "    <tr>\n",
       "      <th>0</th>\n",
       "      <td>South Italian</td>\n",
       "      <td>7500000</td>\n",
       "      <td>Vulnerable</td>\n",
       "    </tr>\n",
       "    <tr>\n",
       "      <th>1</th>\n",
       "      <td>Sicilian</td>\n",
       "      <td>5000000</td>\n",
       "      <td>Vulnerable</td>\n",
       "    </tr>\n",
       "    <tr>\n",
       "      <th>2</th>\n",
       "      <td>Low Saxon</td>\n",
       "      <td>4800000</td>\n",
       "      <td>Vulnerable</td>\n",
       "    </tr>\n",
       "    <tr>\n",
       "      <th>3</th>\n",
       "      <td>Belarusian</td>\n",
       "      <td>4000000</td>\n",
       "      <td>Vulnerable</td>\n",
       "    </tr>\n",
       "    <tr>\n",
       "      <th>4</th>\n",
       "      <td>Lombard</td>\n",
       "      <td>3500000</td>\n",
       "      <td>Definitely endangered</td>\n",
       "    </tr>\n",
       "    <tr>\n",
       "      <th>...</th>\n",
       "      <td>...</td>\n",
       "      <td>...</td>\n",
       "      <td>...</td>\n",
       "    </tr>\n",
       "    <tr>\n",
       "      <th>2534</th>\n",
       "      <td>|'Auni</td>\n",
       "      <td>0</td>\n",
       "      <td>Extinct</td>\n",
       "    </tr>\n",
       "    <tr>\n",
       "      <th>2535</th>\n",
       "      <td>|Xam</td>\n",
       "      <td>0</td>\n",
       "      <td>Extinct</td>\n",
       "    </tr>\n",
       "    <tr>\n",
       "      <th>2536</th>\n",
       "      <td>ǁKu ǁ'e</td>\n",
       "      <td>0</td>\n",
       "      <td>Extinct</td>\n",
       "    </tr>\n",
       "    <tr>\n",
       "      <th>2537</th>\n",
       "      <td>ǁKx'au</td>\n",
       "      <td>0</td>\n",
       "      <td>Extinct</td>\n",
       "    </tr>\n",
       "    <tr>\n",
       "      <th>2538</th>\n",
       "      <td>ǁXegwi</td>\n",
       "      <td>0</td>\n",
       "      <td>Extinct</td>\n",
       "    </tr>\n",
       "  </tbody>\n",
       "</table>\n",
       "<p>2539 rows × 3 columns</p>\n",
       "</div>"
      ],
      "text/plain": [
       "     Name in English  Number of speakers Degree of endangerment\n",
       "0      South Italian             7500000             Vulnerable\n",
       "1           Sicilian             5000000             Vulnerable\n",
       "2          Low Saxon             4800000             Vulnerable\n",
       "3         Belarusian             4000000             Vulnerable\n",
       "4            Lombard             3500000  Definitely endangered\n",
       "...              ...                 ...                    ...\n",
       "2534          |'Auni                   0                Extinct\n",
       "2535            |Xam                   0                Extinct\n",
       "2536         ǁKu ǁ'e                   0                Extinct\n",
       "2537          ǁKx'au                   0                Extinct\n",
       "2538          ǁXegwi                   0                Extinct\n",
       "\n",
       "[2539 rows x 3 columns]"
      ]
     },
     "execution_count": 3,
     "metadata": {},
     "output_type": "execute_result"
    }
   ],
   "source": [
    "unesco_languages = pd.read_csv('../Extinct languages - DATA SUMMARY.csv')\n",
    "unesco_languages"
   ]
  },
  {
   "cell_type": "code",
   "execution_count": 4,
   "metadata": {},
   "outputs": [
    {
     "name": "stdout",
     "output_type": "stream",
     "text": [
      "3540\n",
      "['https://en.wikipedia.org/wiki/Main_Page', 'https://en.wikipedia.org/wiki/Wikipedia:Contents', 'https://en.wikipedia.org/wiki/Portal:Current_events', 'https://en.wikipedia.org/wiki/Special:Random', 'https://en.wikipedia.org/wiki/Wikipedia:About', 'https://en.wikipedia.org//en.wikipedia.org/wiki/Wikipedia:Contact_us', 'https://en.wikipedia.orghttps://donate.wikimedia.org/wiki/Special:FundraiserRedirector?utm_source=donate&utm_medium=sidebar&utm_campaign=C13_en.wikipedia.org&uselang=en', 'https://en.wikipedia.org/wiki/Help:Contents', 'https://en.wikipedia.org/wiki/Help:Introduction', 'https://en.wikipedia.org/wiki/Wikipedia:Community_portal']\n"
     ]
    }
   ],
   "source": [
    "def find_index_of_headers(url):\n",
    "    response        = requests.get(url)\n",
    "    content         = response.content\n",
    "    parser          = BeautifulSoup(content, 'html.parser')\n",
    "    table           = parser.find('table', {'class': 'infobox'})\n",
    "    included_headers = {}\n",
    "    \n",
    "    for i in range(0, len(table.find_all('th', {'class': 'infobox-label'}))):\n",
    "        included_headers[unicodedata.normalize('NFKD', table.find_all('th', {'class': 'infobox-label'}).__getitem__(i).getText())] = i\n",
    "    return included_headers\n",
    "\n",
    "\n",
    "urls = get_links()\n",
    "print(len(urls))\n",
    "print(urls[:10])\n",
    "\n",
    "urls = list(set(urls))\n",
    "\n",
    "urls = [url for url in urls if url not in ['Official_language', 'Minority_language']]\n",
    "urls = [url for url in urls if url.startswith('List_of_countries') == False]\n",
    "urls = [url for url in urls if url.count(':') == 1]\n",
    "urls = [url for url in urls if '?' not in url]"
   ]
  },
  {
   "cell_type": "code",
   "execution_count": 5,
   "metadata": {},
   "outputs": [
    {
     "name": "stderr",
     "output_type": "stream",
     "text": [
      "  1%|          | 8/1389 [00:16<34:57,  1.52s/it]  "
     ]
    },
    {
     "name": "stdout",
     "output_type": "stream",
     "text": [
      "No table found  https://en.wikipedia.org/wiki/Liturgical_language\n"
     ]
    },
    {
     "name": "stderr",
     "output_type": "stream",
     "text": [
      "  1%|          | 12/1389 [00:19<22:03,  1.04it/s]"
     ]
    },
    {
     "name": "stdout",
     "output_type": "stream",
     "text": [
      "No table found  https://en.wikipedia.org/wiki/List_of_countries_where_Spanish_is_an_official_language\n"
     ]
    },
    {
     "name": "stderr",
     "output_type": "stream",
     "text": [
      "  6%|▌         | 81/1389 [02:10<25:48,  1.18s/it]"
     ]
    },
    {
     "name": "stdout",
     "output_type": "stream",
     "text": [
      "No table found  https://en.wikipedia.org/wiki/Court\n"
     ]
    },
    {
     "name": "stderr",
     "output_type": "stream",
     "text": [
      "  7%|▋         | 101/1389 [02:41<32:24,  1.51s/it]"
     ]
    },
    {
     "name": "stdout",
     "output_type": "stream",
     "text": [
      "No table found  https://en.wikipedia.org/wiki/Karelia\n"
     ]
    },
    {
     "name": "stderr",
     "output_type": "stream",
     "text": [
      " 10%|█         | 145/1389 [03:49<35:09,  1.70s/it]"
     ]
    },
    {
     "name": "stdout",
     "output_type": "stream",
     "text": [
      "No table found  https://en.wikipedia.org/wiki/Zonal_auxiliary_language\n"
     ]
    },
    {
     "name": "stderr",
     "output_type": "stream",
     "text": [
      " 12%|█▏        | 169/1389 [04:27<22:35,  1.11s/it]"
     ]
    },
    {
     "name": "stdout",
     "output_type": "stream",
     "text": [
      "No table found  https://en.wikipedia.org/wiki/Autonomous_counties_of_the_People%27s_Republic_of_China\n"
     ]
    },
    {
     "name": "stderr",
     "output_type": "stream",
     "text": [
      " 13%|█▎        | 176/1389 [04:35<20:41,  1.02s/it]"
     ]
    },
    {
     "name": "stdout",
     "output_type": "stream",
     "text": [
      "No table found  https://en.wikipedia.org/wiki/List_of_countries_where_Arabic_is_an_official_language\n"
     ]
    },
    {
     "name": "stderr",
     "output_type": "stream",
     "text": [
      " 13%|█▎        | 187/1389 [04:47<16:12,  1.24it/s]"
     ]
    },
    {
     "name": "stdout",
     "output_type": "stream",
     "text": [
      "No table found  https://en.wikipedia.org/wiki/Exonym_and_endonym\n"
     ]
    },
    {
     "name": "stderr",
     "output_type": "stream",
     "text": [
      " 14%|█▍        | 191/1389 [04:54<28:07,  1.41s/it]"
     ]
    },
    {
     "name": "stdout",
     "output_type": "stream",
     "text": [
      "No table found  https://en.wikipedia.org/wiki/List_of_countries_where_English_is_an_official_language\n"
     ]
    },
    {
     "name": "stderr",
     "output_type": "stream",
     "text": [
      " 14%|█▍        | 196/1389 [05:03<34:10,  1.72s/it]"
     ]
    },
    {
     "name": "stdout",
     "output_type": "stream",
     "text": [
      "No table found  https://en.wikipedia.org/wiki/Official_languages_of_the_United_Nations\n"
     ]
    },
    {
     "name": "stderr",
     "output_type": "stream",
     "text": [
      " 16%|█▋        | 228/1389 [05:53<24:47,  1.28s/it]"
     ]
    },
    {
     "name": "stdout",
     "output_type": "stream",
     "text": [
      "No table found  https://en.wikipedia.org/wiki/Administrative_divisions_of_Uzbekistan\n"
     ]
    },
    {
     "name": "stderr",
     "output_type": "stream",
     "text": [
      " 17%|█▋        | 241/1389 [06:08<19:04,  1.00it/s]"
     ]
    },
    {
     "name": "stdout",
     "output_type": "stream",
     "text": [
      "No table found  https://en.wikipedia.org/wiki/Communities,_regions_and_language_areas_of_Belgium\n"
     ]
    },
    {
     "name": "stderr",
     "output_type": "stream",
     "text": [
      " 18%|█▊        | 245/1389 [06:11<14:55,  1.28it/s]"
     ]
    },
    {
     "name": "stdout",
     "output_type": "stream",
     "text": [
      "No table found  https://en.wikipedia.org/wiki/Official_language\n"
     ]
    },
    {
     "name": "stderr",
     "output_type": "stream",
     "text": [
      " 18%|█▊        | 250/1389 [06:17<16:51,  1.13it/s]"
     ]
    },
    {
     "name": "stdout",
     "output_type": "stream",
     "text": [
      "No table found  https://en.wikipedia.org/wiki/Middle_East_and_North_Africa\n"
     ]
    },
    {
     "name": "stderr",
     "output_type": "stream",
     "text": [
      " 19%|█▊        | 258/1389 [06:28<27:48,  1.48s/it]"
     ]
    },
    {
     "name": "stdout",
     "output_type": "stream",
     "text": [
      "No table found  https://en.wikipedia.org/wiki/Mesopotamia\n"
     ]
    },
    {
     "name": "stderr",
     "output_type": "stream",
     "text": [
      " 19%|█▉        | 267/1389 [06:39<16:52,  1.11it/s]"
     ]
    },
    {
     "name": "stdout",
     "output_type": "stream",
     "text": [
      "No table found  https://en.wikipedia.org/wiki/Provinces_of_Mongolia\n"
     ]
    },
    {
     "name": "stderr",
     "output_type": "stream",
     "text": [
      " 21%|██        | 286/1389 [07:08<24:06,  1.31s/it]"
     ]
    },
    {
     "name": "stdout",
     "output_type": "stream",
     "text": [
      "No table found  https://en.wikipedia.org/wiki/Pidgin\n"
     ]
    },
    {
     "name": "stderr",
     "output_type": "stream",
     "text": [
      " 26%|██▌       | 363/1389 [10:10<20:12,  1.18s/it]  "
     ]
    },
    {
     "name": "stdout",
     "output_type": "stream",
     "text": [
      "No table found  https://en.wikipedia.org/wiki/Main_Page\n"
     ]
    },
    {
     "name": "stderr",
     "output_type": "stream",
     "text": [
      " 27%|██▋       | 370/1389 [10:19<17:34,  1.03s/it]"
     ]
    },
    {
     "name": "stdout",
     "output_type": "stream",
     "text": [
      "No table found  https://en.wikipedia.org/wiki/Southeastern_Europe\n"
     ]
    },
    {
     "name": "stderr",
     "output_type": "stream",
     "text": [
      " 28%|██▊       | 393/1389 [10:55<17:45,  1.07s/it]"
     ]
    },
    {
     "name": "stdout",
     "output_type": "stream",
     "text": [
      "No table found  https://en.wikipedia.org/wiki/Akkad_(city)\n"
     ]
    },
    {
     "name": "stderr",
     "output_type": "stream",
     "text": [
      " 30%|██▉       | 414/1389 [11:23<16:16,  1.00s/it]"
     ]
    },
    {
     "name": "stdout",
     "output_type": "stream",
     "text": [
      "No table found  https://en.wikipedia.org/wiki/Regional_language\n"
     ]
    },
    {
     "name": "stderr",
     "output_type": "stream",
     "text": [
      " 32%|███▏      | 444/1389 [11:54<09:23,  1.68it/s]"
     ]
    },
    {
     "name": "stdout",
     "output_type": "stream",
     "text": [
      "No table found  https://en.wikipedia.org/wiki/Cities_of_Brazil\n"
     ]
    },
    {
     "name": "stderr",
     "output_type": "stream",
     "text": [
      " 33%|███▎      | 463/1389 [12:19<15:06,  1.02it/s]"
     ]
    },
    {
     "name": "stdout",
     "output_type": "stream",
     "text": [
      "No table found  https://en.wikipedia.org/wiki/Archipelago\n"
     ]
    },
    {
     "name": "stderr",
     "output_type": "stream",
     "text": [
      " 34%|███▎      | 468/1389 [12:25<15:54,  1.04s/it]"
     ]
    },
    {
     "name": "stdout",
     "output_type": "stream",
     "text": [
      "No table found  https://en.wikipedia.org/wiki/List_of_language_names\n"
     ]
    },
    {
     "name": "stderr",
     "output_type": "stream",
     "text": [
      " 34%|███▍      | 471/1389 [12:26<10:57,  1.40it/s]"
     ]
    },
    {
     "name": "stdout",
     "output_type": "stream",
     "text": [
      "No table found  https://en.wikipedia.org/wiki/Administrative_divisions_of_Serbia\n"
     ]
    },
    {
     "name": "stderr",
     "output_type": "stream",
     "text": [
      " 36%|███▌      | 498/1389 [13:11<21:01,  1.42s/it]"
     ]
    },
    {
     "name": "stdout",
     "output_type": "stream",
     "text": [
      "No table found  https://en.wikipedia.org/wiki/Autonomous_area\n"
     ]
    },
    {
     "name": "stderr",
     "output_type": "stream",
     "text": [
      " 40%|███▉      | 555/1389 [14:25<10:24,  1.34it/s]"
     ]
    },
    {
     "name": "stdout",
     "output_type": "stream",
     "text": [
      "No table found  https://en.wikipedia.org/wiki/Ronald_Kingsley_Read\n"
     ]
    },
    {
     "name": "stderr",
     "output_type": "stream",
     "text": [
      " 40%|████      | 559/1389 [14:29<10:44,  1.29it/s]"
     ]
    },
    {
     "name": "stdout",
     "output_type": "stream",
     "text": [
      "No table found  https://en.wikipedia.org/wiki/National_language\n"
     ]
    },
    {
     "name": "stderr",
     "output_type": "stream",
     "text": [
      " 40%|████      | 562/1389 [14:32<11:42,  1.18it/s]"
     ]
    },
    {
     "name": "stdout",
     "output_type": "stream",
     "text": [
      "No table found  https://en.wikipedia.org/wiki/States_of_Mexico\n"
     ]
    },
    {
     "name": "stderr",
     "output_type": "stream",
     "text": [
      " 44%|████▎     | 606/1389 [15:30<18:04,  1.38s/it]"
     ]
    },
    {
     "name": "stdout",
     "output_type": "stream",
     "text": [
      "No table found  https://en.wikipedia.org/wiki/International_auxiliary_language\n"
     ]
    },
    {
     "name": "stderr",
     "output_type": "stream",
     "text": [
      " 47%|████▋     | 653/1389 [16:34<12:00,  1.02it/s]"
     ]
    },
    {
     "name": "stdout",
     "output_type": "stream",
     "text": [
      "No table found  https://en.wikipedia.org/wiki/Minority_language\n"
     ]
    },
    {
     "name": "stderr",
     "output_type": "stream",
     "text": [
      " 47%|████▋     | 654/1389 [16:34<09:33,  1.28it/s]"
     ]
    },
    {
     "name": "stdout",
     "output_type": "stream",
     "text": [
      "No table found  https://en.wikipedia.org/wiki/Communities_of_Belgium\n"
     ]
    },
    {
     "name": "stderr",
     "output_type": "stream",
     "text": [
      " 48%|████▊     | 662/1389 [16:43<11:20,  1.07it/s]"
     ]
    },
    {
     "name": "stdout",
     "output_type": "stream",
     "text": [
      "No table found  https://en.wikipedia.org/wiki/Fief\n"
     ]
    },
    {
     "name": "stderr",
     "output_type": "stream",
     "text": [
      " 51%|█████     | 702/1389 [17:26<08:17,  1.38it/s]"
     ]
    },
    {
     "name": "stdout",
     "output_type": "stream",
     "text": [
      "No table found  https://en.wikipedia.org/wiki/Language\n"
     ]
    },
    {
     "name": "stderr",
     "output_type": "stream",
     "text": [
      " 53%|█████▎    | 743/1389 [18:15<09:10,  1.17it/s]"
     ]
    },
    {
     "name": "stdout",
     "output_type": "stream",
     "text": [
      "No table found  https://en.wikipedia.org/wiki/Karamoja\n"
     ]
    },
    {
     "name": "stderr",
     "output_type": "stream",
     "text": [
      " 54%|█████▍    | 750/1389 [18:23<09:14,  1.15it/s]"
     ]
    },
    {
     "name": "stdout",
     "output_type": "stream",
     "text": [
      "No table found  https://en.wikipedia.org/wiki/List_of_countries_where_Russian_is_an_official_language\n"
     ]
    },
    {
     "name": "stderr",
     "output_type": "stream",
     "text": [
      " 57%|█████▋    | 790/1389 [19:11<08:35,  1.16it/s]"
     ]
    },
    {
     "name": "stdout",
     "output_type": "stream",
     "text": [
      "No table found  https://en.wikipedia.org/wiki/States_and_federal_territories_of_Malaysia\n"
     ]
    },
    {
     "name": "stderr",
     "output_type": "stream",
     "text": [
      " 57%|█████▋    | 798/1389 [19:19<08:13,  1.20it/s]"
     ]
    },
    {
     "name": "stdout",
     "output_type": "stream",
     "text": [
      "No table found  https://en.wikipedia.org/wiki/Near_East\n"
     ]
    },
    {
     "name": "stderr",
     "output_type": "stream",
     "text": [
      " 59%|█████▉    | 825/1389 [19:53<08:34,  1.10it/s]"
     ]
    },
    {
     "name": "stdout",
     "output_type": "stream",
     "text": [
      "No table found  https://en.wikipedia.org/wiki/Eastern_Europe\n"
     ]
    },
    {
     "name": "stderr",
     "output_type": "stream",
     "text": [
      " 62%|██████▏   | 858/1389 [20:30<09:01,  1.02s/it]"
     ]
    },
    {
     "name": "stdout",
     "output_type": "stream",
     "text": [
      "No table found  https://en.wikipedia.org/wiki/Lingua_franca\n"
     ]
    },
    {
     "name": "stderr",
     "output_type": "stream",
     "text": [
      " 63%|██████▎   | 879/1389 [20:57<12:41,  1.49s/it]"
     ]
    },
    {
     "name": "stdout",
     "output_type": "stream",
     "text": [
      "No table found  https://en.wikipedia.org/wiki/Al-Andalus\n"
     ]
    },
    {
     "name": "stderr",
     "output_type": "stream",
     "text": [
      " 64%|██████▍   | 890/1389 [21:10<08:24,  1.01s/it]"
     ]
    },
    {
     "name": "stdout",
     "output_type": "stream",
     "text": [
      "No table found  https://en.wikipedia.org/wiki/Emirau_Island\n"
     ]
    },
    {
     "name": "stderr",
     "output_type": "stream",
     "text": [
      " 66%|██████▌   | 913/1389 [21:37<07:27,  1.06it/s]"
     ]
    },
    {
     "name": "stdout",
     "output_type": "stream",
     "text": [
      "No table found  https://en.wikipedia.org/wiki/Germanic_tribes\n"
     ]
    },
    {
     "name": "stderr",
     "output_type": "stream",
     "text": [
      " 71%|███████▏  | 991/1389 [23:05<07:08,  1.08s/it]"
     ]
    },
    {
     "name": "stdout",
     "output_type": "stream",
     "text": [
      "No table found  https://en.wikipedia.org/wiki/Municipalities_of_Slovakia\n"
     ]
    },
    {
     "name": "stderr",
     "output_type": "stream",
     "text": [
      " 72%|███████▏  | 998/1389 [23:12<06:37,  1.02s/it]"
     ]
    },
    {
     "name": "stdout",
     "output_type": "stream",
     "text": [
      "No table found  https://en.wikipedia.org/wiki/National_Language\n"
     ]
    },
    {
     "name": "stderr",
     "output_type": "stream",
     "text": [
      " 72%|███████▏  | 1003/1389 [23:18<05:43,  1.12it/s]"
     ]
    },
    {
     "name": "stdout",
     "output_type": "stream",
     "text": [
      "No table found  https://en.wikipedia.org/wiki/Provinces_of_Costa_Rica\n"
     ]
    },
    {
     "name": "stderr",
     "output_type": "stream",
     "text": [
      " 74%|███████▎  | 1021/1389 [23:37<05:21,  1.15it/s]"
     ]
    },
    {
     "name": "stdout",
     "output_type": "stream",
     "text": [
      "No table found  https://en.wikipedia.org/wiki/French_Basque_Country\n"
     ]
    },
    {
     "name": "stderr",
     "output_type": "stream",
     "text": [
      " 76%|███████▌  | 1054/1389 [24:19<05:48,  1.04s/it]"
     ]
    },
    {
     "name": "stdout",
     "output_type": "stream",
     "text": [
      "No table found  https://en.wikipedia.org/wiki/List_of_countries_where_French_is_an_official_language\n"
     ]
    },
    {
     "name": "stderr",
     "output_type": "stream",
     "text": [
      " 77%|███████▋  | 1065/1389 [24:31<04:59,  1.08it/s]"
     ]
    },
    {
     "name": "stdout",
     "output_type": "stream",
     "text": [
      "No table found  https://en.wikipedia.org/wiki/Armenian_diaspora\n"
     ]
    },
    {
     "name": "stderr",
     "output_type": "stream",
     "text": [
      " 79%|███████▉  | 1101/1389 [25:13<05:02,  1.05s/it]"
     ]
    },
    {
     "name": "stdout",
     "output_type": "stream",
     "text": [
      "No table found  https://en.wikipedia.org/wiki/Municipality\n"
     ]
    },
    {
     "name": "stderr",
     "output_type": "stream",
     "text": [
      " 80%|████████  | 1112/1389 [25:24<04:01,  1.15it/s]"
     ]
    },
    {
     "name": "stdout",
     "output_type": "stream",
     "text": [
      "No table found  https://en.wikipedia.org/wiki/Abkhaz_alphabet\n"
     ]
    },
    {
     "name": "stderr",
     "output_type": "stream",
     "text": [
      " 82%|████████▏ | 1135/1389 [25:52<03:04,  1.38it/s]"
     ]
    },
    {
     "name": "stdout",
     "output_type": "stream",
     "text": [
      "No table found  https://en.wikipedia.org/wiki/St_Matthias_Islands\n"
     ]
    },
    {
     "name": "stderr",
     "output_type": "stream",
     "text": [
      " 83%|████████▎ | 1148/1389 [26:09<05:06,  1.27s/it]"
     ]
    },
    {
     "name": "stdout",
     "output_type": "stream",
     "text": [
      "No table found  https://en.wikipedia.org/wiki/Kawthoolei\n"
     ]
    },
    {
     "name": "stderr",
     "output_type": "stream",
     "text": [
      " 84%|████████▎ | 1160/1389 [26:21<03:32,  1.08it/s]"
     ]
    },
    {
     "name": "stdout",
     "output_type": "stream",
     "text": [
      "No table found  https://en.wikipedia.org/wiki/Lists_of_languages\n"
     ]
    },
    {
     "name": "stderr",
     "output_type": "stream",
     "text": [
      " 85%|████████▍ | 1174/1389 [26:36<03:45,  1.05s/it]"
     ]
    },
    {
     "name": "stdout",
     "output_type": "stream",
     "text": [
      "No table found  https://en.wikipedia.org/wiki/Jewish_Diaspora\n"
     ]
    },
    {
     "name": "stderr",
     "output_type": "stream",
     "text": [
      " 89%|████████▊ | 1230/1389 [36:14<02:30,  1.06it/s]   "
     ]
    },
    {
     "name": "stdout",
     "output_type": "stream",
     "text": [
      "No table found  https://en.wikipedia.org/wiki/Comunes_of_Italy\n"
     ]
    },
    {
     "name": "stderr",
     "output_type": "stream",
     "text": [
      " 89%|████████▉ | 1242/1389 [36:30<03:27,  1.41s/it]"
     ]
    },
    {
     "name": "stdout",
     "output_type": "stream",
     "text": [
      "No table found  https://en.wikipedia.org/wiki/Middle_Ages\n"
     ]
    },
    {
     "name": "stderr",
     "output_type": "stream",
     "text": [
      " 91%|█████████ | 1258/1389 [36:50<02:09,  1.01it/s]"
     ]
    },
    {
     "name": "stdout",
     "output_type": "stream",
     "text": [
      "No table found  https://en.wikipedia.org/wiki/Mussau_Island\n"
     ]
    },
    {
     "name": "stderr",
     "output_type": "stream",
     "text": [
      " 91%|█████████▏| 1270/1389 [37:03<01:44,  1.14it/s]"
     ]
    },
    {
     "name": "stdout",
     "output_type": "stream",
     "text": [
      "No table found  https://en.wikipedia.org/wiki/Sub-provincial_divisions_in_the_People%27s_Republic_of_China\n"
     ]
    },
    {
     "name": "stderr",
     "output_type": "stream",
     "text": [
      "100%|██████████| 1389/1389 [39:25<00:00,  1.70s/it]\n"
     ]
    }
   ],
   "source": [
    "data = []\n",
    "errors = []\n",
    "\n",
    "for url in tqdm(urls): \n",
    "    # try: \n",
    "        lang = url.split('/')[-1]\n",
    "\n",
    "        # print(requests.get(url).status_code)\n",
    "        # print(url)\n",
    "        response        = requests.get(url)\n",
    "        content         = response.content\n",
    "        parser          = BeautifulSoup(content, 'html.parser')\n",
    "        table           = parser.find('table', {'class': 'infobox'})\n",
    "\n",
    "        if table == None:\n",
    "             print(\"No table found \", url)\n",
    "             continue\n",
    "\n",
    "        header_indices  = find_index_of_headers(url)\n",
    "\n",
    "        # print(header_indices)\n",
    "\n",
    "        infobox_data = table.find_all('td', {'class': 'infobox-data'})\n",
    "\n",
    "        lang            = table.find('th', {'class': 'infobox-above above'}).get_text('title') if table.find('th', {'class': 'infobox-above above'}) else lang\n",
    "\n",
    "        off_lang        = infobox_data[header_indices['Official language in']].text if 'Official language in' in header_indices else None\n",
    "        rec_min_lang    = infobox_data[header_indices['Recognised minoritylanguage in']].text if 'Recognised minoritylanguage in' in header_indices else None\n",
    "        # speakers        = infobox_data[header_indices['Speakers']].text             if 'Speakers' in header_indices else None\n",
    "        iso3code        = infobox_data[header_indices['ISO 639-3']].get_text('title')            if 'ISO 639-3' in header_indices else None\n",
    "        glottocode      = infobox_data[header_indices['Glottolog']].get_text('title')            if 'Glottolog' in header_indices else None\n",
    "\n",
    "        if 'Speakers' in header_indices.keys():\n",
    "            speakers = infobox_data[header_indices['Speakers']].text\n",
    "        elif 'Native speakers' in header_indices.keys():\n",
    "            speakers = infobox_data[header_indices['Native speakers']].text\n",
    "        else:\n",
    "            speakers = None\n",
    "\n",
    "        if 'Region' in header_indices.keys():\n",
    "            regions = infobox_data[header_indices['Region']].text\n",
    "        elif 'Native Region' in header_indices.keys():\n",
    "            regions = infobox_data[header_indices['Native Region']].text\n",
    "        else:\n",
    "            regions = None\n",
    "\n",
    "        family          = [x for x in infobox_data[header_indices['Language family']].get_text('title').split('title') if x != \"\\n\"]\\\n",
    "                            if 'Language family' in header_indices else None\n",
    "        \n",
    "        dialects        = [x for x in infobox_data[header_indices['Dialects']].get_text('title').split('title') if x != \"\\n\"] \\\n",
    "                            if 'Dialects' in header_indices else None\n",
    "\n",
    "        url             = str(url)\n",
    "        \n",
    "        # print('Regions: ', regions)\n",
    "        data.append((lang, family, dialects, iso3code, glottocode, speakers, regions, off_lang, rec_min_lang, url))\n",
    "    # except Exception as e: \n",
    "    #     errors.append((e, url))\n",
    "    #     continue\n",
    "\n",
    "df = pd.DataFrame(data, columns=['lang', 'family', 'dialects', 'iso3code', 'goglottocodettolog', 'speakers', 'regions', 'off_lang', 'rec_min_lang', 'url'])\n"
   ]
  },
  {
   "cell_type": "code",
   "execution_count": 7,
   "metadata": {},
   "outputs": [],
   "source": [
    "df.to_csv('wiki_languages_most_recent.csv')"
   ]
  },
  {
   "cell_type": "markdown",
   "metadata": {},
   "source": [
    "## CSV Generated, Edge Cases Observed: "
   ]
  },
  {
   "cell_type": "code",
   "execution_count": null,
   "metadata": {},
   "outputs": [],
   "source": [
    "# edge case observed in punjabi_language page: \n",
    "    # https://en.wikipedia.org/wiki/Punjabi_language\n",
    "    # for the family column:\n",
    "        # 'Indo-European, Indo-Iranian, Indo-Aryan, Northwestern zone, Punjabi'\n",
    "        # these values are originally in a list. after running the following code:  \n",
    "            cols = languages[languages['lang'].apply(lambda x: 'punjabi' in x.lower())].columns[1:]\n",
    "            for col in cols: \n",
    "                languages[col] = languages[col].apply(lambda x: [] if pd.isnull(x) else [x])\n",
    "            languages[languages['lang'].apply(lambda x: 'punjabi' in x.lower())]\n",
    "        # they are turned into an object, but appear as a nested list:\n",
    "            # [['Indo-European', 'Indo-Iranian', 'Indo-Aryan...\n",
    "        # when adding a line to the code: \n",
    "            cols = languages.columns[1:]\n",
    "            for col in cols: \n",
    "                languages[col] = languages[col].apply(lambda x: [] if pd.isnull(x) else [x])\n",
    "                languages[col] = languages[col].apply(lambda values: [x[:x.find('[')] if '[' in x else x for x in values])\n",
    "            languages[languages['lang'].apply(lambda x: 'punjabi' in x.lower())]\n",
    "        # they are still turned into an object, but appear as an empty list:\n",
    "            # []\n",
    "    # for the dialects column:\n",
    "        # Object: [['See', ' ', 'Punjabi dialects']]\n",
    "        # The above output does not change after running the first code block: \n",
    "            cols = languages[languages['lang'].apply(lambda x: 'punjabi' in x.lower())].columns[1:]\n",
    "            for col in cols: \n",
    "                languages[col] = languages[col].apply(lambda x: [] if pd.isnull(x) else [x])\n",
    "            languages[languages['lang'].apply(lambda x: 'punjabi' in x.lower())]\n",
    "        # After runningt the second code block, the output changes to:\n",
    "            # Object: []"
   ]
  },
  {
   "cell_type": "markdown",
   "metadata": {},
   "source": [
    "## Modifications to Previously Generated CSV for Data Cleaning:"
   ]
  },
  {
   "cell_type": "code",
   "execution_count": 61,
   "metadata": {},
   "outputs": [],
   "source": [
    "df = pd.read_csv('wiki_languages.csv')\n",
    "languages = df"
   ]
  },
  {
   "cell_type": "code",
   "execution_count": 58,
   "metadata": {},
   "outputs": [
    {
     "data": {
      "text/plain": [
       "array([False, False, False, False, False, False, False, False])"
      ]
     },
     "execution_count": 58,
     "metadata": {},
     "output_type": "execute_result"
    }
   ],
   "source": [
    "pd.isnull(languages[languages['lang'].apply(lambda x: 'punjabi' in x.lower())].columns)"
   ]
  },
  {
   "cell_type": "code",
   "execution_count": 63,
   "metadata": {},
   "outputs": [
    {
     "data": {
      "text/html": [
       "<div>\n",
       "<style scoped>\n",
       "    .dataframe tbody tr th:only-of-type {\n",
       "        vertical-align: middle;\n",
       "    }\n",
       "\n",
       "    .dataframe tbody tr th {\n",
       "        vertical-align: top;\n",
       "    }\n",
       "\n",
       "    .dataframe thead th {\n",
       "        text-align: right;\n",
       "    }\n",
       "</style>\n",
       "<table border=\"1\" class=\"dataframe\">\n",
       "  <thead>\n",
       "    <tr style=\"text-align: right;\">\n",
       "      <th></th>\n",
       "      <th>lang</th>\n",
       "      <th>family</th>\n",
       "      <th>dialects</th>\n",
       "      <th>iso3code</th>\n",
       "      <th>speakers</th>\n",
       "      <th>regions</th>\n",
       "      <th>off_lang</th>\n",
       "      <th>rec_min_lang</th>\n",
       "    </tr>\n",
       "  </thead>\n",
       "  <tbody>\n",
       "    <tr>\n",
       "      <th>196</th>\n",
       "      <td>Punjabi_language</td>\n",
       "      <td>['Indo-European', 'Indo-Iranian', 'Indo-Aryan'...</td>\n",
       "      <td>['See', ' ', 'Punjabi dialects']</td>\n",
       "      <td>Either:pan – Panjabipnb – Western Panjabi</td>\n",
       "      <td>NaN</td>\n",
       "      <td>Punjab</td>\n",
       "      <td>Pakistan\\n Punjab (provincial)[c][11]\\n India...</td>\n",
       "      <td>NaN</td>\n",
       "    </tr>\n",
       "  </tbody>\n",
       "</table>\n",
       "</div>"
      ],
      "text/plain": [
       "                 lang                                             family  \\\n",
       "196  Punjabi_language  ['Indo-European', 'Indo-Iranian', 'Indo-Aryan'...   \n",
       "\n",
       "                             dialects  \\\n",
       "196  ['See', ' ', 'Punjabi dialects']   \n",
       "\n",
       "                                      iso3code speakers regions  \\\n",
       "196  Either:pan – Panjabipnb – Western Panjabi      NaN  Punjab   \n",
       "\n",
       "                                              off_lang rec_min_lang  \n",
       "196   Pakistan\\n Punjab (provincial)[c][11]\\n India...          NaN  "
      ]
     },
     "execution_count": 63,
     "metadata": {},
     "output_type": "execute_result"
    }
   ],
   "source": [
    "languages[languages['lang'].apply(lambda x: 'punjabi' in x.lower())]"
   ]
  },
  {
   "cell_type": "code",
   "execution_count": 60,
   "metadata": {},
   "outputs": [
    {
     "data": {
      "text/html": [
       "<div>\n",
       "<style scoped>\n",
       "    .dataframe tbody tr th:only-of-type {\n",
       "        vertical-align: middle;\n",
       "    }\n",
       "\n",
       "    .dataframe tbody tr th {\n",
       "        vertical-align: top;\n",
       "    }\n",
       "\n",
       "    .dataframe thead th {\n",
       "        text-align: right;\n",
       "    }\n",
       "</style>\n",
       "<table border=\"1\" class=\"dataframe\">\n",
       "  <thead>\n",
       "    <tr style=\"text-align: right;\">\n",
       "      <th></th>\n",
       "      <th>lang</th>\n",
       "      <th>family</th>\n",
       "      <th>dialects</th>\n",
       "      <th>iso3code</th>\n",
       "      <th>speakers</th>\n",
       "      <th>regions</th>\n",
       "      <th>off_lang</th>\n",
       "      <th>rec_min_lang</th>\n",
       "    </tr>\n",
       "  </thead>\n",
       "  <tbody>\n",
       "    <tr>\n",
       "      <th>196</th>\n",
       "      <td>Punjabi_language</td>\n",
       "      <td>[['Indo-European', 'Indo-Iranian', 'Indo-Aryan...</td>\n",
       "      <td>[['See', ' ', 'Punjabi dialects']]</td>\n",
       "      <td>[Either:pan – Panjabipnb – Western Panjabi]</td>\n",
       "      <td>[]</td>\n",
       "      <td>[Punjab]</td>\n",
       "      <td>[ Pakistan\\n Punjab (provincial)[c][11]\\n Indi...</td>\n",
       "      <td>[]</td>\n",
       "    </tr>\n",
       "  </tbody>\n",
       "</table>\n",
       "</div>"
      ],
      "text/plain": [
       "                 lang                                             family  \\\n",
       "196  Punjabi_language  [['Indo-European', 'Indo-Iranian', 'Indo-Aryan...   \n",
       "\n",
       "                               dialects  \\\n",
       "196  [['See', ' ', 'Punjabi dialects']]   \n",
       "\n",
       "                                        iso3code speakers   regions  \\\n",
       "196  [Either:pan – Panjabipnb – Western Panjabi]       []  [Punjab]   \n",
       "\n",
       "                                              off_lang rec_min_lang  \n",
       "196  [ Pakistan\\n Punjab (provincial)[c][11]\\n Indi...           []  "
      ]
     },
     "execution_count": 60,
     "metadata": {},
     "output_type": "execute_result"
    }
   ],
   "source": [
    "cols = languages[languages['lang'].apply(lambda x: 'punjabi' in x.lower())].columns[1:]\n",
    "for col in cols: \n",
    "    languages[col] = languages[col].apply(lambda x: [] if pd.isnull(x) else [x])\n",
    "languages[languages['lang'].apply(lambda x: 'punjabi' in x.lower())]"
   ]
  },
  {
   "cell_type": "code",
   "execution_count": 67,
   "metadata": {},
   "outputs": [
    {
     "data": {
      "text/html": [
       "<div>\n",
       "<style scoped>\n",
       "    .dataframe tbody tr th:only-of-type {\n",
       "        vertical-align: middle;\n",
       "    }\n",
       "\n",
       "    .dataframe tbody tr th {\n",
       "        vertical-align: top;\n",
       "    }\n",
       "\n",
       "    .dataframe thead th {\n",
       "        text-align: right;\n",
       "    }\n",
       "</style>\n",
       "<table border=\"1\" class=\"dataframe\">\n",
       "  <thead>\n",
       "    <tr style=\"text-align: right;\">\n",
       "      <th></th>\n",
       "      <th>lang</th>\n",
       "      <th>family</th>\n",
       "      <th>dialects</th>\n",
       "      <th>iso3code</th>\n",
       "      <th>speakers</th>\n",
       "      <th>regions</th>\n",
       "      <th>off_lang</th>\n",
       "      <th>rec_min_lang</th>\n",
       "    </tr>\n",
       "  </thead>\n",
       "  <tbody>\n",
       "    <tr>\n",
       "      <th>6</th>\n",
       "      <td>Nahuatl_language</td>\n",
       "      <td>['Uto-Aztecan', 'Southern Uto-Aztecan', 'Nahua...</td>\n",
       "      <td>['Western Peripheral Nahuatl', 'Eastern Periph...</td>\n",
       "      <td>nhe Huasteca NahuatlFor other varieties, see N...</td>\n",
       "      <td>NaN</td>\n",
       "      <td>Mexico: Puebla Veracruz Hidalgo Guerrero San L...</td>\n",
       "      <td>Mexico (through the General Law of Linguistic...</td>\n",
       "      <td>NaN</td>\n",
       "    </tr>\n",
       "    <tr>\n",
       "      <th>21</th>\n",
       "      <td>Odia_language</td>\n",
       "      <td>['Indo-European', 'Indo-Iranian', 'Indo-Aryan'...</td>\n",
       "      <td>['Northern', ', Central, ', 'Southern', ', ', ...</td>\n",
       "      <td>ori – inclusive codeIndividual codes:ory – Odi...</td>\n",
       "      <td>NaN</td>\n",
       "      <td>Odisha[a]</td>\n",
       "      <td>India\\nOdisha\\nJharkhand[3] (additional)\\nWes...</td>\n",
       "      <td>NaN</td>\n",
       "    </tr>\n",
       "    <tr>\n",
       "      <th>23</th>\n",
       "      <td>Kendeje_language</td>\n",
       "      <td>['Nilo-Saharan', '?\\n', 'Maban', 'Kenjeje']</td>\n",
       "      <td>['Yaali', 'Faranga']</td>\n",
       "      <td>klf</td>\n",
       "      <td>NaN</td>\n",
       "      <td>Ouaddaï</td>\n",
       "      <td>NaN</td>\n",
       "      <td>NaN</td>\n",
       "    </tr>\n",
       "    <tr>\n",
       "      <th>24</th>\n",
       "      <td>Hindko</td>\n",
       "      <td>['Indo-European', 'Indo-Iranian', 'Indo-Aryan'...</td>\n",
       "      <td>['Peshawari', 'Kohati', 'Awankari', ', ', 'Ghe...</td>\n",
       "      <td>Either:hnd – Southern Hindkohno – Northern Hindko</td>\n",
       "      <td>NaN</td>\n",
       "      <td>Hazara Division, Peshawar, Kohat, Pothohar</td>\n",
       "      <td>NaN</td>\n",
       "      <td>NaN</td>\n",
       "    </tr>\n",
       "    <tr>\n",
       "      <th>26</th>\n",
       "      <td>Fon_language</td>\n",
       "      <td>['Niger–Congo', '?\\n', 'Atlantic–Congo', 'Volt...</td>\n",
       "      <td>['Agbome', 'Arohun', 'Gbekon', 'Kpase']</td>\n",
       "      <td>fon</td>\n",
       "      <td>NaN</td>\n",
       "      <td>NaN</td>\n",
       "      <td>Benin</td>\n",
       "      <td>NaN</td>\n",
       "    </tr>\n",
       "    <tr>\n",
       "      <th>...</th>\n",
       "      <td>...</td>\n",
       "      <td>...</td>\n",
       "      <td>...</td>\n",
       "      <td>...</td>\n",
       "      <td>...</td>\n",
       "      <td>...</td>\n",
       "      <td>...</td>\n",
       "      <td>...</td>\n",
       "    </tr>\n",
       "    <tr>\n",
       "      <th>1297</th>\n",
       "      <td>Coptic_language</td>\n",
       "      <td>['Afro-Asiatic', 'Egyptian', 'Coptic']</td>\n",
       "      <td>['Bohairic', 'Sahidic', 'Akhmimic', 'Lycopolit...</td>\n",
       "      <td>cop</td>\n",
       "      <td>NaN</td>\n",
       "      <td>NaN</td>\n",
       "      <td>NaN</td>\n",
       "      <td>NaN</td>\n",
       "    </tr>\n",
       "    <tr>\n",
       "      <th>1303</th>\n",
       "      <td>Sundanese_language</td>\n",
       "      <td>['Austronesian', 'Malayo-Polynesian', 'dispute...</td>\n",
       "      <td>['Baduy', ' (considered a separate language)',...</td>\n",
       "      <td>Variously:sun – Sundanesebac – Baduy Sundanese...</td>\n",
       "      <td>NaN</td>\n",
       "      <td>West Java, Banten, Jakarta, small parts of wes...</td>\n",
       "      <td>NaN</td>\n",
       "      <td>NaN</td>\n",
       "    </tr>\n",
       "    <tr>\n",
       "      <th>1307</th>\n",
       "      <td>Chhattisgarhi</td>\n",
       "      <td>['Indo-European', 'Indo-Iranian', 'Indo-Aryan'...</td>\n",
       "      <td>['Surgujia']</td>\n",
       "      <td>Either:hne – Chhattisgarhisgj – Surgujia</td>\n",
       "      <td>NaN</td>\n",
       "      <td>Chhattisgarh and a minority of speakers in Odi...</td>\n",
       "      <td>India\\nChhattisgarh (additional)[2]\\n</td>\n",
       "      <td>NaN</td>\n",
       "    </tr>\n",
       "    <tr>\n",
       "      <th>1310</th>\n",
       "      <td>Herero_language</td>\n",
       "      <td>['Niger–Congo', '?\\n', 'Atlantic–Congo', 'Volt...</td>\n",
       "      <td>['Himba', 'Kuvale', 'Zemba', ' (Thimba, ', 'Ot...</td>\n",
       "      <td>her  Herero</td>\n",
       "      <td>NaN</td>\n",
       "      <td>Kunene, Omaheke Region and Otjozondjupa Region...</td>\n",
       "      <td>NaN</td>\n",
       "      <td>NaN</td>\n",
       "    </tr>\n",
       "    <tr>\n",
       "      <th>1327</th>\n",
       "      <td>Yapese_language</td>\n",
       "      <td>['Austronesian', 'Malayo-Polynesian', 'Oceanic...</td>\n",
       "      <td>['Nguluwan']</td>\n",
       "      <td>yap</td>\n",
       "      <td>NaN</td>\n",
       "      <td>Island of Yap</td>\n",
       "      <td>NaN</td>\n",
       "      <td>NaN</td>\n",
       "    </tr>\n",
       "  </tbody>\n",
       "</table>\n",
       "<p>213 rows × 8 columns</p>\n",
       "</div>"
      ],
      "text/plain": [
       "                    lang                                             family  \\\n",
       "6       Nahuatl_language  ['Uto-Aztecan', 'Southern Uto-Aztecan', 'Nahua...   \n",
       "21         Odia_language  ['Indo-European', 'Indo-Iranian', 'Indo-Aryan'...   \n",
       "23      Kendeje_language        ['Nilo-Saharan', '?\\n', 'Maban', 'Kenjeje']   \n",
       "24                Hindko  ['Indo-European', 'Indo-Iranian', 'Indo-Aryan'...   \n",
       "26          Fon_language  ['Niger–Congo', '?\\n', 'Atlantic–Congo', 'Volt...   \n",
       "...                  ...                                                ...   \n",
       "1297     Coptic_language             ['Afro-Asiatic', 'Egyptian', 'Coptic']   \n",
       "1303  Sundanese_language  ['Austronesian', 'Malayo-Polynesian', 'dispute...   \n",
       "1307       Chhattisgarhi  ['Indo-European', 'Indo-Iranian', 'Indo-Aryan'...   \n",
       "1310     Herero_language  ['Niger–Congo', '?\\n', 'Atlantic–Congo', 'Volt...   \n",
       "1327     Yapese_language  ['Austronesian', 'Malayo-Polynesian', 'Oceanic...   \n",
       "\n",
       "                                               dialects  \\\n",
       "6     ['Western Peripheral Nahuatl', 'Eastern Periph...   \n",
       "21    ['Northern', ', Central, ', 'Southern', ', ', ...   \n",
       "23                                 ['Yaali', 'Faranga']   \n",
       "24    ['Peshawari', 'Kohati', 'Awankari', ', ', 'Ghe...   \n",
       "26              ['Agbome', 'Arohun', 'Gbekon', 'Kpase']   \n",
       "...                                                 ...   \n",
       "1297  ['Bohairic', 'Sahidic', 'Akhmimic', 'Lycopolit...   \n",
       "1303  ['Baduy', ' (considered a separate language)',...   \n",
       "1307                                       ['Surgujia']   \n",
       "1310  ['Himba', 'Kuvale', 'Zemba', ' (Thimba, ', 'Ot...   \n",
       "1327                                       ['Nguluwan']   \n",
       "\n",
       "                                               iso3code speakers  \\\n",
       "6     nhe Huasteca NahuatlFor other varieties, see N...      NaN   \n",
       "21    ori – inclusive codeIndividual codes:ory – Odi...      NaN   \n",
       "23                                                  klf      NaN   \n",
       "24    Either:hnd – Southern Hindkohno – Northern Hindko      NaN   \n",
       "26                                                  fon      NaN   \n",
       "...                                                 ...      ...   \n",
       "1297                                                cop      NaN   \n",
       "1303  Variously:sun – Sundanesebac – Baduy Sundanese...      NaN   \n",
       "1307           Either:hne – Chhattisgarhisgj – Surgujia      NaN   \n",
       "1310                                        her  Herero      NaN   \n",
       "1327                                                yap      NaN   \n",
       "\n",
       "                                                regions  \\\n",
       "6     Mexico: Puebla Veracruz Hidalgo Guerrero San L...   \n",
       "21                                            Odisha[a]   \n",
       "23                                              Ouaddaï   \n",
       "24           Hazara Division, Peshawar, Kohat, Pothohar   \n",
       "26                                                  NaN   \n",
       "...                                                 ...   \n",
       "1297                                                NaN   \n",
       "1303  West Java, Banten, Jakarta, small parts of wes...   \n",
       "1307  Chhattisgarh and a minority of speakers in Odi...   \n",
       "1310  Kunene, Omaheke Region and Otjozondjupa Region...   \n",
       "1327                                      Island of Yap   \n",
       "\n",
       "                                               off_lang rec_min_lang  \n",
       "6      Mexico (through the General Law of Linguistic...          NaN  \n",
       "21     India\\nOdisha\\nJharkhand[3] (additional)\\nWes...          NaN  \n",
       "23                                                  NaN          NaN  \n",
       "24                                                  NaN          NaN  \n",
       "26                                                Benin          NaN  \n",
       "...                                                 ...          ...  \n",
       "1297                                                NaN          NaN  \n",
       "1303                                                NaN          NaN  \n",
       "1307              India\\nChhattisgarh (additional)[2]\\n          NaN  \n",
       "1310                                                NaN          NaN  \n",
       "1327                                                NaN          NaN  \n",
       "\n",
       "[213 rows x 8 columns]"
      ]
     },
     "execution_count": 67,
     "metadata": {},
     "output_type": "execute_result"
    }
   ],
   "source": [
    "languages[~languages['dialects'].isnull()]"
   ]
  },
  {
   "cell_type": "code",
   "execution_count": 56,
   "metadata": {},
   "outputs": [
    {
     "data": {
      "text/html": [
       "<div>\n",
       "<style scoped>\n",
       "    .dataframe tbody tr th:only-of-type {\n",
       "        vertical-align: middle;\n",
       "    }\n",
       "\n",
       "    .dataframe tbody tr th {\n",
       "        vertical-align: top;\n",
       "    }\n",
       "\n",
       "    .dataframe thead th {\n",
       "        text-align: right;\n",
       "    }\n",
       "</style>\n",
       "<table border=\"1\" class=\"dataframe\">\n",
       "  <thead>\n",
       "    <tr style=\"text-align: right;\">\n",
       "      <th></th>\n",
       "      <th>lang</th>\n",
       "      <th>family</th>\n",
       "      <th>dialects</th>\n",
       "      <th>iso3code</th>\n",
       "      <th>speakers</th>\n",
       "      <th>regions</th>\n",
       "      <th>off_lang</th>\n",
       "      <th>rec_min_lang</th>\n",
       "    </tr>\n",
       "  </thead>\n",
       "  <tbody>\n",
       "    <tr>\n",
       "      <th>196</th>\n",
       "      <td>Punjabi_language</td>\n",
       "      <td>[]</td>\n",
       "      <td>[]</td>\n",
       "      <td>[Either:pan – Panjabipnb – Western Panjabi]</td>\n",
       "      <td>[]</td>\n",
       "      <td>[Punjab]</td>\n",
       "      <td>[ Pakistan\\n Punjab (provincial)]</td>\n",
       "      <td>[]</td>\n",
       "    </tr>\n",
       "  </tbody>\n",
       "</table>\n",
       "</div>"
      ],
      "text/plain": [
       "                 lang family dialects  \\\n",
       "196  Punjabi_language     []       []   \n",
       "\n",
       "                                        iso3code speakers   regions  \\\n",
       "196  [Either:pan – Panjabipnb – Western Panjabi]       []  [Punjab]   \n",
       "\n",
       "                              off_lang rec_min_lang  \n",
       "196  [ Pakistan\\n Punjab (provincial)]           []  "
      ]
     },
     "execution_count": 56,
     "metadata": {},
     "output_type": "execute_result"
    }
   ],
   "source": [
    "cols = languages.columns[1:]\n",
    "for col in cols: \n",
    "    languages[col] = languages[col].apply(lambda x: [] if pd.isnull(x) else [x])\n",
    "    languages[col] = languages[col].apply(lambda values: [x[:x.find('[')] if '[' in x else x for x in values])\n",
    "languages[languages['lang'].apply(lambda x: 'punjabi' in x.lower())]"
   ]
  },
  {
   "cell_type": "code",
   "execution_count": 22,
   "metadata": {},
   "outputs": [
    {
     "data": {
      "text/html": [
       "<div>\n",
       "<style scoped>\n",
       "    .dataframe tbody tr th:only-of-type {\n",
       "        vertical-align: middle;\n",
       "    }\n",
       "\n",
       "    .dataframe tbody tr th {\n",
       "        vertical-align: top;\n",
       "    }\n",
       "\n",
       "    .dataframe thead th {\n",
       "        text-align: right;\n",
       "    }\n",
       "</style>\n",
       "<table border=\"1\" class=\"dataframe\">\n",
       "  <thead>\n",
       "    <tr style=\"text-align: right;\">\n",
       "      <th></th>\n",
       "      <th>lang</th>\n",
       "      <th>family</th>\n",
       "      <th>dialects</th>\n",
       "      <th>iso3code</th>\n",
       "      <th>speakers</th>\n",
       "      <th>regions</th>\n",
       "      <th>off_lang</th>\n",
       "      <th>rec_min_lang</th>\n",
       "    </tr>\n",
       "  </thead>\n",
       "  <tbody>\n",
       "    <tr>\n",
       "      <th>196</th>\n",
       "      <td>Punjabi_language</td>\n",
       "      <td>[]</td>\n",
       "      <td>[]</td>\n",
       "      <td>[Either:pan – Panjabipnb – Western Panjabi]</td>\n",
       "      <td>[]</td>\n",
       "      <td>[Punjab]</td>\n",
       "      <td>[ Pakistan\\n Punjab (provincial)]</td>\n",
       "      <td>[]</td>\n",
       "    </tr>\n",
       "  </tbody>\n",
       "</table>\n",
       "</div>"
      ],
      "text/plain": [
       "                 lang family dialects  \\\n",
       "196  Punjabi_language     []       []   \n",
       "\n",
       "                                        iso3code speakers   regions  \\\n",
       "196  [Either:pan – Panjabipnb – Western Panjabi]       []  [Punjab]   \n",
       "\n",
       "                              off_lang rec_min_lang  \n",
       "196  [ Pakistan\\n Punjab (provincial)]           []  "
      ]
     },
     "execution_count": 22,
     "metadata": {},
     "output_type": "execute_result"
    }
   ],
   "source": [
    "languages[languages['lang'].apply(lambda x: 'punjabi' in x.lower())]"
   ]
  },
  {
   "cell_type": "code",
   "execution_count": 21,
   "metadata": {},
   "outputs": [
    {
     "data": {
      "text/html": [
       "<div>\n",
       "<style scoped>\n",
       "    .dataframe tbody tr th:only-of-type {\n",
       "        vertical-align: middle;\n",
       "    }\n",
       "\n",
       "    .dataframe tbody tr th {\n",
       "        vertical-align: top;\n",
       "    }\n",
       "\n",
       "    .dataframe thead th {\n",
       "        text-align: right;\n",
       "    }\n",
       "</style>\n",
       "<table border=\"1\" class=\"dataframe\">\n",
       "  <thead>\n",
       "    <tr style=\"text-align: right;\">\n",
       "      <th></th>\n",
       "      <th>lang</th>\n",
       "      <th>family</th>\n",
       "      <th>dialects</th>\n",
       "      <th>iso3code</th>\n",
       "      <th>speakers</th>\n",
       "      <th>regions</th>\n",
       "      <th>off_lang</th>\n",
       "      <th>rec_min_lang</th>\n",
       "    </tr>\n",
       "  </thead>\n",
       "  <tbody>\n",
       "    <tr>\n",
       "      <th>0</th>\n",
       "      <td>Hong_Kong_Special_Administration_Region</td>\n",
       "      <td>[]</td>\n",
       "      <td>[]</td>\n",
       "      <td>[]</td>\n",
       "      <td>[]</td>\n",
       "      <td>[]</td>\n",
       "      <td>[]</td>\n",
       "      <td>[]</td>\n",
       "    </tr>\n",
       "    <tr>\n",
       "      <th>1</th>\n",
       "      <td>Adai_language</td>\n",
       "      <td>[]</td>\n",
       "      <td>[]</td>\n",
       "      <td>[xad]</td>\n",
       "      <td>[]</td>\n",
       "      <td>[Louisiana]</td>\n",
       "      <td>[]</td>\n",
       "      <td>[]</td>\n",
       "    </tr>\n",
       "    <tr>\n",
       "      <th>2</th>\n",
       "      <td>Northern_Ireland</td>\n",
       "      <td>[]</td>\n",
       "      <td>[]</td>\n",
       "      <td>[]</td>\n",
       "      <td>[]</td>\n",
       "      <td>[]</td>\n",
       "      <td>[]</td>\n",
       "      <td>[]</td>\n",
       "    </tr>\n",
       "    <tr>\n",
       "      <th>3</th>\n",
       "      <td>Kapampangan_language</td>\n",
       "      <td>[]</td>\n",
       "      <td>[]</td>\n",
       "      <td>[pam]</td>\n",
       "      <td>[]</td>\n",
       "      <td>[Central Luzon (entirety of Pampanga, southern...</td>\n",
       "      <td>[Angeles City]</td>\n",
       "      <td>[Regional language of the Philippines]</td>\n",
       "    </tr>\n",
       "    <tr>\n",
       "      <th>4</th>\n",
       "      <td>Vlax_Romani_language</td>\n",
       "      <td>[]</td>\n",
       "      <td>[]</td>\n",
       "      <td>[rmy]</td>\n",
       "      <td>[]</td>\n",
       "      <td>[]</td>\n",
       "      <td>[]</td>\n",
       "      <td>[Hungary, Romania, Poland, and Serbia]</td>\n",
       "    </tr>\n",
       "    <tr>\n",
       "      <th>...</th>\n",
       "      <td>...</td>\n",
       "      <td>...</td>\n",
       "      <td>...</td>\n",
       "      <td>...</td>\n",
       "      <td>...</td>\n",
       "      <td>...</td>\n",
       "      <td>...</td>\n",
       "      <td>...</td>\n",
       "    </tr>\n",
       "    <tr>\n",
       "      <th>1325</th>\n",
       "      <td>Maguindanao</td>\n",
       "      <td>[]</td>\n",
       "      <td>[]</td>\n",
       "      <td>[]</td>\n",
       "      <td>[]</td>\n",
       "      <td>[]</td>\n",
       "      <td>[]</td>\n",
       "      <td>[]</td>\n",
       "    </tr>\n",
       "    <tr>\n",
       "      <th>1326</th>\n",
       "      <td>Aas%C3%A1x</td>\n",
       "      <td>[]</td>\n",
       "      <td>[]</td>\n",
       "      <td>[aas]</td>\n",
       "      <td>[]</td>\n",
       "      <td>[Tanzania]</td>\n",
       "      <td>[]</td>\n",
       "      <td>[]</td>\n",
       "    </tr>\n",
       "    <tr>\n",
       "      <th>1327</th>\n",
       "      <td>Yapese_language</td>\n",
       "      <td>[]</td>\n",
       "      <td>[]</td>\n",
       "      <td>[yap]</td>\n",
       "      <td>[]</td>\n",
       "      <td>[Island of Yap]</td>\n",
       "      <td>[]</td>\n",
       "      <td>[]</td>\n",
       "    </tr>\n",
       "    <tr>\n",
       "      <th>1328</th>\n",
       "      <td>Yanesha%27_language</td>\n",
       "      <td>[]</td>\n",
       "      <td>[]</td>\n",
       "      <td>[ame]</td>\n",
       "      <td>[]</td>\n",
       "      <td>[Department of Pasco]</td>\n",
       "      <td>[]</td>\n",
       "      <td>[]</td>\n",
       "    </tr>\n",
       "    <tr>\n",
       "      <th>1329</th>\n",
       "      <td>Guyana</td>\n",
       "      <td>[]</td>\n",
       "      <td>[]</td>\n",
       "      <td>[]</td>\n",
       "      <td>[]</td>\n",
       "      <td>[]</td>\n",
       "      <td>[]</td>\n",
       "      <td>[]</td>\n",
       "    </tr>\n",
       "  </tbody>\n",
       "</table>\n",
       "<p>1330 rows × 8 columns</p>\n",
       "</div>"
      ],
      "text/plain": [
       "                                         lang family dialects iso3code  \\\n",
       "0     Hong_Kong_Special_Administration_Region     []       []       []   \n",
       "1                               Adai_language     []       []    [xad]   \n",
       "2                            Northern_Ireland     []       []       []   \n",
       "3                        Kapampangan_language     []       []    [pam]   \n",
       "4                        Vlax_Romani_language     []       []    [rmy]   \n",
       "...                                       ...    ...      ...      ...   \n",
       "1325                              Maguindanao     []       []       []   \n",
       "1326                               Aas%C3%A1x     []       []    [aas]   \n",
       "1327                          Yapese_language     []       []    [yap]   \n",
       "1328                      Yanesha%27_language     []       []    [ame]   \n",
       "1329                                   Guyana     []       []       []   \n",
       "\n",
       "     speakers                                            regions  \\\n",
       "0          []                                                 []   \n",
       "1          []                                        [Louisiana]   \n",
       "2          []                                                 []   \n",
       "3          []  [Central Luzon (entirety of Pampanga, southern...   \n",
       "4          []                                                 []   \n",
       "...       ...                                                ...   \n",
       "1325       []                                                 []   \n",
       "1326       []                                         [Tanzania]   \n",
       "1327       []                                    [Island of Yap]   \n",
       "1328       []                              [Department of Pasco]   \n",
       "1329       []                                                 []   \n",
       "\n",
       "            off_lang                            rec_min_lang  \n",
       "0                 []                                      []  \n",
       "1                 []                                      []  \n",
       "2                 []                                      []  \n",
       "3     [Angeles City]  [Regional language of the Philippines]  \n",
       "4                 []  [Hungary, Romania, Poland, and Serbia]  \n",
       "...              ...                                     ...  \n",
       "1325              []                                      []  \n",
       "1326              []                                      []  \n",
       "1327              []                                      []  \n",
       "1328              []                                      []  \n",
       "1329              []                                      []  \n",
       "\n",
       "[1330 rows x 8 columns]"
      ]
     },
     "execution_count": 21,
     "metadata": {},
     "output_type": "execute_result"
    }
   ],
   "source": [
    "languages"
   ]
  },
  {
   "cell_type": "code",
   "execution_count": 2,
   "metadata": {},
   "outputs": [],
   "source": [
    "# unesco_languages"
   ]
  },
  {
   "cell_type": "code",
   "execution_count": 1,
   "metadata": {},
   "outputs": [],
   "source": [
    "# languages = languages.merge(unesco_languages, left_on='lang', right_on='Name in English')\n",
    "# print(languages.columns)\n",
    "# languages"
   ]
  }
 ],
 "metadata": {
  "kernelspec": {
   "display_name": "Python 3",
   "language": "python",
   "name": "python3"
  },
  "language_info": {
   "codemirror_mode": {
    "name": "ipython",
    "version": 3
   },
   "file_extension": ".py",
   "mimetype": "text/x-python",
   "name": "python",
   "nbconvert_exporter": "python",
   "pygments_lexer": "ipython3",
   "version": "3.12.1"
  }
 },
 "nbformat": 4,
 "nbformat_minor": 2
}
